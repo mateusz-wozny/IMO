{
  "cells": [
    {
      "cell_type": "markdown",
      "metadata": {
        "id": "view-in-github",
        "colab_type": "text"
      },
      "source": [
        "<a href=\"https://colab.research.google.com/github/mateusz-wozny/IMO/blob/main/GreedyCycle2.ipynb\" target=\"_parent\"><img src=\"https://colab.research.google.com/assets/colab-badge.svg\" alt=\"Open In Colab\"/></a>"
      ]
    },
    {
      "cell_type": "markdown",
      "source": [
        "# LAB 1"
      ],
      "metadata": {
        "id": "hcheA6Ucmp5Y"
      }
    },
    {
      "cell_type": "code",
      "execution_count": 14,
      "metadata": {
        "id": "t_iTpIQaaJkx"
      },
      "outputs": [],
      "source": [
        "import numpy as np\n",
        "import random\n",
        "import matplotlib.pyplot as plt\n",
        "import pandas as pd"
      ]
    },
    {
      "cell_type": "code",
      "execution_count": 15,
      "metadata": {
        "id": "9R79sSbTaJk9"
      },
      "outputs": [],
      "source": [
        "def createDistanceMatrix(vertices):\n",
        "  outputMatrix = [[round(np.sqrt((x2 - x1) ** 2 + (y2 - y1) ** 2)) for (x2, y2) in vertices] for (x1, y1) in vertices]\n",
        "  return np.array(outputMatrix)"
      ]
    },
    {
      "cell_type": "code",
      "execution_count": 16,
      "metadata": {
        "id": "4RT453NPaJlA"
      },
      "outputs": [],
      "source": [
        "def chooseNearestVertex(matrix, used_vertexes, node):\n",
        "  return np.argmin([matrix[node][i] if i not in used_vertexes and i != node else float('inf') for i in range(0, len(matrix[node]))])"
      ]
    },
    {
      "cell_type": "code",
      "execution_count": 17,
      "metadata": {
        "id": "WQuZcsYjaJlB"
      },
      "outputs": [],
      "source": [
        "def calculateCycleLength(matrix, vertexes):\n",
        "  length = 0\n",
        "  for graph in vertexes:\n",
        "    length += np.sum([matrix[ graph[idx], graph[idx+1] ] for idx in range(len(graph) - 1)])\n",
        "\n",
        "#   print(length)\n",
        "  return length"
      ]
    },
    {
      "cell_type": "code",
      "source": [
        "def find_nearest(matrix, lista, unvisited):\n",
        "    df = matrix[:, lista][unvisited, :]\n",
        "    indx, indy = np.unravel_index(df.argmin(), df.shape)\n",
        "    return unvisited[indx], lista[indy]"
      ],
      "metadata": {
        "id": "on8vtbVeijdR"
      },
      "execution_count": 18,
      "outputs": []
    },
    {
      "cell_type": "code",
      "source": [
        "def random_heuristic(matrix, start):\n",
        "    N = matrix.shape[0]\n",
        "    a = random.sample(range(N), N)\n",
        "    list1 = a[:N//2]\n",
        "    list1.append(list1[0])\n",
        "    list2 = a[N//2:]\n",
        "    list2.append(list2[0])\n",
        "    return [list1, list2]"
      ],
      "metadata": {
        "id": "j8vaOUcMi6TD"
      },
      "execution_count": 19,
      "outputs": []
    },
    {
      "cell_type": "code",
      "source": [
        "def nearest_neighbor(matrix, start):\n",
        "    end = np.argmax(matrix[start, :])\n",
        "    unvisited = list(range(matrix.shape[0]))\n",
        "    unvisited.remove(start)\n",
        "    unvisited.remove(end)\n",
        "    list1 = [start]\n",
        "    list2 = [end]\n",
        "    while len(unvisited) != 0:\n",
        "        nearest, vertex = find_nearest(matrix, list1, unvisited)\n",
        "        list1.insert(list1.index(vertex) + 1, nearest)\n",
        "        unvisited.remove(nearest)\n",
        "        if len(unvisited) == 0:\n",
        "          break\n",
        "        nearest, vertex = find_nearest(matrix, list2, unvisited)\n",
        "        list2.insert(list2.index(vertex) + 1, nearest)\n",
        "        unvisited.remove(nearest)\n",
        "    list1.append(start)\n",
        "    list2.append(end)\n",
        "\n",
        "    return [list1, list2]"
      ],
      "metadata": {
        "id": "F0mhZ3PRdt_o"
      },
      "execution_count": 20,
      "outputs": []
    },
    {
      "cell_type": "code",
      "execution_count": 21,
      "metadata": {
        "id": "2HNlZ_dTaJlC"
      },
      "outputs": [],
      "source": [
        "def greedyCycle(matrix, start_node):\n",
        "    #Starting node 2\n",
        "    start_node_2 = np.argmax(matrix[start_node])\n",
        "\n",
        "    #Choosing nearest vertex for cycles\n",
        "    closest_node_1 = chooseNearestVertex(matrix, [start_node, start_node_2], start_node)\n",
        "    closest_node_2 = chooseNearestVertex(matrix, [start_node, start_node_2, closest_node_1], start_node_2)\n",
        "\n",
        "    #Creating cycles\n",
        "    cycles = []\n",
        "    cycles.append([start_node, closest_node_1, start_node])\n",
        "    cycles.append([start_node_2, closest_node_2, start_node_2])\n",
        "\n",
        "    #Calculating cycles\n",
        "    while len(cycles[0])+len(cycles[1]) != len(matrix)+2:\n",
        "        if len(cycles[0]) <= len(cycles[1]):\n",
        "            visited = cycles[0]\n",
        "        else:\n",
        "            visited = cycles[1]\n",
        "\n",
        "        z = np.inf\n",
        "        x = np.inf\n",
        "        c = np.inf\n",
        "\n",
        "        for i in visited:\n",
        "            nearest = chooseNearestVertex(matrix, np.concatenate([cycles[0], cycles[1]]), i)\n",
        "            for j in range(len(visited) - 1):\n",
        "                value = matrix[visited[j], nearest] + matrix[visited[j+1], nearest] - matrix[visited[j], visited[j+1]]\n",
        "                if value < z:\n",
        "                    z = value\n",
        "                    x = j + 1\n",
        "                    c = nearest\n",
        "\n",
        "        if len(cycles[0]) <= len(cycles[1]):\n",
        "            cycles[0].insert(x, c)\n",
        "        else:\n",
        "            cycles[1].insert(x, c)\n",
        "\n",
        "    return cycles"
      ]
    },
    {
      "cell_type": "code",
      "source": [
        "def two_regret(matrix, start_node):\n",
        "    start_node_2 = np.argmax(matrix[start_node])\n",
        "\n",
        "    closest_node_1 = chooseNearestVertex(matrix, [start_node, start_node_2], start_node)\n",
        "    closest_node_2 = chooseNearestVertex(matrix, [start_node, start_node_2, closest_node_1], start_node_2)\n",
        "\n",
        "    cycles = []\n",
        "    cycles.append([start_node, closest_node_1, start_node])\n",
        "    cycles.append([start_node_2, closest_node_2, start_node_2])\n",
        "\n",
        "    while len(cycles[0])+len(cycles[1]) != len(matrix)+2:\n",
        "        if len(cycles[0]) <= len(cycles[1]):\n",
        "            visited = cycles[0]\n",
        "        else:\n",
        "            visited = cycles[1]\n",
        "        z = -np.inf\n",
        "        x = np.inf\n",
        "        c = np.inf\n",
        "        for i in visited:\n",
        "            nearest = chooseNearestVertex(matrix, np.concatenate([cycles[0], cycles[1]]), i)\n",
        "            values = {}\n",
        "            for j in range(len(visited) - 1):\n",
        "                value = matrix[visited[j], nearest] + matrix[visited[j+1], nearest] - matrix[visited[j], visited[j+1]]\n",
        "                values.update({j:value})\n",
        "            values = dict(sorted(values.items(), key= lambda x:x[1]))\n",
        "            keys = list(values.keys())\n",
        "            value = values[keys[1]] - 1.5*values[keys[0]]\n",
        "            if value > z:\n",
        "                z = value\n",
        "                x = keys[0] + 1\n",
        "                c = nearest\n",
        "\n",
        "            \n",
        "        if len(cycles[0]) <= len(cycles[1]):\n",
        "                cycles[0].insert(x, c)\n",
        "        else:\n",
        "                cycles[1].insert(x, c)\n",
        "\n",
        "    return cycles"
      ],
      "metadata": {
        "id": "c-GqG66D2uCV"
      },
      "execution_count": 22,
      "outputs": []
    },
    {
      "cell_type": "code",
      "execution_count": 23,
      "metadata": {
        "id": "lFHdnNWMaJlF"
      },
      "outputs": [],
      "source": [
        "def draw_plot(vertices, visited, length, filename):\n",
        "  for graph in visited:\n",
        "    x = vertices[graph, 0]\n",
        "    y = vertices[graph,1]\n",
        "    plt.plot(x, y)\n",
        "  plt.scatter(vertices[:, 0], vertices[:, 1], color='red')\n",
        "  plt.suptitle(f'score: {int(length)}')\n",
        "  plt.savefig(f'{filename}.jpg')\n",
        "  plt.show()"
      ]
    },
    {
      "cell_type": "code",
      "source": [
        "def draw_best(ver_data, lengths, heuris, filename):\n",
        "  best_start_node = np.argmin(lengths)\n",
        "  distance_matrix = createDistanceMatrix(ver_data)\n",
        "  vertexes = heuris(distance_matrix, best_start_node)\n",
        "  min_length = lengths[best_start_node]\n",
        "  draw_plot(ver_data, vertexes, min_length, filename)"
      ],
      "metadata": {
        "id": "90EzhrkO48Lu"
      },
      "execution_count": 24,
      "outputs": []
    },
    {
      "cell_type": "code",
      "execution_count": 31,
      "metadata": {
        "id": "8OT_IVevaJlH"
      },
      "outputs": [],
      "source": [
        "def test(n, heuris, ver_data):\n",
        "  distance_matrix = createDistanceMatrix(ver_data)\n",
        "  lengths = []\n",
        "  for i in range(n):\n",
        "    start_node = i\n",
        "    vertexes = heuris(distance_matrix, start_node)\n",
        "    length = calculateCycleLength(distance_matrix, vertexes)\n",
        "    lengths.append(length)\n",
        "  return lengths"
      ]
    },
    {
      "cell_type": "code",
      "execution_count": null,
      "metadata": {
        "id": "y5uJcv8OaJk7"
      },
      "outputs": [],
      "source": [
        "ver_data = np.array(pd.read_csv('kroA100.txt', sep=' ', header=None).iloc[:, 1:])"
      ]
    },
    {
      "cell_type": "code",
      "source": [
        "#Four heuris to choose: random_heuristic, nearest_neighbor, greedyCycle, two_regret \n",
        "lengths = test(100, heuris = two_regret,ver_data =  ver_data)\n",
        "print(f'{round(sum(lengths)/len(lengths))} ({min(lengths)}-{max(lengths)})')"
      ],
      "metadata": {
        "colab": {
          "base_uri": "https://localhost:8080/"
        },
        "id": "dC9eH-gbKfXl",
        "outputId": "3f9061b1-c7ac-419f-c9c7-18803e5c3949"
      },
      "execution_count": 32,
      "outputs": [
        {
          "output_type": "stream",
          "name": "stdout",
          "text": [
            "26550 0\n",
            "26336 3\n",
            "24586 4\n",
            "24380 5\n",
            "24329 10\n",
            "23619 20\n",
            "23546 22\n",
            "26900 (23546-30422)\n"
          ]
        }
      ]
    },
    {
      "cell_type": "code",
      "source": [
        "draw_best(ver_data, lengths, greedyCycle, 'cycleB')"
      ],
      "metadata": {
        "colab": {
          "base_uri": "https://localhost:8080/",
          "height": 294
        },
        "id": "mUgeyC4c6g8j",
        "outputId": "bcc86f81-7daf-4860-d902-efe0729ac4e1"
      },
      "execution_count": 39,
      "outputs": [
        {
          "output_type": "display_data",
          "data": {
            "text/plain": [
              "<Figure size 432x288 with 1 Axes>"
            ],
            "image/png": "[encoded data removed]"
          },
          "metadata": {
            "needs_background": "light"
          }
        }
      ]
    },
    {
      "cell_type": "markdown",
      "source": [
        "# LAB 2"
      ],
      "metadata": {
        "id": "5s0WbNlNmvC0"
      }
    },
    {
      "cell_type": "code",
      "source": [
        "def swap_vertex(vertex, list_of_vertex, i):\n",
        "  copy = list_of_vertex[:-1]\n",
        "  n = len(copy)\n",
        "  copy.remove(vertex)\n",
        "  return list(zip([\"vertex\"]*(n-1), copy, [vertex]*(n-1), [i]*(n-1)))"
      ],
      "metadata": {
        "id": "gWLVEuMkuB4c"
      },
      "execution_count": 795,
      "outputs": []
    },
    {
      "cell_type": "code",
      "source": [
        "def swap_vertex_cycle(vertex, list_of_vertex, i):\n",
        "  copy = list_of_vertex[:-1]\n",
        "  n = len(copy)\n",
        "  return list(zip([\"cycle\"]*n, copy, [vertex]*(n), [i]*(n)))"
      ],
      "metadata": {
        "id": "lLU65lPTw4Sr"
      },
      "execution_count": 796,
      "outputs": []
    },
    {
      "cell_type": "code",
      "source": [
        "def swap_edges(vertex, list_of_vertex, i):\n",
        "  copy = list_of_vertex[:-1]\n",
        "  n = len(copy)\n",
        "  copy.remove(vertex)\n",
        "  return list(zip([\"edges\"]*(n-1), copy, [vertex]*(n-1),  [i]*(n-1)))"
      ],
      "metadata": {
        "id": "E-3yceAZxtUR"
      },
      "execution_count": 797,
      "outputs": []
    },
    {
      "cell_type": "code",
      "source": [
        "def calculate_delta(typ, distance_matrix, vertex1, vertex2, list_of_vertex1, list_of_vertex2 = None):\n",
        "  list1 = list_of_vertex1[:-1]\n",
        "  if typ==\"vertex\":\n",
        "    ind1 = list1.index(vertex1)\n",
        "    ind2 = list1.index(vertex2)\n",
        "    min1, max1 = min(ind1,ind2), max(ind1,ind2)\n",
        "    neig1 = min1-1\n",
        "    neig2 = (max1+1)%len(list1)\n",
        "    delta1 = distance_matrix[list1[neig1], list1[min1]] + distance_matrix[list1[neig1+2], list1[min1]]+ distance_matrix[\n",
        "                                                          list1[neig2], list1[max1]] + distance_matrix[list1[neig2-2], list1[max1]]\n",
        "    delta2 = distance_matrix[list1[neig1], list1[max1]] + distance_matrix[list1[neig1+2], list1[max1]]+ distance_matrix[\n",
        "                                                          list1[neig2], list1[min1]] + distance_matrix[list1[neig2-2], list1[min1]]\n",
        "    if abs(ind1-ind2)==1 or neig2==min1:\n",
        "      delta2+=2*distance_matrix[list1[ind1], list1[ind2]]\n",
        "\n",
        "\n",
        "  elif typ==\"edges\":\n",
        "    ind1 = list1.index(vertex1)\n",
        "    ind2 = list1.index(vertex2)\n",
        "    min1, max1 = min(ind1,ind2), max(ind1,ind2)\n",
        "    neig1 = min1-1\n",
        "    neig2 = (max1+1)%len(list1)\n",
        "    if neig2==0 and min1==0:\n",
        "      return 0\n",
        "    delta1 = distance_matrix[list1[neig1], list1[min1]] + distance_matrix[list1[neig2], list1[max1]]\n",
        "    delta2 = distance_matrix[list1[neig1], list1[max1]] + distance_matrix[list1[neig2], list1[min1]]\n",
        "\n",
        "  elif typ==\"cycle\":\n",
        "    if list_of_vertex2:\n",
        "      list2 = list_of_vertex2[:-1]\n",
        "    ind1 = list1.index(vertex1)\n",
        "    ind2 = list2.index(vertex2)\n",
        "    indout1 = (ind1+1)%len(list1)\n",
        "    indout2 = (ind2+1)%len(list2)\n",
        "    delta1 = distance_matrix[list1[ind1-1], list1[ind1]] + distance_matrix[list1[indout1], list1[ind1]]+ distance_matrix[\n",
        "                                                          list2[ind2-1], list2[ind2]] + distance_matrix[list2[indout2], list2[ind2]]\n",
        "    delta2 = distance_matrix[list1[ind1-1], list2[ind2]] + distance_matrix[list1[indout1], list2[ind2]]+ distance_matrix[\n",
        "                                                          list2[ind2-1], list1[ind1]] + distance_matrix[list2[indout2], list1[ind1]]\n",
        "  return delta2-delta1"
      ],
      "metadata": {
        "id": "O1TfGqK9x6F1"
      },
      "execution_count": 660,
      "outputs": []
    },
    {
      "cell_type": "code",
      "source": [
        "def move(typ, vertex1, vertex2, list_of_vertex1, list_of_vertex2 = None):\n",
        "  list1 = list_of_vertex1[:-1]\n",
        "  list2 = list_of_vertex2[:-1]\n",
        "  if typ==\"vertex\":\n",
        "    ind1 = list1.index(vertex1)\n",
        "    ind2 = list1.index(vertex2)\n",
        "    list1[ind1], list1[ind2] = list1[ind2], list1[ind1] \n",
        "\n",
        "  elif typ==\"edges\":\n",
        "    ind1 = list1.index(vertex1)\n",
        "    ind2 = list1.index(vertex2)\n",
        "    min1, max1 = min(ind1,ind2), max(ind1, ind2)\n",
        "    list1[min1:max1+1] = reversed(list1[min1:max1+1])\n",
        "\n",
        "  else:\n",
        "    ind1 = list1.index(vertex1)\n",
        "    ind2 = list2.index(vertex2)\n",
        "    list1[ind1], list2[ind2] = list2[ind2], list1[ind1]\n",
        "    \n",
        "\n",
        "  list1.append(list1[0])\n",
        "  list2.append(list2[0])\n",
        "  return list1, list2\n"
      ],
      "metadata": {
        "id": "h81Zn_5YOu-j"
      },
      "execution_count": 771,
      "outputs": []
    },
    {
      "cell_type": "code",
      "source": [
        "def steepest(distance_matrix, type_of_neigbhour=swap_vertex, start_solution = None, verbose=False):\n",
        "  while True:\n",
        "      best_move = None\n",
        "      delta = 0\n",
        "      moves = []\n",
        "      for kk in np.concatenate(start_solution):\n",
        "        if kk in start_solution[0]:\n",
        "          i=0\n",
        "        else:\n",
        "          i=1\n",
        "        moves+=type_of_neigbhour(kk, start_solution[i], i)\n",
        "        moves+=swap_vertex_cycle(kk, start_solution[(i+1)%2], i)\n",
        "\n",
        "      for m in moves:\n",
        "        i = m[3]\n",
        "        new_delta = calculate_delta(m[0], distance_matrix, m[2], m[1], start_solution[i], list_of_vertex2 = start_solution[(i+1)%2])\n",
        "        if new_delta < delta:\n",
        "          best_move = m\n",
        "          delta = new_delta\n",
        "\n",
        "      if best_move:\n",
        "        i = best_move[3]\n",
        "        start_solution = move(best_move[0], best_move[2], best_move[1], start_solution[i], list_of_vertex2 = start_solution[(i+1)%2])\n",
        "        if verbose:\n",
        "          print(calculateCycleLength(distance_matrix, start_solution), delta)\n",
        "          print()\n",
        "      else:\n",
        "        break\n",
        "      \n",
        "\n",
        "  return start_solution\n"
      ],
      "metadata": {
        "id": "tEW6PhUrKayV"
      },
      "execution_count": 867,
      "outputs": []
    },
    {
      "cell_type": "code",
      "source": [
        "def greedy(distance_matrix, type_of_neigbhour=swap_vertex, start_solution = None, verbose=False):\n",
        "  while True:\n",
        "      best_move = None\n",
        "      moves = []\n",
        "      for kk in np.concatenate(start_solution):\n",
        "        if kk in start_solution[0]:\n",
        "          i=0\n",
        "        else:\n",
        "          i=1\n",
        "        moves+=type_of_neigbhour(kk, start_solution[i], i)\n",
        "        moves+=swap_vertex_cycle(kk, start_solution[(i+1)%2], i)\n",
        "      random.shuffle(moves)\n",
        "      for m in moves:\n",
        "        i = m[3]\n",
        "        new_delta = calculate_delta(m[0], distance_matrix, m[2], m[1], start_solution[i], list_of_vertex2 = start_solution[(i+1)%2])\n",
        "        if new_delta < 0:\n",
        "          best_move = m\n",
        "          break\n",
        "\n",
        "      if best_move:\n",
        "        i = best_move[3]\n",
        "        start_solution = move(best_move[0], best_move[2], best_move[1], start_solution[i], list_of_vertex2 = start_solution[(i+1)%2])\n",
        "\n",
        "        if verbose:\n",
        "          print(calculateCycleLength(distance_matrix, start_solution), new_delta)\n",
        "          print()\n",
        "      else:\n",
        "        break\n",
        "      \n",
        "\n",
        "  return start_solution"
      ],
      "metadata": {
        "id": "Z-MLy-LET6tC"
      },
      "execution_count": 868,
      "outputs": []
    },
    {
      "cell_type": "code",
      "source": [
        "def random_wandering(distance_matrix, type_of_neigbhour=swap_vertex, start_solution = None, verbose=False):\n",
        "  j = 0\n",
        "  while j<10**3:\n",
        "      best_move = None\n",
        "      moves = []\n",
        "      for kk in np.concatenate(start_solution):\n",
        "        if kk in start_solution[0]:\n",
        "          i=0\n",
        "        else:\n",
        "          i=1\n",
        "        moves+=type_of_neigbhour(kk, start_solution[i], i)\n",
        "        moves+=swap_vertex_cycle(kk, start_solution[(i+1)%2], i)\n",
        "      random.shuffle(moves)\n",
        "      m = moves[random.randint(0, len(moves)-1)]\n",
        "      i = m[3]\n",
        "      new_delta = calculate_delta(m[0], distance_matrix, m[2], m[1], start_solution[i], list_of_vertex2 = start_solution[(i+1)%2])\n",
        "      if new_delta < 0:\n",
        "        best_move = m\n",
        "\n",
        "      if best_move:\n",
        "        start_solution = move(best_move[0], best_move[2], best_move[1], start_solution[i], list_of_vertex2 = start_solution[(i+1)%2])\n",
        "\n",
        "        if verbose:\n",
        "          print(calculateCycleLength(distance_matrix, start_solution))\n",
        "          print()\n",
        "      j+=1\n",
        "      \n",
        "\n",
        "  return start_solution"
      ],
      "metadata": {
        "id": "SyfVlgfNZhvB"
      },
      "execution_count": 928,
      "outputs": []
    },
    {
      "cell_type": "code",
      "source": [
        "def test_lab2(n, heuris, ver_data):\n",
        "  distance_matrix = createDistanceMatrix(ver_data)\n",
        "  lengths = []\n",
        "  for i in range(n):\n",
        "    start_node = i\n",
        "    vertexes = heuris(distance_matrix, start_node)\n",
        "    vertexes = steepest(distance_matrix, swap_vertex, start_solution = vertexes, verbose = False)\n",
        "    length = calculateCycleLength(distance_matrix, vertexes)\n",
        "    lengths.append(length)\n",
        "  return lengths"
      ],
      "metadata": {
        "id": "PpEeGAYIddl0"
      },
      "execution_count": 939,
      "outputs": []
    },
    {
      "cell_type": "code",
      "source": [
        "lengt = test_lab2(100, two_regret, ver_data)"
      ],
      "metadata": {
        "id": "3aPNrl0SdtWj"
      },
      "execution_count": 943,
      "outputs": []
    },
    {
      "cell_type": "code",
      "source": [
        "min(lengt)"
      ],
      "metadata": {
        "id": "UJM6G0LTewZV",
        "outputId": "55f609b2-01ef-4275-eae8-5958a52c1186",
        "colab": {
          "base_uri": "https://localhost:8080/"
        }
      },
      "execution_count": 945,
      "outputs": [
        {
          "output_type": "execute_result",
          "data": {
            "text/plain": [
              "23216"
            ]
          },
          "metadata": {},
          "execution_count": 945
        }
      ]
    },
    {
      "cell_type": "code",
      "source": [
        "ver_data = np.array(pd.read_csv('kroA100.txt', sep=' ', header=None).iloc[:, 1:])\n",
        "distance_matrix = createDistanceMatrix(ver_data)\n",
        "best_kroa100 = two_regret(distance_matrix, 22)\n",
        "length = calculateCycleLength(distance_matrix, best_kroa100)\n",
        "length"
      ],
      "metadata": {
        "colab": {
          "base_uri": "https://localhost:8080/"
        },
        "id": "OP1PM97ZmwfQ",
        "outputId": "a479425d-66ef-496b-aa6b-79457c913d4a"
      },
      "execution_count": 934,
      "outputs": [
        {
          "output_type": "execute_result",
          "data": {
            "text/plain": [
              "23546"
            ]
          },
          "metadata": {},
          "execution_count": 934
        }
      ]
    },
    {
      "cell_type": "code",
      "source": [
        "sol = random_wandering(distance_matrix, swap_vertex, start_solution = best_kroa100, verbose = False)\n",
        "calculateCycleLength(distance_matrix, sol)"
      ],
      "metadata": {
        "colab": {
          "base_uri": "https://localhost:8080/"
        },
        "id": "5NxaAxS-NFLP",
        "outputId": "1d9530b4-dd5f-4472-f894-f0bab068781a"
      },
      "execution_count": 936,
      "outputs": [
        {
          "output_type": "execute_result",
          "data": {
            "text/plain": [
              "23484"
            ]
          },
          "metadata": {},
          "execution_count": 936
        }
      ]
    },
    {
      "cell_type": "code",
      "source": [
        "for graph in best_kroa100:\n",
        "    x = ver_data[graph, 0]\n",
        "    y = ver_data[graph,1]\n",
        "    plt.plot(x, y)"
      ],
      "metadata": {
        "colab": {
          "base_uri": "https://localhost:8080/",
          "height": 265
        },
        "id": "ZmF33s5bucf9",
        "outputId": "3bfe746d-979e-49c4-d29a-15186a554b6a"
      },
      "execution_count": 932,
      "outputs": [
        {
          "output_type": "display_data",
          "data": {
            "text/plain": [
              "<Figure size 432x288 with 1 Axes>"
            ],
            "image/png": "[encoded data removed]"
          },
          "metadata": {
            "needs_background": "light"
          }
        }
      ]
    },
    {
      "cell_type": "code",
      "source": [
        "for graph in sol:\n",
        "    x = ver_data[graph, 0]\n",
        "    y = ver_data[graph,1]\n",
        "    plt.plot(x, y)"
      ],
      "metadata": {
        "id": "-Fo9x8fEmIAa",
        "outputId": "64047892-6ee4-4b79-bd9e-ecadc1c3ca87",
        "colab": {
          "base_uri": "https://localhost:8080/",
          "height": 265
        }
      },
      "execution_count": 933,
      "outputs": [
        {
          "output_type": "display_data",
          "data": {
            "text/plain": [
              "<Figure size 432x288 with 1 Axes>"
            ],
            "image/png": "[encoded data removed]"
          },
          "metadata": {
            "needs_background": "light"
          }
        }
      ]
    }
  ],
  "metadata": {
    "interpreter": {
      "hash": "249fd5a58644792e4245b3f3c6a758fe9c331bfbf4bb261136a1fb24bf28b415"
    },
    "kernelspec": {
      "display_name": "Python 3.9.7 ('venv': venv)",
      "language": "python",
      "name": "python3"
    },
    "language_info": {
      "codemirror_mode": {
        "name": "ipython",
        "version": 3
      },
      "file_extension": ".py",
      "mimetype": "text/x-python",
      "name": "python",
      "nbconvert_exporter": "python",
      "pygments_lexer": "ipython3",
      "version": "3.9.7"
    },
    "orig_nbformat": 4,
    "colab": {
      "name": "GreedyCycle.ipynb",
      "provenance": [],
      "include_colab_link": true
    }
  },
  "nbformat": 4,
  "nbformat_minor": 0
}