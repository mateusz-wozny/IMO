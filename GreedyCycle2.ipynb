{
  "cells": [
    {
      "cell_type": "markdown",
      "metadata": {
        "id": "view-in-github",
        "colab_type": "text"
      },
      "source": [
        "<a href=\"https://colab.research.google.com/github/mateusz-wozny/IMO/blob/main/GreedyCycle2.ipynb\" target=\"_parent\"><img src=\"https://colab.research.google.com/assets/colab-badge.svg\" alt=\"Open In Colab\"/></a>"
      ]
    },
    {
      "cell_type": "markdown",
      "source": [
        "# LAB 1"
      ],
      "metadata": {
        "id": "hcheA6Ucmp5Y"
      }
    },
    {
      "cell_type": "code",
      "execution_count": null,
      "metadata": {
        "id": "t_iTpIQaaJkx"
      },
      "outputs": [],
      "source": [
        "import numpy as np\n",
        "import random\n",
        "import matplotlib.pyplot as plt\n",
        "import pandas as pd"
      ]
    },
    {
      "cell_type": "code",
      "execution_count": null,
      "metadata": {
        "id": "9R79sSbTaJk9"
      },
      "outputs": [],
      "source": [
        "def createDistanceMatrix(vertices):\n",
        "  outputMatrix = [[round(np.sqrt((x2 - x1) ** 2 + (y2 - y1) ** 2)) for (x2, y2) in vertices] for (x1, y1) in vertices]\n",
        "  return np.array(outputMatrix)"
      ]
    },
    {
      "cell_type": "code",
      "execution_count": null,
      "metadata": {
        "id": "4RT453NPaJlA"
      },
      "outputs": [],
      "source": [
        "def chooseNearestVertex(matrix, used_vertexes, node):\n",
        "  return np.argmin([matrix[node][i] if i not in used_vertexes and i != node else float('inf') for i in range(0, len(matrix[node]))])"
      ]
    },
    {
      "cell_type": "code",
      "execution_count": null,
      "metadata": {
        "id": "WQuZcsYjaJlB"
      },
      "outputs": [],
      "source": [
        "def calculateCycleLength(matrix, vertexes):\n",
        "  length = 0\n",
        "  for graph in vertexes:\n",
        "    length += np.sum([matrix[ graph[idx], graph[idx+1] ] for idx in range(len(graph) - 1)])\n",
        "\n",
        "#   print(length)\n",
        "  return length"
      ]
    },
    {
      "cell_type": "code",
      "source": [
        "def find_nearest(matrix, lista, unvisited):\n",
        "    df = matrix[:, lista][unvisited, :]\n",
        "    indx, indy = np.unravel_index(df.argmin(), df.shape)\n",
        "    return unvisited[indx], lista[indy]"
      ],
      "metadata": {
        "id": "on8vtbVeijdR"
      },
      "execution_count": null,
      "outputs": []
    },
    {
      "cell_type": "code",
      "source": [
        "def random_heuristic(matrix, start):\n",
        "    N = matrix.shape[0]\n",
        "    a = random.sample(range(N), N)\n",
        "    list1 = a[:N//2]\n",
        "    list1.append(list1[0])\n",
        "    list2 = a[N//2:]\n",
        "    list2.append(list2[0])\n",
        "    return [list1, list2]"
      ],
      "metadata": {
        "id": "j8vaOUcMi6TD"
      },
      "execution_count": null,
      "outputs": []
    },
    {
      "cell_type": "code",
      "source": [
        "def nearest_neighbor(matrix, start):\n",
        "    end = np.argmax(matrix[start, :])\n",
        "    unvisited = list(range(matrix.shape[0]))\n",
        "    unvisited.remove(start)\n",
        "    unvisited.remove(end)\n",
        "    list1 = [start]\n",
        "    list2 = [end]\n",
        "    while len(unvisited) != 0:\n",
        "        nearest, vertex = find_nearest(matrix, list1, unvisited)\n",
        "        list1.insert(list1.index(vertex) + 1, nearest)\n",
        "        unvisited.remove(nearest)\n",
        "        if len(unvisited) == 0:\n",
        "          break\n",
        "        nearest, vertex = find_nearest(matrix, list2, unvisited)\n",
        "        list2.insert(list2.index(vertex) + 1, nearest)\n",
        "        unvisited.remove(nearest)\n",
        "    list1.append(start)\n",
        "    list2.append(end)\n",
        "\n",
        "    return [list1, list2]"
      ],
      "metadata": {
        "id": "F0mhZ3PRdt_o"
      },
      "execution_count": null,
      "outputs": []
    },
    {
      "cell_type": "code",
      "execution_count": null,
      "metadata": {
        "id": "2HNlZ_dTaJlC"
      },
      "outputs": [],
      "source": [
        "def greedyCycle(matrix, start_node):\n",
        "    #Starting node 2\n",
        "    start_node_2 = np.argmax(matrix[start_node])\n",
        "\n",
        "    #Choosing nearest vertex for cycles\n",
        "    closest_node_1 = chooseNearestVertex(matrix, [start_node, start_node_2], start_node)\n",
        "    closest_node_2 = chooseNearestVertex(matrix, [start_node, start_node_2, closest_node_1], start_node_2)\n",
        "\n",
        "    #Creating cycles\n",
        "    cycles = []\n",
        "    cycles.append([start_node, closest_node_1, start_node])\n",
        "    cycles.append([start_node_2, closest_node_2, start_node_2])\n",
        "\n",
        "    #Calculating cycles\n",
        "    while len(cycles[0])+len(cycles[1]) != len(matrix)+2:\n",
        "        if len(cycles[0]) <= len(cycles[1]):\n",
        "            visited = cycles[0]\n",
        "        else:\n",
        "            visited = cycles[1]\n",
        "\n",
        "        z = np.inf\n",
        "        x = np.inf\n",
        "        c = np.inf\n",
        "\n",
        "        for i in visited:\n",
        "            nearest = chooseNearestVertex(matrix, np.concatenate([cycles[0], cycles[1]]), i)\n",
        "            for j in range(len(visited) - 1):\n",
        "                value = matrix[visited[j], nearest] + matrix[visited[j+1], nearest] - matrix[visited[j], visited[j+1]]\n",
        "                if value < z:\n",
        "                    z = value\n",
        "                    x = j + 1\n",
        "                    c = nearest\n",
        "\n",
        "        if len(cycles[0]) <= len(cycles[1]):\n",
        "            cycles[0].insert(x, c)\n",
        "        else:\n",
        "            cycles[1].insert(x, c)\n",
        "\n",
        "    return cycles"
      ]
    },
    {
      "cell_type": "code",
      "source": [
        "def two_regret(matrix, start_node):\n",
        "    start_node_2 = np.argmax(matrix[start_node])\n",
        "\n",
        "    closest_node_1 = chooseNearestVertex(matrix, [start_node, start_node_2], start_node)\n",
        "    closest_node_2 = chooseNearestVertex(matrix, [start_node, start_node_2, closest_node_1], start_node_2)\n",
        "\n",
        "    cycles = []\n",
        "    cycles.append([start_node, closest_node_1, start_node])\n",
        "    cycles.append([start_node_2, closest_node_2, start_node_2])\n",
        "\n",
        "    while len(cycles[0])+len(cycles[1]) != len(matrix)+2:\n",
        "        if len(cycles[0]) <= len(cycles[1]):\n",
        "            visited = cycles[0]\n",
        "        else:\n",
        "            visited = cycles[1]\n",
        "        z = -np.inf\n",
        "        x = np.inf\n",
        "        c = np.inf\n",
        "        for i in visited:\n",
        "            nearest = chooseNearestVertex(matrix, np.concatenate([cycles[0], cycles[1]]), i)\n",
        "            values = {}\n",
        "            for j in range(len(visited) - 1):\n",
        "                value = matrix[visited[j], nearest] + matrix[visited[j+1], nearest] - matrix[visited[j], visited[j+1]]\n",
        "                values.update({j:value})\n",
        "            values = dict(sorted(values.items(), key= lambda x:x[1]))\n",
        "            keys = list(values.keys())\n",
        "            value = values[keys[1]] - 1.5*values[keys[0]]\n",
        "            if value > z:\n",
        "                z = value\n",
        "                x = keys[0] + 1\n",
        "                c = nearest\n",
        "\n",
        "            \n",
        "        if len(cycles[0]) <= len(cycles[1]):\n",
        "                cycles[0].insert(x, c)\n",
        "        else:\n",
        "                cycles[1].insert(x, c)\n",
        "\n",
        "    return cycles"
      ],
      "metadata": {
        "id": "c-GqG66D2uCV"
      },
      "execution_count": null,
      "outputs": []
    },
    {
      "cell_type": "code",
      "execution_count": null,
      "metadata": {
        "id": "lFHdnNWMaJlF"
      },
      "outputs": [],
      "source": [
        "def draw_plot(vertices, visited, length, filename):\n",
        "  for graph in visited:\n",
        "    x = vertices[graph, 0]\n",
        "    y = vertices[graph,1]\n",
        "    plt.plot(x, y)\n",
        "  plt.scatter(vertices[:, 0], vertices[:, 1], color='red')\n",
        "  plt.suptitle(f'score: {int(length)}')\n",
        "  plt.savefig(f'{filename}.jpg')\n",
        "  plt.show()"
      ]
    },
    {
      "cell_type": "code",
      "source": [
        "def draw_best(ver_data, lengths, heuris, filename):\n",
        "  best_start_node = np.argmin(lengths)\n",
        "  distance_matrix = createDistanceMatrix(ver_data)\n",
        "  vertexes = heuris(distance_matrix, best_start_node)\n",
        "  min_length = lengths[best_start_node]\n",
        "  draw_plot(ver_data, vertexes, min_length, filename)"
      ],
      "metadata": {
        "id": "90EzhrkO48Lu"
      },
      "execution_count": null,
      "outputs": []
    },
    {
      "cell_type": "code",
      "execution_count": null,
      "metadata": {
        "id": "8OT_IVevaJlH"
      },
      "outputs": [],
      "source": [
        "def test(n, heuris, ver_data):\n",
        "  distance_matrix = createDistanceMatrix(ver_data)\n",
        "  lengths = []\n",
        "  for i in range(n):\n",
        "    start_node = i\n",
        "    vertexes = heuris(distance_matrix, start_node)\n",
        "    length = calculateCycleLength(distance_matrix, vertexes)\n",
        "    lengths.append(length)\n",
        "  return lengths"
      ]
    },
    {
      "cell_type": "code",
      "execution_count": null,
      "metadata": {
        "id": "y5uJcv8OaJk7"
      },
      "outputs": [],
      "source": [
        "ver_data = np.array(pd.read_csv('kroA100.txt', sep=' ', header=None).iloc[:, 1:])"
      ]
    },
    {
      "cell_type": "code",
      "source": [
        "#Four heuris to choose: random_heuristic, nearest_neighbor, greedyCycle, two_regret \n",
        "lengths = test(100, heuris = two_regret,ver_data =  ver_data)\n",
        "print(f'{round(sum(lengths)/len(lengths))} ({min(lengths)}-{max(lengths)})')"
      ],
      "metadata": {
        "colab": {
          "base_uri": "https://localhost:8080/"
        },
        "id": "dC9eH-gbKfXl",
        "outputId": "3f9061b1-c7ac-419f-c9c7-18803e5c3949"
      },
      "execution_count": null,
      "outputs": [
        {
          "output_type": "stream",
          "name": "stdout",
          "text": [
            "26550 0\n",
            "26336 3\n",
            "24586 4\n",
            "24380 5\n",
            "24329 10\n",
            "23619 20\n",
            "23546 22\n",
            "26900 (23546-30422)\n"
          ]
        }
      ]
    },
    {
      "cell_type": "code",
      "source": [
        "draw_best(ver_data, lengths, greedyCycle, 'cycleB')"
      ],
      "metadata": {
        "colab": {
          "base_uri": "https://localhost:8080/",
          "height": 294
        },
        "id": "mUgeyC4c6g8j",
        "outputId": "bcc86f81-7daf-4860-d902-efe0729ac4e1"
      },
      "execution_count": null,
      "outputs": [
        {
          "output_type": "display_data",
          "data": {
            "text/plain": [
              "<Figure size 432x288 with 1 Axes>"
            ],
            "image/png": "[encoded data removed]"
          },
          "metadata": {
            "needs_background": "light"
          }
        }
      ]
    },
    {
      "cell_type": "markdown",
      "source": [
        "# LAB 2"
      ],
      "metadata": {
        "id": "5s0WbNlNmvC0"
      }
    },
    {
      "cell_type": "markdown",
      "source": [
        "## Tworzenie możliwych ruchów dla podanego wierzchołka"
      ],
      "metadata": {
        "id": "0yKNy4g3DFrE"
      }
    },
    {
      "cell_type": "code",
      "source": [
        "def swap_vertex(vertex, list_of_vertex, i):\n",
        "  copy = list_of_vertex[:-1]\n",
        "  copy = copy[copy.index(vertex)+1:]\n",
        "  n = len(copy)\n",
        "  return list(zip([\"vertex\"]*(n), copy, [vertex]*(n), [i]*(n)))"
      ],
      "metadata": {
        "id": "gWLVEuMkuB4c"
      },
      "execution_count": null,
      "outputs": []
    },
    {
      "cell_type": "code",
      "source": [
        "def swap_vertex_cycle(vertex, list_of_vertex, i):\n",
        "  copy = list_of_vertex[:-1]\n",
        "  n = len(copy)\n",
        "  return list(zip([\"cycle\"]*n, copy, [vertex]*(n), [i]*(n)))"
      ],
      "metadata": {
        "id": "lLU65lPTw4Sr"
      },
      "execution_count": null,
      "outputs": []
    },
    {
      "cell_type": "code",
      "source": [
        "def swap_edges(vertex, list_of_vertex, i):\n",
        "  copy = list_of_vertex[:-1]\n",
        "  copy = copy[copy.index(vertex)+1:]\n",
        "  n = len(copy)\n",
        "  return list(zip([\"edges\"]*(n), copy, [vertex]*(n),  [i]*(n)))"
      ],
      "metadata": {
        "id": "E-3yceAZxtUR"
      },
      "execution_count": null,
      "outputs": []
    },
    {
      "cell_type": "markdown",
      "source": [
        "## Obliczanie delty funkcji celu"
      ],
      "metadata": {
        "id": "Uwip5JPsDR1I"
      }
    },
    {
      "cell_type": "code",
      "source": [
        "def calculate_delta(typ, distance_matrix, vertex1, vertex2, list_of_vertex1, list_of_vertex2 = None):\n",
        "  list1 = list_of_vertex1[:-1]\n",
        "  if typ==\"vertex\":\n",
        "    ind1 = list1.index(vertex1)\n",
        "    ind2 = list1.index(vertex2)\n",
        "    min1, max1 = min(ind1,ind2), max(ind1,ind2)\n",
        "    neig1 = min1-1\n",
        "    neig2 = (max1+1)%len(list1)\n",
        "    delta1 = distance_matrix[list1[neig1], list1[min1]] + distance_matrix[list1[neig1+2], list1[min1]]+ distance_matrix[\n",
        "                                                          list1[neig2], list1[max1]] + distance_matrix[list1[neig2-2], list1[max1]]\n",
        "    delta2 = distance_matrix[list1[neig1], list1[max1]] + distance_matrix[list1[neig1+2], list1[max1]]+ distance_matrix[\n",
        "                                                          list1[neig2], list1[min1]] + distance_matrix[list1[neig2-2], list1[min1]]\n",
        "    if abs(ind1-ind2)==1 or neig2==min1:\n",
        "      delta2+=2*distance_matrix[list1[ind1], list1[ind2]]\n",
        "\n",
        "\n",
        "  elif typ==\"edges\":\n",
        "    ind1 = list1.index(vertex1)\n",
        "    ind2 = list1.index(vertex2)\n",
        "    min1, max1 = min(ind1,ind2), max(ind1,ind2)\n",
        "    neig1 = min1-1\n",
        "    neig2 = (max1+1)%len(list1)\n",
        "    if neig2==0 and min1==0:\n",
        "      return 0\n",
        "    delta1 = distance_matrix[list1[neig1], list1[min1]] + distance_matrix[list1[neig2], list1[max1]]\n",
        "    delta2 = distance_matrix[list1[neig1], list1[max1]] + distance_matrix[list1[neig2], list1[min1]]\n",
        "\n",
        "  elif typ==\"cycle\":\n",
        "    if list_of_vertex2:\n",
        "      list2 = list_of_vertex2[:-1]\n",
        "    ind1 = list1.index(vertex1)\n",
        "    ind2 = list2.index(vertex2)\n",
        "    indout1 = (ind1+1)%len(list1)\n",
        "    indout2 = (ind2+1)%len(list2)\n",
        "    delta1 = distance_matrix[list1[ind1-1], list1[ind1]] + distance_matrix[list1[indout1], list1[ind1]]+ distance_matrix[\n",
        "                                                          list2[ind2-1], list2[ind2]] + distance_matrix[list2[indout2], list2[ind2]]\n",
        "    delta2 = distance_matrix[list1[ind1-1], list2[ind2]] + distance_matrix[list1[indout1], list2[ind2]]+ distance_matrix[\n",
        "                                                          list2[ind2-1], list1[ind1]] + distance_matrix[list2[indout2], list1[ind1]]\n",
        "  return delta2-delta1"
      ],
      "metadata": {
        "id": "O1TfGqK9x6F1"
      },
      "execution_count": null,
      "outputs": []
    },
    {
      "cell_type": "markdown",
      "source": [
        "## Wykonywanie ruchu"
      ],
      "metadata": {
        "id": "PahlUb2jDVxx"
      }
    },
    {
      "cell_type": "code",
      "source": [
        "def move(typ, vertex1, vertex2, list_of_vertex1, list_of_vertex2 = None):\n",
        "  list1 = list_of_vertex1[:-1]\n",
        "  list2 = list_of_vertex2[:-1]\n",
        "  if typ==\"vertex\":\n",
        "    ind1 = list1.index(vertex1)\n",
        "    ind2 = list1.index(vertex2)\n",
        "    list1[ind1], list1[ind2] = list1[ind2], list1[ind1] \n",
        "\n",
        "  elif typ==\"edges\":\n",
        "    ind1 = list1.index(vertex1)\n",
        "    ind2 = list1.index(vertex2)\n",
        "    min1, max1 = min(ind1,ind2), max(ind1, ind2)\n",
        "    list1[min1:max1+1] = reversed(list1[min1:max1+1])\n",
        "\n",
        "  else:\n",
        "    ind1 = list1.index(vertex1)\n",
        "    ind2 = list2.index(vertex2)\n",
        "    list1[ind1], list2[ind2] = list2[ind2], list1[ind1]\n",
        "    \n",
        "\n",
        "  list1.append(list1[0])\n",
        "  list2.append(list2[0])\n",
        "  return list1, list2\n"
      ],
      "metadata": {
        "id": "h81Zn_5YOu-j"
      },
      "execution_count": null,
      "outputs": []
    },
    {
      "cell_type": "markdown",
      "source": [
        "## Algorytmy wykorzystane do rozwiązania zadania"
      ],
      "metadata": {
        "id": "7Z0tEZj8DZ5S"
      }
    },
    {
      "cell_type": "code",
      "source": [
        "def steepest(distance_matrix, type_of_neigbhour=swap_vertex, start_solution = None, verbose=False):\n",
        "  while True:\n",
        "      best_move = None\n",
        "      delta = 0\n",
        "      moves = []\n",
        "      for kk in np.concatenate(start_solution):\n",
        "        if kk in start_solution[0]:\n",
        "          i=0\n",
        "        else:\n",
        "          i=1\n",
        "        moves+=type_of_neigbhour(kk, start_solution[i], i)\n",
        "        moves+=swap_vertex_cycle(kk, start_solution[(i+1)%2], i)\n",
        "\n",
        "      for m in moves:\n",
        "        i = m[3]\n",
        "        new_delta = calculate_delta(m[0], distance_matrix, m[2], m[1], start_solution[i], list_of_vertex2 = start_solution[(i+1)%2])\n",
        "        if new_delta < delta:\n",
        "          best_move = m\n",
        "          delta = new_delta\n",
        "\n",
        "      if best_move:\n",
        "        i = best_move[3]\n",
        "        start_solution = move(best_move[0], best_move[2], best_move[1], start_solution[i], list_of_vertex2 = start_solution[(i+1)%2])\n",
        "        if verbose:\n",
        "          print(calculateCycleLength(distance_matrix, start_solution), delta)\n",
        "          print()\n",
        "      else:\n",
        "        break\n",
        "      \n",
        "\n",
        "  return start_solution\n"
      ],
      "metadata": {
        "id": "tEW6PhUrKayV"
      },
      "execution_count": null,
      "outputs": []
    },
    {
      "cell_type": "code",
      "source": [
        "def greedy(distance_matrix, type_of_neigbhour=swap_vertex, start_solution = None, verbose=False):\n",
        "  while True:\n",
        "      best_move = None\n",
        "      moves = []\n",
        "      for kk in np.concatenate(start_solution):\n",
        "        if kk in start_solution[0]:\n",
        "          i=0\n",
        "        else:\n",
        "          i=1\n",
        "        moves+=type_of_neigbhour(kk, start_solution[i], i)\n",
        "        moves+=swap_vertex_cycle(kk, start_solution[(i+1)%2], i)\n",
        "      random.shuffle(moves)\n",
        "      for m in moves:\n",
        "        i = m[3]\n",
        "        new_delta = calculate_delta(m[0], distance_matrix, m[2], m[1], start_solution[i], list_of_vertex2 = start_solution[(i+1)%2])\n",
        "        if new_delta < 0:\n",
        "          best_move = m\n",
        "          break\n",
        "\n",
        "      if best_move:\n",
        "        i = best_move[3]\n",
        "        start_solution = move(best_move[0], best_move[2], best_move[1], start_solution[i], list_of_vertex2 = start_solution[(i+1)%2])\n",
        "\n",
        "        if verbose:\n",
        "          print(calculateCycleLength(distance_matrix, start_solution), new_delta)\n",
        "          print()\n",
        "      else:\n",
        "        break\n",
        "      \n",
        "\n",
        "  return start_solution"
      ],
      "metadata": {
        "id": "Z-MLy-LET6tC"
      },
      "execution_count": null,
      "outputs": []
    },
    {
      "cell_type": "code",
      "source": [
        "def random_wandering(distance_matrix, type_of_neigbhour=swap_vertex, start_solution = None, verbose=False):\n",
        "  j = 0\n",
        "  while j<100:\n",
        "      j+=1\n",
        "      best_move = None\n",
        "      moves = []\n",
        "      for kk in np.concatenate(start_solution):\n",
        "        if kk in start_solution[0]:\n",
        "          i=0\n",
        "        else:\n",
        "          i=1\n",
        "        moves+=type_of_neigbhour(kk, start_solution[i], i)\n",
        "        moves+=swap_vertex_cycle(kk, start_solution[(i+1)%2], i)\n",
        "      random.shuffle(moves)\n",
        "      m = moves[random.randint(0, len(moves)-1)]\n",
        "      i = m[3]\n",
        "      new_delta = calculate_delta(m[0], distance_matrix, m[2], m[1], start_solution[i], list_of_vertex2 = start_solution[(i+1)%2])\n",
        "      if new_delta < 0:\n",
        "        best_move = m\n",
        "\n",
        "      if best_move:\n",
        "        start_solution = move(best_move[0], best_move[2], best_move[1], start_solution[i], list_of_vertex2 = start_solution[(i+1)%2])\n",
        "\n",
        "        if verbose:\n",
        "          print(calculateCycleLength(distance_matrix, start_solution))\n",
        "          print()\n",
        "      \n",
        "      \n",
        "\n",
        "  return start_solution"
      ],
      "metadata": {
        "id": "SyfVlgfNZhvB",
        "colab": {
          "base_uri": "https://localhost:8080/"
        },
        "outputId": "e9958701-a9bb-413a-f911-63774d7aa18a"
      },
      "execution_count": null,
      "outputs": [
        {
          "output_type": "stream",
          "name": "stdout",
          "text": [
            "time: 27.8 ms (started: 2022-04-03 12:43:20 +00:00)\n"
          ]
        }
      ]
    },
    {
      "cell_type": "markdown",
      "source": [
        "## Uruchamianie eksperymentów"
      ],
      "metadata": {
        "id": "0tD79-2sDhAP"
      }
    },
    {
      "cell_type": "code",
      "source": [
        "def test_lab2(n, heuris, ver_data, algor = steepest, swap = swap_vertex):\n",
        "  distance_matrix = createDistanceMatrix(ver_data)\n",
        "  lengths = []\n",
        "  best_length = np.inf\n",
        "  best = None\n",
        "  for i in range(n):\n",
        "    start_node = i\n",
        "    vertexes = heuris(distance_matrix, start_node)\n",
        "    vertexes = algor(distance_matrix, swap, start_solution = vertexes, verbose = False)\n",
        "    length = calculateCycleLength(distance_matrix, vertexes)\n",
        "    if length < best_length:\n",
        "      best = vertexes\n",
        "      best_length = length\n",
        "    lengths.append(length)\n",
        "  return lengths, best, best_length"
      ],
      "metadata": {
        "id": "PpEeGAYIddl0"
      },
      "execution_count": null,
      "outputs": []
    },
    {
      "cell_type": "code",
      "source": [
        "def draw_best2(ver_data, best, length, filename = \"cos\"):\n",
        "  for graph in best:\n",
        "    x = ver_data[graph, 0]\n",
        "    y = ver_data[graph,1]\n",
        "    plt.plot(x, y)\n",
        "  plt.scatter(ver_data[:, 0], ver_data[:, 1], color='red')\n",
        "  plt.suptitle(f'score: {int(length)}')\n",
        "  plt.savefig(f'{filename}.jpg')"
      ],
      "metadata": {
        "id": "UJM6G0LTewZV"
      },
      "execution_count": null,
      "outputs": []
    },
    {
      "cell_type": "code",
      "source": [
        "#load time measurement\n",
        "!pip install ipython-autotime\n",
        "%load_ext autotime"
      ],
      "metadata": {
        "id": "6MfuMNZo3-A2"
      },
      "execution_count": null,
      "outputs": []
    },
    {
      "cell_type": "code",
      "source": [
        "ver_data = np.array(pd.read_csv('kroA100.txt', sep=' ', header=None).iloc[:, 1:])"
      ],
      "metadata": {
        "colab": {
          "base_uri": "https://localhost:8080/"
        },
        "id": "OP1PM97ZmwfQ",
        "outputId": "2033e250-d31a-4f0c-ae9b-c7b25bef2afb"
      },
      "execution_count": null,
      "outputs": [
        {
          "output_type": "stream",
          "name": "stdout",
          "text": [
            "time: 6.98 ms (started: 2022-04-03 13:33:01 +00:00)\n"
          ]
        }
      ]
    },
    {
      "cell_type": "code",
      "source": [
        "# algor to choose: steepest, greedy or random_wandering, swap: swap_edges or swap_vertex\n",
        "lengt, best, bl = test_lab2(100, two_regret, ver_data, algor = steepest, swap = swap_edges)"
      ],
      "metadata": {
        "id": "3aPNrl0SdtWj",
        "colab": {
          "base_uri": "https://localhost:8080/"
        },
        "outputId": "d5643d4b-4d44-49cd-be1f-9c475cdeb3e7"
      },
      "execution_count": null,
      "outputs": [
        {
          "output_type": "stream",
          "name": "stdout",
          "text": [
            "time: 3min 10s (started: 2022-04-03 13:33:03 +00:00)\n"
          ]
        }
      ]
    },
    {
      "cell_type": "code",
      "source": [
        "print(f'{round(sum(lengt)/len(lengt))} ({min(lengt)}-{max(lengt)})')"
      ],
      "metadata": {
        "colab": {
          "base_uri": "https://localhost:8080/"
        },
        "id": "Uca0hjCK98x4",
        "outputId": "35a2fa1b-97cf-4360-8341-c22c6c953f3c"
      },
      "execution_count": null,
      "outputs": [
        {
          "output_type": "stream",
          "name": "stdout",
          "text": [
            "24179 (22534-27517)\n",
            "time: 2.58 ms (started: 2022-04-03 13:49:30 +00:00)\n"
          ]
        }
      ]
    },
    {
      "cell_type": "code",
      "source": [
        "draw_best2(ver_data, best, bl, filename=\"steepest\")"
      ],
      "metadata": {
        "id": "-Fo9x8fEmIAa",
        "outputId": "17300527-a1c4-450d-b173-7e174bc284f9",
        "colab": {
          "base_uri": "https://localhost:8080/",
          "height": 311
        }
      },
      "execution_count": null,
      "outputs": [
        {
          "output_type": "display_data",
          "data": {
            "text/plain": [
              "<Figure size 432x288 with 1 Axes>"
            ],
            "image/png": "[encoded data removed]"
          },
          "metadata": {
            "needs_background": "light"
          }
        },
        {
          "output_type": "stream",
          "name": "stdout",
          "text": [
            "time: 703 ms (started: 2022-04-03 13:49:39 +00:00)\n"
          ]
        }
      ]
    },
    {
      "cell_type": "markdown",
      "source": [
        "# LAB 3"
      ],
      "metadata": {
        "id": "AZjzGFOZRUYo"
      }
    },
    {
      "cell_type": "code",
      "source": [
        "!pip install tspy\n",
        "!pip install TSPLib95\n",
        "\n",
        "import tsplib95\n",
        "import numpy as np\n",
        "import matplotlib.pyplot as plt\n",
        "from tspy import TSP\n",
        "from random import randint\n",
        "import time"
      ],
      "metadata": {
        "colab": {
          "base_uri": "https://localhost:8080/"
        },
        "id": "-SA1TxMnEa0b",
        "outputId": "17468c01-bef5-4d69-9ef8-a9b686a73c3b"
      },
      "execution_count": null,
      "outputs": [
        {
          "output_type": "stream",
          "name": "stdout",
          "text": [
            "Collecting tspy\n",
            "  Downloading tspy-0.1.1.1-py3-none-any.whl (9.0 kB)\n",
            "Installing collected packages: tspy\n",
            "Successfully installed tspy-0.1.1.1\n",
            "Collecting TSPLib95\n",
            "  Downloading tsplib95-0.7.1-py2.py3-none-any.whl (25 kB)\n",
            "Requirement already satisfied: networkx~=2.1 in /usr/local/lib/python3.7/dist-packages (from TSPLib95) (2.6.3)\n",
            "Collecting Deprecated~=1.2.9\n",
            "  Downloading Deprecated-1.2.13-py2.py3-none-any.whl (9.6 kB)\n",
            "Requirement already satisfied: tabulate~=0.8.7 in /usr/local/lib/python3.7/dist-packages (from TSPLib95) (0.8.9)\n",
            "Requirement already satisfied: Click>=6.0 in /usr/local/lib/python3.7/dist-packages (from TSPLib95) (7.1.2)\n",
            "Requirement already satisfied: wrapt<2,>=1.10 in /usr/local/lib/python3.7/dist-packages (from Deprecated~=1.2.9->TSPLib95) (1.14.0)\n",
            "Installing collected packages: Deprecated, TSPLib95\n",
            "Successfully installed Deprecated-1.2.13 TSPLib95-0.7.1\n"
          ]
        }
      ]
    },
    {
      "cell_type": "code",
      "source": [
        "tsp = TSP()\n",
        "\n",
        "kroAProblem = tsplib95.load('kroA200.tsp')\n",
        "kroBProblem = tsplib95.load('kroB200.tsp')\n",
        "\n",
        "kroAData = kroAProblem.as_name_dict()['node_coords']\n",
        "kroBData = kroBProblem.as_name_dict()['node_coords']\n",
        "\n",
        "verticesA = [kroAData[key] for key in kroAData]\n",
        "verticesB = [kroBData[key] for key in kroBData]"
      ],
      "metadata": {
        "colab": {
          "base_uri": "https://localhost:8080/"
        },
        "id": "N0KCOFj5EdOm",
        "outputId": "3b5f7e8a-2be8-4caa-bdba-721830d3a810"
      },
      "execution_count": null,
      "outputs": [
        {
          "output_type": "stream",
          "name": "stdout",
          "text": [
            "time: 24.9 ms (started: 2022-05-09 00:09:59 +00:00)\n"
          ]
        }
      ]
    },
    {
      "cell_type": "code",
      "source": [
        "def distance_matrix(vertices):\n",
        "  outputMatrix = [[round(np.sqrt((x2 - x1) ** 2 + (y2 - y1) ** 2)) for (x2, y2) in vertices] for (x1, y1) in vertices]\n",
        "\n",
        "  return np.array(outputMatrix)"
      ],
      "metadata": {
        "id": "OQmQUQLaEeWf"
      },
      "execution_count": null,
      "outputs": []
    },
    {
      "cell_type": "code",
      "source": [
        "def choose_nearest(matrix, invited_vertices, node):\n",
        "  return np.argmin([matrix[node][i] if i not in invited_vertices and i != node else float('inf') for i in range(0, len(matrix[node]))])"
      ],
      "metadata": {
        "id": "rrwuqP8yEgBv"
      },
      "execution_count": null,
      "outputs": []
    },
    {
      "cell_type": "code",
      "source": [
        "def calculate_cycle_length(matrix, visited):\n",
        "  sum = 0\n",
        "  for graph in visited:\n",
        "    sum += np.sum([matrix[ graph[idx], graph[idx+1] ] for idx in range(len(graph) - 1)])\n",
        "  return sum"
      ],
      "metadata": {
        "id": "us9Y4QQdEhGJ"
      },
      "execution_count": null,
      "outputs": []
    },
    {
      "cell_type": "code",
      "source": [
        "def draw_plot(vertices, visited, length, filename = \"x\"):\n",
        "  for graph in visited:\n",
        "    x = [vertices[idx][0] for idx in graph]\n",
        "    y = [vertices[idx][1] for idx in graph]\n",
        "    plt.plot(x, y)\n",
        "  for i in vertices:\n",
        "    plt.scatter(i[0], i[1], color='red')\n",
        "  plt.suptitle(f'score: {int(length)}')\n",
        "  plt.savefig(f'{filename}.jpg')\n",
        "  plt.show()"
      ],
      "metadata": {
        "colab": {
          "base_uri": "https://localhost:8080/"
        },
        "id": "W1Y8NQYIEiCj",
        "outputId": "c5562222-ad43-4ce2-d68b-c1f271e21e21"
      },
      "execution_count": null,
      "outputs": [
        {
          "output_type": "stream",
          "name": "stdout",
          "text": [
            "time: 17.6 ms (started: 2022-05-09 00:22:54 +00:00)\n"
          ]
        }
      ]
    },
    {
      "cell_type": "code",
      "source": [
        "def greedy_nearest_neighbor(distance_matrix, start_node_1):\n",
        "\n",
        "  # Get indexes of two starting nodes\n",
        "  node_1 = start_node_1\n",
        "  node_2 = np.argmax(matrix[node_1])\n",
        "\n",
        "  visited_1 = [node_1]\n",
        "  visited_2 = [node_2]\n",
        "\n",
        "  while len(np.concatenate([visited_1, visited_2])) != len(matrix):\n",
        "    if len(visited_1) <= len(visited_2):\n",
        "      vertex = choose_nearest(matrix, np.concatenate([visited_1, visited_2]), node_1)\n",
        "      visited_1.append(vertex)\n",
        "      node_1 = vertex\n",
        "    else:\n",
        "      vertex = choose_nearest(matrix, np.concatenate([visited_1, visited_2]), node_2)\n",
        "      visited_2.append(vertex)\n",
        "      node_2 = vertex\n",
        "\n",
        "  visited_1.append(visited_1[0])\n",
        "  visited_2.append(visited_2[0])\n",
        "\n",
        "  return visited_1, visited_2"
      ],
      "metadata": {
        "id": "d8djhMkvEj9W"
      },
      "execution_count": null,
      "outputs": []
    },
    {
      "cell_type": "code",
      "execution_count": null,
      "metadata": {
        "id": "qORHop4PEGpq"
      },
      "outputs": [],
      "source": [
        "''' Struktura przechowywania danych\n",
        "  {\n",
        "    'wartość_ulepszenia': [\n",
        "      [wierzchołek_1, wierzchołek_2],\n",
        "      [wierzchołek_1, wierzchołek_2, wierzchołek_3, wierzchołek_4], # krawędziowe - pierwsza i druga, 1 z 4, 2 z 3\n",
        "  ] '''\n",
        "\n",
        "def sort_dict(mydict, rev = True):\n",
        "  final = {}\n",
        "  for key in sorted(mydict, reverse=rev):\n",
        "    final[key] = mydict[key]\n",
        "  return final\n",
        "\n",
        "def check_for_change_vertices_in_one(matrix, visited):\n",
        "  final_dictionary = { }\n",
        "  \n",
        "  for index, item in enumerate(visited[1:-1]):\n",
        "    for next_index, next_item in enumerate(visited[index + 2:-1]):\n",
        "      previous = matrix[item][visited[index + 1]] + matrix[next_item][visited[next_index + 1]] + \\\n",
        "        matrix[item][visited[index - 1]] + matrix[next_item][visited[next_index - 1]]\n",
        "\n",
        "      next = matrix[item][visited[next_index + 1]] + matrix[next_item][visited[index + 1]] + \\\n",
        "        matrix[item][visited[next_index - 1]] + matrix[next_item][visited[index - 1]]\n",
        "\n",
        "      delta = previous - next\n",
        "      if delta > 0: \n",
        "        if delta in final_dictionary:\n",
        "          final_dictionary[delta].append([item, next_item])\n",
        "        else:\n",
        "          final_dictionary[delta] = [[item, next_item]]\n",
        "\n",
        "  return sort_dict(final_dictionary)\n",
        "\n",
        "\n",
        "def check_for_change_edges_in_one(matrix, visited):\n",
        "  final_dictionary = { }\n",
        "  \n",
        "  for index, item in enumerate(visited[1:-1]):\n",
        "    for next_index, next_item in enumerate(visited[index + 1:-1]):\n",
        "      previous = matrix[item][visited[index + 1]] + matrix[next_item][visited[next_index + 1]]\n",
        "\n",
        "      next = matrix[item][next_item] + matrix[visited[next_index + 1]][visited[index + 1]]\n",
        "\n",
        "      delta = previous - next\n",
        "      if delta > 0: \n",
        "        if delta in final_dictionary:\n",
        "          final_dictionary[delta].append([item, visited[index + 1], next_item, visited[next_index + 1]])\n",
        "        else:\n",
        "          final_dictionary[delta] = [[item, visited[index + 1], next_item, visited[next_index + 1]]]\n",
        "\n",
        "  return sort_dict(final_dictionary)\n",
        "\n",
        "\n",
        "def check_for_change_vertices(matrix, visited_1, visited_2):\n",
        "  final_dictionary = { }\n",
        "  \n",
        "  for index, item in enumerate(visited_1[1:-1]):\n",
        "    for next_index, next_item in enumerate(visited_2[1:-1]):\n",
        "      previous = matrix[item][visited_1[index + 1]] + matrix[next_item][visited_2[next_index + 1]] + \\\n",
        "        matrix[item][visited_1[index - 1]] + matrix[next_item][visited_2[next_index - 1]]\n",
        "\n",
        "      next = matrix[item][visited_2[next_index + 1]] + matrix[next_item][visited_1[index + 1]] + \\\n",
        "        matrix[item][visited_2[next_index - 1]] + matrix[next_item][visited_1[index - 1]]\n",
        "\n",
        "      delta = previous - next\n",
        "\n",
        "      if delta > 0: \n",
        "        if delta in final_dictionary:\n",
        "          final_dictionary[delta].append([item, next_item])\n",
        "        else:\n",
        "          final_dictionary[delta] = [[item, next_item]]\n",
        "\n",
        "  return sort_dict(final_dictionary)\n",
        "\n",
        "\n",
        "def check_for_vertice(matrix, vertex, visited_1, visited_2):\n",
        "  final_dictionary = {}\n",
        "\n",
        "  if vertex in visited_1:\n",
        "    visited = visited_1\n",
        "    visited_next = visited_2\n",
        "  else:\n",
        "    visited = visited_2\n",
        "    visited_next = visited_1\n",
        "\n",
        "  index = visited.index(vertex)\n",
        "  prev_index = index - 1 if index > 0 else -2\n",
        "  next_visited_index = index + 1 if index < len(visited) - 1 else 1\n",
        "  \n",
        "  for next_index, next_item in enumerate(visited_next[1:-1]):\n",
        "    previous = matrix[vertex][visited[next_visited_index]] + matrix[next_item][visited_next[next_index + 1]] + \\\n",
        "        matrix[vertex][visited[prev_index]] + matrix[next_item][visited_next[next_index - 1]]\n",
        "\n",
        "    next = matrix[vertex][visited_next[next_index + 1]] + matrix[next_item][visited[next_visited_index]] + \\\n",
        "        matrix[vertex][visited_next[next_index - 1]] + matrix[next_item][visited[prev_index]]\n",
        "\n",
        "    delta = previous - next\n",
        "\n",
        "    if delta > 0: \n",
        "      if delta in final_dictionary:\n",
        "        final_dictionary[delta].append([vertex, next_item])\n",
        "      else:\n",
        "        final_dictionary[delta] = [[vertex, next_item]]\n",
        "\n",
        "  for next_index, next_item in enumerate(visited[1:-1]):\n",
        "    if next_item != vertex and visited[next_index + 1] != vertex:\n",
        "      previous = matrix[vertex][visited[next_visited_index]] + matrix[next_item][visited[next_index + 1]]\n",
        "\n",
        "      next = matrix[vertex][next_item] + matrix[visited[next_index + 1]][visited[next_visited_index]]\n",
        "\n",
        "      delta = previous - next\n",
        "      if delta > 0: \n",
        "        if delta in final_dictionary:\n",
        "          final_dictionary[delta].append([vertex, visited[next_visited_index], next_item, visited[next_index + 1]])\n",
        "        else:\n",
        "          final_dictionary[delta] = [[vertex, visited[next_visited_index], next_item, visited[next_index + 1]]]\n",
        "\n",
        "  \n",
        "  for next_index, next_item in enumerate(visited[:-1]):\n",
        "     if next_item != vertex and visited[next_index + 1] != vertex and visited[next_index - 1] != vertex:\n",
        "\n",
        "      previous = matrix[vertex][visited[next_visited_index]] + matrix[next_item][visited[next_index + 1]] + \\\n",
        "        matrix[vertex][visited[prev_index]] + matrix[next_item][visited[next_index - 1]]\n",
        "\n",
        "      next = matrix[vertex][visited[next_index + 1]] + matrix[next_item][visited[next_visited_index]] + \\\n",
        "        matrix[vertex][visited[next_index - 1]] + matrix[next_item][visited[prev_index]]\n",
        "\n",
        "      delta = previous - next\n",
        "\n",
        "      if delta > 0: \n",
        "        if delta in final_dictionary:\n",
        "          final_dictionary[delta].append([vertex, next_item])\n",
        "        else:\n",
        "          final_dictionary[delta] = [[vertex, next_item]]\n",
        "\n",
        "\n",
        "  return sort_dict(final_dictionary)"
      ]
    },
    {
      "cell_type": "code",
      "source": [
        "def look_for_better_moves(matrix, moves_list, last_move, visited_1, visited_2):\n",
        "  if len(moves_list) > 0:\n",
        "    for vertex in last_move:\n",
        "      # print('func', moves_list)\n",
        "      # TODO: czy powinniśmy robić update wartości ruchu? bo w teorii dopiero potem sprawdzamy, czy rzeczywiscie jest wart?\n",
        "      moves_list = sort_dict({**moves_list, **(check_for_vertice(matrix, vertex, visited_1, visited_2))})\n",
        "    \n",
        "    return moves_list\n",
        "\n",
        "  else:\n",
        "    moves_list = check_for_change_edges_in_one(matrix, visited_1)\n",
        "    moves_list = sort_dict({**moves_list, **(check_for_change_vertices_in_one(matrix, visited_1))})\n",
        "    moves_list = sort_dict({**moves_list, **(check_for_change_edges_in_one(matrix, visited_2))})\n",
        "    moves_list = sort_dict({**moves_list, **(check_for_change_vertices_in_one(matrix, visited_2))})\n",
        "    moves_list = sort_dict({**moves_list, **(check_for_change_vertices(matrix, visited_1, visited_2))})\n",
        "\n",
        "  return moves_list"
      ],
      "metadata": {
        "id": "lE7T_6AREQ11"
      },
      "execution_count": null,
      "outputs": []
    },
    {
      "cell_type": "code",
      "source": [
        "def steepest_list_better_moves(matrix, visited_1, visited_2):\n",
        "  # od najlepszego do najgorszego\n",
        "  moves_list = {}\n",
        "  # index ruchu do wykonania\n",
        "  next_move = -2\n",
        "\n",
        "  i = 0\n",
        "  while next_move is not None and i <2000:\n",
        "    i += 1\n",
        "    moves_list = look_for_better_moves(matrix, moves_list, next_move, visited_1, visited_2)\n",
        "    \n",
        "    next_move = None\n",
        "    \n",
        "    for key, value in list(moves_list.items()):\n",
        "      # print(key, value)\n",
        "      if value:\n",
        "        for move in value:\n",
        "          if next_move is not None:\n",
        "          # TODO: przejrzeć cały słownik do końca i usunąć ruchy związane z tymi wierzchołkami\n",
        "            for elem in move:\n",
        "              if elem in next_move:\n",
        "                if key in moves_list and value.remove(move) is None:\n",
        "                  moves_list.pop(key)\n",
        "                else:\n",
        "                  moves_list[key] = value\n",
        "                break\n",
        "          # break\n",
        "\n",
        "\n",
        "          # print(move, value, moves_list[key])\n",
        "          if len(move) == 4:\n",
        "\n",
        "            # krawędzie, które można zastosować teraz\n",
        "            if set(move).issubset(visited_1):\n",
        "              visited = visited_1\n",
        "            elif set(move).issubset(visited_1):\n",
        "              visited = visited_2\n",
        "            else:\n",
        "              visited = None\n",
        "            \n",
        "            if visited is not None:\n",
        "              if ((visited.index(move[0]) < visited.index(move[1]) and visited.index(move[2]) < visited.index(move[3])) \\\n",
        "                or (visited.index(move[0]) > visited.index(move[1]) and visited.index(move[2]) > visited.index(move[3]))) \\\n",
        "                and visited.index(move[1]) != 0 and visited.index(move[2]) != 0 and visited.index(move[1]) != -1 and visited.index(move[2]) != -1:\n",
        "\n",
        "                # odwrócić listę pomiędzy indeksami 1 i 2\n",
        "                if visited == visited_1:\n",
        "                  if visited.index(move[0]) < visited.index(move[1]):\n",
        "                    index_prev = visited_1.index(move[1])\n",
        "                    index_next = visited_1.index(move[3])\n",
        "                  else:\n",
        "                    index_prev = visited_1.index(move[0])\n",
        "                    index_next = visited_1.index(move[2])\n",
        "\n",
        "                  visited_1[index_prev:index_next] = visited_1[index_prev:index_next:-1]\n",
        "\n",
        "                  visited_1[-1] = visited_1[0]\n",
        "\n",
        "                else:\n",
        "                  if visited.index(move[0]) < visited.index(move[1]):\n",
        "                    index_prev = visited_1.index(move[1])\n",
        "                    index_next = visited_1.index(move[3])\n",
        "                  else:\n",
        "                    index_prev = visited_1.index(move[0])\n",
        "                    index_next = visited_1.index(move[2])\n",
        "\n",
        "                  visited_2[index_prev:index_next] = visited_2[index_prev:index_next:-1]\n",
        "\n",
        "                  visited_2[-1] = visited_2[0]\n",
        "\n",
        "                next_move = move\n",
        "                if key in moves_list and value.remove(move) is None:\n",
        "                  moves_list.pop(key)\n",
        "                else:\n",
        "                  moves_list[key] = value\n",
        "                break\n",
        "\n",
        "            # krawędzie, które nie znajdują się w tych samych pętlach lub nie następują po sobie\n",
        "            else:\n",
        "              if key in moves_list and value.remove(move) is None:\n",
        "                moves_list.pop(key)\n",
        "              else:\n",
        "                moves_list[key] = value\n",
        "\n",
        "          else:\n",
        "            if move[0] in visited_1:\n",
        "              visited = visited_1\n",
        "            elif move[0] in visited_2:\n",
        "              visited = visited_2\n",
        "            \n",
        "            index = visited.index(move[0])\n",
        "            next_item = visited[index + 1]\n",
        "            prev_item = visited[index - 1]\n",
        "\n",
        "            if move[1] in visited_1:\n",
        "              visited = visited_1\n",
        "            elif move[1] in visited_2:\n",
        "              visited = visited_2\n",
        "            \n",
        "            index_2 = visited.index(move[1])\n",
        "            next_item_2 = visited[index_2 + 1]\n",
        "            prev_item_2 = visited[index_2 - 1]\n",
        "\n",
        "            if next_item != move[1] and prev_item != move[1] and next_item_2 != move[0] and prev_item_2 != move[0]:\n",
        "\n",
        "              if move[1] in visited_1:\n",
        "\n",
        "                if move[0] in visited_1:\n",
        "                  if visited_1.index(move[0]) == 0:\n",
        "                    visited_1[-1] = move[1]\n",
        "\n",
        "                  elif visited_1.index(move[1]) == 0:\n",
        "                    visited_1[-1] = move[0]\n",
        "\n",
        "                  visited_1[visited_1.index(move[0])] = move[1]\n",
        "                  visited_1[visited_1.index(move[1])] = move[0]\n",
        "\n",
        "                else:\n",
        "                  if visited_2[0] == move[0]:\n",
        "                    visited_2[-1] = move[1]\n",
        "                    visited_2[0] = move[1]\n",
        "                  else:\n",
        "                    visited_2[visited_2.index(move[0])] = move[1]\n",
        "\n",
        "                  if visited_1[0] == move[1]:\n",
        "                    visited_1[-1] = move[0]\n",
        "                    visited_1[0] = move[0]\n",
        "                  else:\n",
        "                    visited_1[visited_1.index(move[1])] = move[0]\n",
        "\n",
        "              else:\n",
        "                if move[0] in visited_1:\n",
        "                  if visited_1[0] == move[0]:\n",
        "                    visited_1[-1] = move[1]\n",
        "                    visited_1[0] = move[1]\n",
        "                  else:\n",
        "                    visited_1[visited_1.index(move[0])] = move[1]\n",
        "\n",
        "                  if visited_2[0] == move[1]:\n",
        "                    visited_2[-1] = move[0]\n",
        "                    visited_2[0] = move[0]\n",
        "                  else:\n",
        "                    visited_2[visited_2.index(move[1])] = move[0]\n",
        "\n",
        "                else:\n",
        "                  if visited_2.index(move[0]) == 0:\n",
        "                    visited_2[-1] = move[1]\n",
        "                  elif visited_2.index(move[1]) == 0:\n",
        "                    visited_2[-1] = move[0]\n",
        "\n",
        "                  visited_2[visited_2.index(move[0])] = move[1]\n",
        "                  visited_2[visited_2.index(move[1])] = move[0]\n",
        "\n",
        "              next_move = move\n",
        "              if key in moves_list and value.remove(move) is None:\n",
        "                moves_list.pop(key)\n",
        "              else:\n",
        "                moves_list[key] = value\n",
        "              break\n",
        "              \n",
        "        if len(set(visited_1)) != 100 or  len(set(visited_2)) != 100:\n",
        "          visited_1[-1] = visited_1[0]\n",
        "          visited_2[-1] = visited_2[0]\n",
        "\n",
        "  # print(i)\n",
        "  return visited_1, visited_2"
      ],
      "metadata": {
        "colab": {
          "base_uri": "https://localhost:8080/"
        },
        "id": "h1ckduB1ETCr",
        "outputId": "5ed77898-7e1c-4b8f-e891-bf695b903d96"
      },
      "execution_count": null,
      "outputs": [
        {
          "output_type": "stream",
          "name": "stdout",
          "text": [
            "time: 264 ms (started: 2022-05-08 23:55:54 +00:00)\n"
          ]
        }
      ]
    },
    {
      "cell_type": "code",
      "source": [
        "# zamiana wierzhołków MIĘDZY grafami\n",
        "def steepest_change_vertices_outer_nearest(matrix, visited_1, visited_2, nearest):\n",
        "  best = -np.inf\n",
        "  vertex_to_change = []\n",
        "\n",
        "  for first in range(len(visited_1) - 1):\n",
        "    temp = [value for value in nearest[first] if value in visited_2[:-1]]\n",
        "    for value in temp: \n",
        "      second = np.where(visited_2 == value)[0][0]\n",
        "      first_pre,first_next = first-1,first+1\n",
        "      second_pre,second_next = second-1,second+1\n",
        "      if (first == 0):\n",
        "        first_pre = first-2\n",
        "      if (second == 0):\n",
        "        second_pre = second-2\n",
        "      previous = matrix[visited_1[first], visited_1[first_pre]] +\\\n",
        "                 matrix[visited_1[first], visited_1[first_next]] +\\\n",
        "                 matrix[visited_2[second], visited_2[second_pre]] +\\\n",
        "                 matrix[visited_2[second], visited_2[second_next]]\n",
        "                 \n",
        "      next = matrix[visited_2[second], visited_1[first_pre]] +\\\n",
        "             matrix[visited_2[second], visited_1[first_next]] +\\\n",
        "             matrix[visited_1[first], visited_2[second_pre]] +\\\n",
        "             matrix[visited_1[first], visited_2[second_next]]\n",
        "\n",
        "      delta = previous - next\n",
        "      if (delta > best):\n",
        "        best = delta\n",
        "        vertex_to_change = [visited_1[first], visited_2[second]]\n",
        "  \n",
        "  if (best <= 0):\n",
        "    return\n",
        "\n",
        "  visited_1[np.where(visited_1 == vertex_to_change[0])[0][0]] = vertex_to_change[1]\n",
        "  visited_2[np.where(visited_2 == vertex_to_change[1])[0][0]] = vertex_to_change[0]"
      ],
      "metadata": {
        "colab": {
          "base_uri": "https://localhost:8080/"
        },
        "id": "QJVkRulcFCh-",
        "outputId": "d10caa22-8251-4ceb-a220-0f0975e3f6d6"
      },
      "execution_count": null,
      "outputs": [
        {
          "output_type": "stream",
          "name": "stdout",
          "text": [
            "time: 26.2 ms (started: 2022-05-08 23:47:30 +00:00)\n"
          ]
        }
      ]
    },
    {
      "cell_type": "code",
      "source": [
        "# zamiana wierzhołków WEWNĄTRZ grafu\n",
        "def steepest_change_vertices_inner_nearest(matrix, visited, nearest):\n",
        "  best = -np.inf\n",
        "  vertex_to_change = []\n",
        "  for first in range(len(visited) - 2): \n",
        "    temp = [value for value in nearest[first] if value in visited[first + 1:len(visited) - 1]]\n",
        "    for value in temp: \n",
        "      second = np.where(visited == value)[0][0]\n",
        "      first_pre,first_next = first-1,first+1\n",
        "      second_pre,second_next = second-1,second+1\n",
        "      if (first == 0):\n",
        "        first_pre = first-2\n",
        "      if (first_next == second): # warunek sąsiedztwa\n",
        "        previous = matrix[visited[first], visited[first_pre]] +\\\n",
        "                  matrix[visited[first], visited[second]] +\\\n",
        "                  matrix[visited[second], visited[first]] +\\\n",
        "                  matrix[visited[second], visited[second_next]]\n",
        "        next = matrix[visited[second], visited[first_pre]] +\\\n",
        "              matrix[visited[second], visited[first]] +\\\n",
        "              matrix[visited[first], visited[second]] +\\\n",
        "              matrix[visited[first], visited[second_next]]\n",
        "      else:\n",
        "        previous = matrix[visited[first], visited[first_pre]] +\\\n",
        "                  matrix[visited[first], visited[first_next]] +\\\n",
        "                  matrix[visited[second], visited[second_pre]] +\\\n",
        "                  matrix[visited[second], visited[second_next]]\n",
        "        next = matrix[visited[second], visited[first_pre]] +\\\n",
        "              matrix[visited[second], visited[first_next]] +\\\n",
        "              matrix[visited[first], visited[second_pre]] +\\\n",
        "              matrix[visited[first], visited[second_next]]\n",
        "\n",
        "      delta = previous - next\n",
        "      if (delta > best):\n",
        "        best = delta\n",
        "        vertex_to_change = [visited[first], visited[second]]\n",
        "  if (best <= 0):\n",
        "    return\n",
        "\n",
        "  visited[np.where(visited == vertex_to_change[0])[0][0]] = vertex_to_change[1] \n",
        "  visited[np.where(visited == vertex_to_change[1])[0][0]] = vertex_to_change[0]"
      ],
      "metadata": {
        "colab": {
          "base_uri": "https://localhost:8080/"
        },
        "id": "YYhc3MBuFFrj",
        "outputId": "4e9d969d-858b-4c5c-9cd9-f5c449c426b7"
      },
      "execution_count": null,
      "outputs": [
        {
          "output_type": "stream",
          "name": "stdout",
          "text": [
            "time: 28.7 ms (started: 2022-05-08 23:47:31 +00:00)\n"
          ]
        }
      ]
    },
    {
      "cell_type": "code",
      "source": [
        "# zamiana krawędzi WEWNĄTRZ grafu\n",
        "def steepest_change_edges_inner_nearest(matrix, visited, nearest):\n",
        "  best = -np.inf\n",
        "  index_to_change = []\n",
        "  for first in range(len(visited) - 2):\n",
        "    temp = [value for value in nearest[first] if value in visited[first + 2: len(visited) - 1]]\n",
        "    for value in temp: \n",
        "      second = np.where(visited == value)[0][0]\n",
        "      first_next = first+1\n",
        "      second_next = second+1\n",
        "      if (visited[first] == visited[second_next]):\n",
        "        continue\n",
        "\n",
        "      previous = matrix[visited[first], visited[first_next]] +\\\n",
        "                matrix[visited[second], visited[second_next]]\n",
        "      next = matrix[visited[first], visited[second]] +\\\n",
        "            matrix[visited[first_next], visited[second_next]]\n",
        "\n",
        "      delta = previous - next\n",
        "      if (delta > best):\n",
        "        best = delta\n",
        "        index_to_change = [first_next, second_next]\n",
        "        \n",
        "  if (best <= 0):\n",
        "    return\n",
        "  \n",
        "  visited[index_to_change[0]:index_to_change[1]] = visited[index_to_change[0]:index_to_change[1]][::-1]"
      ],
      "metadata": {
        "colab": {
          "base_uri": "https://localhost:8080/"
        },
        "id": "YAhCxCYaFG-7",
        "outputId": "936716ed-3ff4-4a33-fb25-8eaf3552d8a5"
      },
      "execution_count": null,
      "outputs": [
        {
          "output_type": "stream",
          "name": "stdout",
          "text": [
            "time: 20.3 ms (started: 2022-05-08 23:47:34 +00:00)\n"
          ]
        }
      ]
    },
    {
      "cell_type": "code",
      "source": [
        "def steepest_candidate_movements(matrix, visited_1, visited_2, k = 10):\n",
        "\n",
        "  nearest_matrix = np.zeros((len(matrix), k))\n",
        "\n",
        "  for vertex in range(len(matrix)):\n",
        "    temp = sorted(matrix[vertex])[1:k+1]\n",
        "    \n",
        "    i = 0\n",
        "    for index, value in enumerate(temp):\n",
        "      if i > len(np.where(matrix[vertex] == value)[0]):\n",
        "        i = 0\n",
        "      if len(np.where(matrix[vertex] == value)[0]) == 1:\n",
        "        nearest_matrix[vertex][index] = np.where(matrix[vertex] == value)[0]\n",
        "      else:\n",
        "        nearest_matrix[vertex][index] = np.where(matrix[vertex] == value)[0][i]\n",
        "        \n",
        "  # inner graph 1\n",
        "  while True:\n",
        "    previous = calculate_cycle_length(matrix,[visited_1])\n",
        "    steepest_change_edges_inner_nearest(matrix, visited_1, nearest_matrix)\n",
        "    next = calculate_cycle_length(matrix,[visited_1])\n",
        "    if (next >= previous):\n",
        "      break\n",
        "\n",
        "  # inner graph 2\n",
        "  while True:\n",
        "    previous = calculate_cycle_length(matrix,[visited_2])\n",
        "    steepest_change_edges_inner_nearest(matrix, visited_2, nearest_matrix)\n",
        "    next = calculate_cycle_length(matrix,[visited_2])\n",
        "    if (next >= previous):\n",
        "      break\n",
        "\n",
        "  # outer graphs\n",
        "  while True:\n",
        "    previous = calculate_cycle_length(matrix,[visited_1,visited_2])\n",
        "    steepest_change_vertices_outer_nearest(matrix, visited_1, visited_2, nearest_matrix)\n",
        "    next = calculate_cycle_length(matrix,[visited_1,visited_2])\n",
        "    if (next >= previous):\n",
        "      break\n",
        "\n",
        "  return visited_1, visited_2"
      ],
      "metadata": {
        "colab": {
          "base_uri": "https://localhost:8080/"
        },
        "id": "JlzTbeleFIZi",
        "outputId": "e5aaa171-1482-49b2-89b4-ccb0f5e878d1"
      },
      "execution_count": null,
      "outputs": [
        {
          "output_type": "stream",
          "name": "stdout",
          "text": [
            "time: 30 ms (started: 2022-05-08 23:47:36 +00:00)\n"
          ]
        }
      ]
    },
    {
      "cell_type": "code",
      "source": [
        "#load time measurement\n",
        "# !pip install ipython-autotime\n",
        "%load_ext autotime"
      ],
      "metadata": {
        "colab": {
          "base_uri": "https://localhost:8080/"
        },
        "id": "jCLFPnTlEUBG",
        "outputId": "8d8e9711-7f80-4bb7-c716-89d44cf3733c"
      },
      "execution_count": null,
      "outputs": [
        {
          "output_type": "stream",
          "name": "stdout",
          "text": [
            "The autotime extension is already loaded. To reload it, use:\n",
            "  %reload_ext autotime\n",
            "time: 1.82 ms (started: 2022-05-08 23:46:52 +00:00)\n"
          ]
        }
      ]
    },
    {
      "cell_type": "code",
      "source": [
        "version = verticesB\n",
        "matrix = distance_matrix(version)\n",
        "best_sum = np.inf\n",
        "best = None\n",
        "sums = []\n",
        "for i in range(100):\n",
        "  # print(i)\n",
        "  start_node_1 = randint(0, len(matrix)-1)\n",
        "  if version == verticesB and start_node_1 in [106,45,8]:\n",
        "    continue\n",
        "  # print(start_node_1)\n",
        "  visited_1, visited_2 = greedy_nearest_neighbor(matrix, start_node_1)\n",
        "  final_visited_1, final_visited_2 = steepest_candidate_movements(matrix, visited_1, visited_2)\n",
        "  sum = calculate_cycle_length(matrix, [final_visited_1, final_visited_2])\n",
        "  sums.append(sum)\n",
        "  if sum<best_sum:\n",
        "    best = [final_visited_1, final_visited_2]\n",
        "    best_sum = sum\n",
        "    \n",
        "\n",
        "\n",
        "print(max(sums))\n",
        "print(min(sums))\n",
        "print(np.mean(sums))\n",
        "draw_plot(verticesB, best, min(sums), \"kandydacki\")\n",
        "\n",
        "\n"
      ],
      "metadata": {
        "colab": {
          "base_uri": "https://localhost:8080/",
          "height": 363
        },
        "id": "FmC9x6QvErwd",
        "outputId": "298a6e75-f015-475b-b5c6-f5919e0fdbf7"
      },
      "execution_count": null,
      "outputs": [
        {
          "output_type": "stream",
          "name": "stdout",
          "text": [
            "46261\n",
            "37583\n",
            "41258.397959183676\n"
          ]
        },
        {
          "output_type": "display_data",
          "data": {
            "text/plain": [
              "<Figure size 432x288 with 1 Axes>"
            ],
            "image/png": "[encoded data removed]"
          },
          "metadata": {
            "needs_background": "light"
          }
        },
        {
          "output_type": "stream",
          "name": "stdout",
          "text": [
            "time: 28.3 s (started: 2022-05-09 02:52:13 +00:00)\n"
          ]
        }
      ]
    },
    {
      "cell_type": "code",
      "source": [
        "matrix = distance_matrix(verticesB)\n",
        "best_sum = np.inf\n",
        "best = None\n",
        "sums = []\n",
        "\n",
        "for i in range(100):\n",
        "  start_node_1 = randint(0, len(matrix)-1)\n",
        "  visited_1, visited_2 = greedy_nearest_neighbor(matrix, start_node_1)\n",
        "  final_visited_1, final_visited_2 = steepest_list_better_moves(matrix, list(visited_1), list(visited_2))\n",
        "  sum = calculate_cycle_length(matrix, [final_visited_1, final_visited_2])\n",
        "  sums.append(sum)\n",
        "  if sum<best_sum:\n",
        "    best = [final_visited_1, final_visited_2]\n",
        "    best_sum = sum\n",
        "\n",
        "print(max(sums))\n",
        "print(min(sums))\n",
        "print(np.mean(sums))\n",
        "draw_plot(verticesB, best, min(sums), \"lepszeRuchy\")\n",
        "\n"
      ],
      "metadata": {
        "id": "OE_B0oiTF4Ou",
        "colab": {
          "base_uri": "https://localhost:8080/",
          "height": 363
        },
        "outputId": "d4dd0ec5-d198-4f2d-b42d-64c4e9595c4c"
      },
      "execution_count": null,
      "outputs": [
        {
          "output_type": "stream",
          "name": "stdout",
          "text": [
            "298672\n",
            "38070\n",
            "49903.47\n"
          ]
        },
        {
          "output_type": "display_data",
          "data": {
            "text/plain": [
              "<Figure size 432x288 with 1 Axes>"
            ],
            "image/png": "[encoded data removed]"
          },
          "metadata": {
            "needs_background": "light"
          }
        },
        {
          "output_type": "stream",
          "name": "stdout",
          "text": [
            "time: 1min 21s (started: 2022-05-09 00:51:09 +00:00)\n"
          ]
        }
      ]
    }
  ],
  "metadata": {
    "interpreter": {
      "hash": "249fd5a58644792e4245b3f3c6a758fe9c331bfbf4bb261136a1fb24bf28b415"
    },
    "kernelspec": {
      "display_name": "Python 3.9.7 ('venv': venv)",
      "language": "python",
      "name": "python3"
    },
    "language_info": {
      "codemirror_mode": {
        "name": "ipython",
        "version": 3
      },
      "file_extension": ".py",
      "mimetype": "text/x-python",
      "name": "python",
      "nbconvert_exporter": "python",
      "pygments_lexer": "ipython3",
      "version": "3.9.7"
    },
    "orig_nbformat": 4,
    "colab": {
      "name": "GreedyCycle.ipynb",
      "provenance": [],
      "include_colab_link": true
    }
  },
  "nbformat": 4,
  "nbformat_minor": 0
}