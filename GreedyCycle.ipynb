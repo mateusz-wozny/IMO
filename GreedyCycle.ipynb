{
  "cells": [
    {
      "cell_type": "markdown",
      "metadata": {
        "id": "view-in-github",
        "colab_type": "text"
      },
      "source": [
        "<a href=\"https://colab.research.google.com/github/mateusz-wozny/IMO/blob/main/GreedyCycle.ipynb\" target=\"_parent\"><img src=\"https://colab.research.google.com/assets/colab-badge.svg\" alt=\"Open In Colab\"/></a>"
      ]
    },
    {
      "cell_type": "code",
      "execution_count": 8,
      "metadata": {
        "id": "t_iTpIQaaJkx"
      },
      "outputs": [],
      "source": [
        "import numpy as np\n",
        "import random\n",
        "import matplotlib.pyplot as plt\n",
        "import pandas as pd"
      ]
    },
    {
      "cell_type": "code",
      "execution_count": 39,
      "metadata": {
        "id": "y5uJcv8OaJk7"
      },
      "outputs": [],
      "source": [
        "ver_data = np.array(pd.read_csv('kroA100.txt', sep=' ', header=None).iloc[:, 1:])"
      ]
    },
    {
      "cell_type": "code",
      "execution_count": 40,
      "metadata": {
        "id": "9R79sSbTaJk9"
      },
      "outputs": [],
      "source": [
        "def createDistanceMatrix(vertices):\n",
        "  outputMatrix = [[round(np.sqrt((x2 - x1) ** 2 + (y2 - y1) ** 2)) for (x2, y2) in vertices] for (x1, y1) in vertices]\n",
        "  return np.array(outputMatrix)"
      ]
    },
    {
      "cell_type": "code",
      "execution_count": 11,
      "metadata": {
        "id": "4RT453NPaJlA"
      },
      "outputs": [],
      "source": [
        "def chooseNearestVertex(matrix, used_vertexes, node):\n",
        "  return np.argmin([matrix[node][i] if i not in used_vertexes and i != node else float('inf') for i in range(0, len(matrix[node]))])\n"
      ]
    },
    {
      "cell_type": "code",
      "execution_count": 12,
      "metadata": {
        "id": "WQuZcsYjaJlB"
      },
      "outputs": [],
      "source": [
        "def calculateCycleLength(matrix, vertexes):\n",
        "  length = 0\n",
        "  for graph in vertexes:\n",
        "    length += np.sum([matrix[ graph[idx], graph[idx+1] ] for idx in range(len(graph) - 1)])\n",
        "\n",
        "#   print(length)\n",
        "  return length"
      ]
    },
    {
      "cell_type": "code",
      "source": [
        "def find_nearest(dist, lista, unvisited):\n",
        "    df = dist[:, lista][unvisited, :]\n",
        "    indx, indy = np.unravel_index(df.argmin(), df.shape)\n",
        "    return unvisited[indx], lista[indy]\n",
        "def nearest_neighbor(dist_mat, start):\n",
        "    end = np.argmax(dist_mat[start, :])\n",
        "    unvisited = list(range(dist_mat.shape[0]))\n",
        "    unvisited.remove(start)\n",
        "    unvisited.remove(end)\n",
        "    list1 = [start]\n",
        "    list2 = [end]\n",
        "    while len(unvisited) != 0:\n",
        "        nearest, vertex = find_nearest(dist_mat, list1, unvisited)\n",
        "        list1.insert(list1.index(vertex) + 1, nearest)\n",
        "        unvisited.remove(nearest)\n",
        "        nearest, vertex = find_nearest(dist_mat, list2, unvisited)\n",
        "        list2.insert(list2.index(vertex) + 1, nearest)\n",
        "        unvisited.remove(nearest)\n",
        "    list1.append(start)\n",
        "    list2.append(end)\n",
        "\n",
        "    return [list1, list2]"
      ],
      "metadata": {
        "id": "F0mhZ3PRdt_o"
      },
      "execution_count": 43,
      "outputs": []
    },
    {
      "cell_type": "code",
      "execution_count": 13,
      "metadata": {
        "id": "2HNlZ_dTaJlC"
      },
      "outputs": [],
      "source": [
        "def greedyCycle(matrix, start_node):\n",
        "    #Starting node 2\n",
        "    start_node_2 = np.argmax(matrix[start_node])\n",
        "\n",
        "    #Choosing nearest vertex for cycles\n",
        "    closest_node_1 = chooseNearestVertex(matrix, [start_node, start_node_2], start_node)\n",
        "    closest_node_2 = chooseNearestVertex(matrix, [start_node, start_node_2, closest_node_1], start_node_2)\n",
        "\n",
        "    #Creating cycles\n",
        "    cycles = []\n",
        "    cycles.append([start_node, closest_node_1, start_node])\n",
        "    cycles.append([start_node_2, closest_node_2, start_node_2])\n",
        "\n",
        "    #Calculating cycles\n",
        "    while len(cycles[0])+len(cycles[1]) != len(matrix):\n",
        "        if len(cycles[0]) <= len(cycles[1]):\n",
        "            visited = cycles[0]\n",
        "        else:\n",
        "            visited = cycles[1]\n",
        "\n",
        "        z = np.inf\n",
        "        x = np.inf\n",
        "        c = np.inf\n",
        "\n",
        "        for i in range(len(visited)):\n",
        "            nearest = chooseNearestVertex(matrix, np.concatenate([cycles[0], cycles[1]]), visited[i])\n",
        "            for j in range(len(visited) - 1):\n",
        "                value = matrix[visited[j], nearest] + matrix[visited[j+1], nearest] - matrix[visited[j], visited[j+1]]\n",
        "                if value < z:\n",
        "                    z = value\n",
        "                    x = j + 1\n",
        "                    c = nearest\n",
        "\n",
        "        if len(cycles[0]) <= len(cycles[1]):\n",
        "            cycles[0] = np.insert(cycles[0], x, c)\n",
        "        else:\n",
        "            cycles[1] = np.insert(cycles[1], x, c)\n",
        "\n",
        "    return cycles\n",
        "                \n",
        "\n",
        "     "
      ]
    },
    {
      "cell_type": "code",
      "execution_count": 28,
      "metadata": {
        "id": "lFHdnNWMaJlF"
      },
      "outputs": [],
      "source": [
        "def draw_plot(vertices, visited, length):\n",
        "  for graph in visited:\n",
        "    x = vertices[graph, 0]\n",
        "    y = vertices[graph,1]\n",
        "    plt.plot(x, y)\n",
        "  plt.suptitle(f'score: {int(length)}')\n",
        "  plt.show()"
      ]
    },
    {
      "cell_type": "code",
      "execution_count": 48,
      "metadata": {
        "colab": {
          "base_uri": "https://localhost:8080/",
          "height": 641
        },
        "id": "8OT_IVevaJlH",
        "outputId": "36a52b5e-da90-4a34-e5fd-5f66fceec3fb"
      },
      "outputs": [
        {
          "output_type": "stream",
          "name": "stdout",
          "text": [
            "28273\n",
            "27032\n",
            "27150\n",
            "26866\n",
            "27966\n",
            "27039\n",
            "28758\n",
            "28273\n",
            "27032\n",
            "29333\n",
            "29631\n",
            "28820\n",
            "29388\n",
            "29631\n",
            "29333\n",
            "28273\n",
            "29069\n",
            "29166\n",
            "29348\n",
            "28032\n"
          ]
        },
        {
          "output_type": "display_data",
          "data": {
            "text/plain": [
              "<Figure size 432x288 with 1 Axes>"
            ],
            "image/png": "[encoded data removed]"
          },
          "metadata": {
            "needs_background": "light"
          }
        }
      ],
      "source": [
        "distance_matrix = createDistanceMatrix(ver_data)\n",
        "# start_node = 1\n",
        "for _ in range(20):\n",
        "  start_node = random.randint(0, len(distance_matrix) - 1)\n",
        "  vertexes = greedyCycle(distance_matrix, start_node)\n",
        "  length = calculateCycleLength(distance_matrix, vertexes)\n",
        "  print(length)\n",
        "draw_plot(ver_data, vertexes, length)\n"
      ]
    }
  ],
  "metadata": {
    "interpreter": {
      "hash": "249fd5a58644792e4245b3f3c6a758fe9c331bfbf4bb261136a1fb24bf28b415"
    },
    "kernelspec": {
      "display_name": "Python 3.9.7 ('venv': venv)",
      "language": "python",
      "name": "python3"
    },
    "language_info": {
      "codemirror_mode": {
        "name": "ipython",
        "version": 3
      },
      "file_extension": ".py",
      "mimetype": "text/x-python",
      "name": "python",
      "nbconvert_exporter": "python",
      "pygments_lexer": "ipython3",
      "version": "3.9.7"
    },
    "orig_nbformat": 4,
    "colab": {
      "name": "GreedyCycle.ipynb",
      "provenance": [],
      "include_colab_link": true
    }
  },
  "nbformat": 4,
  "nbformat_minor": 0
}