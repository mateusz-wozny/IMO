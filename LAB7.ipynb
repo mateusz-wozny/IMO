{
  "cells": [
    {
      "cell_type": "markdown",
      "metadata": {
        "id": "view-in-github",
        "colab_type": "text"
      },
      "source": [
        "<a href=\"https://colab.research.google.com/github/mateusz-wozny/IMO/blob/main/LAB7.ipynb\" target=\"_parent\"><img src=\"https://colab.research.google.com/assets/colab-badge.svg\" alt=\"Open In Colab\"/></a>"
      ]
    },
    {
      "cell_type": "markdown",
      "source": [
        "# LAB 1"
      ],
      "metadata": {
        "id": "hcheA6Ucmp5Y"
      }
    },
    {
      "cell_type": "code",
      "execution_count": null,
      "metadata": {
        "id": "t_iTpIQaaJkx"
      },
      "outputs": [],
      "source": [
        "import numpy as np\n",
        "import random\n",
        "import matplotlib.pyplot as plt\n",
        "import pandas as pd"
      ]
    },
    {
      "cell_type": "code",
      "execution_count": null,
      "metadata": {
        "id": "9R79sSbTaJk9"
      },
      "outputs": [],
      "source": [
        "def createDistanceMatrix(vertices):\n",
        "  outputMatrix = [[round(np.sqrt((x2 - x1) ** 2 + (y2 - y1) ** 2)) for (x2, y2) in vertices] for (x1, y1) in vertices]\n",
        "  return np.array(outputMatrix)"
      ]
    },
    {
      "cell_type": "code",
      "execution_count": null,
      "metadata": {
        "id": "4RT453NPaJlA"
      },
      "outputs": [],
      "source": [
        "def chooseNearestVertex(matrix, used_vertexes, node):\n",
        "  return np.argmin([matrix[node][i] if i not in used_vertexes and i != node else float('inf') for i in range(0, len(matrix[node]))])"
      ]
    },
    {
      "cell_type": "code",
      "execution_count": null,
      "metadata": {
        "id": "WQuZcsYjaJlB"
      },
      "outputs": [],
      "source": [
        "def calculateCycleLength(matrix, vertexes):\n",
        "  length = 0\n",
        "  for graph in vertexes:\n",
        "    length += np.sum([matrix[ graph[idx], graph[idx+1] ] for idx in range(len(graph) - 1)])\n",
        "\n",
        "#   print(length)\n",
        "  return length"
      ]
    },
    {
      "cell_type": "code",
      "source": [
        "def find_nearest(matrix, lista, unvisited):\n",
        "    df = matrix[:, lista][unvisited, :]\n",
        "    indx, indy = np.unravel_index(df.argmin(), df.shape)\n",
        "    return unvisited[indx], lista[indy]"
      ],
      "metadata": {
        "id": "on8vtbVeijdR"
      },
      "execution_count": null,
      "outputs": []
    },
    {
      "cell_type": "code",
      "source": [
        "def random_heuristic(matrix, start):\n",
        "    N = matrix.shape[0]\n",
        "    a = random.sample(range(N), N)\n",
        "    list1 = a[:N//2]\n",
        "    list1.append(list1[0])\n",
        "    list2 = a[N//2:]\n",
        "    list2.append(list2[0])\n",
        "    return [list1, list2]"
      ],
      "metadata": {
        "id": "j8vaOUcMi6TD"
      },
      "execution_count": null,
      "outputs": []
    },
    {
      "cell_type": "code",
      "source": [
        "def nearest_neighbor(matrix, start):\n",
        "    end = np.argmax(matrix[start, :])\n",
        "    unvisited = list(range(matrix.shape[0]))\n",
        "    unvisited.remove(start)\n",
        "    unvisited.remove(end)\n",
        "    list1 = [start]\n",
        "    list2 = [end]\n",
        "    while len(unvisited) != 0:\n",
        "        nearest, vertex = find_nearest(matrix, list1, unvisited)\n",
        "        list1.insert(list1.index(vertex) + 1, nearest)\n",
        "        unvisited.remove(nearest)\n",
        "        if len(unvisited) == 0:\n",
        "          break\n",
        "        nearest, vertex = find_nearest(matrix, list2, unvisited)\n",
        "        list2.insert(list2.index(vertex) + 1, nearest)\n",
        "        unvisited.remove(nearest)\n",
        "    list1.append(start)\n",
        "    list2.append(end)\n",
        "\n",
        "    return [list1, list2]"
      ],
      "metadata": {
        "id": "F0mhZ3PRdt_o"
      },
      "execution_count": null,
      "outputs": []
    },
    {
      "cell_type": "code",
      "execution_count": null,
      "metadata": {
        "id": "2HNlZ_dTaJlC"
      },
      "outputs": [],
      "source": [
        "def greedyCycle(matrix, start_node):\n",
        "    #Starting node 2\n",
        "    start_node_2 = np.argmax(matrix[start_node])\n",
        "\n",
        "    #Choosing nearest vertex for cycles\n",
        "    closest_node_1 = chooseNearestVertex(matrix, [start_node, start_node_2], start_node)\n",
        "    closest_node_2 = chooseNearestVertex(matrix, [start_node, start_node_2, closest_node_1], start_node_2)\n",
        "\n",
        "    #Creating cycles\n",
        "    cycles = []\n",
        "    cycles.append([start_node, closest_node_1, start_node])\n",
        "    cycles.append([start_node_2, closest_node_2, start_node_2])\n",
        "\n",
        "    #Calculating cycles\n",
        "    while len(cycles[0])+len(cycles[1]) != len(matrix)+2:\n",
        "        if len(cycles[0]) <= len(cycles[1]):\n",
        "            visited = cycles[0]\n",
        "        else:\n",
        "            visited = cycles[1]\n",
        "\n",
        "        z = np.inf\n",
        "        x = np.inf\n",
        "        c = np.inf\n",
        "\n",
        "        for i in visited:\n",
        "            nearest = chooseNearestVertex(matrix, np.concatenate([cycles[0], cycles[1]]), i)\n",
        "            for j in range(len(visited) - 1):\n",
        "                value = matrix[visited[j], nearest] + matrix[visited[j+1], nearest] - matrix[visited[j], visited[j+1]]\n",
        "                if value < z:\n",
        "                    z = value\n",
        "                    x = j + 1\n",
        "                    c = nearest\n",
        "\n",
        "        if len(cycles[0]) <= len(cycles[1]):\n",
        "            cycles[0].insert(x, c)\n",
        "        else:\n",
        "            cycles[1].insert(x, c)\n",
        "\n",
        "    return cycles"
      ]
    },
    {
      "cell_type": "code",
      "source": [
        "def two_regret(matrix, start_node):\n",
        "    start_node_2 = np.argmax(matrix[start_node])\n",
        "\n",
        "    closest_node_1 = chooseNearestVertex(matrix, [start_node, start_node_2], start_node)\n",
        "    closest_node_2 = chooseNearestVertex(matrix, [start_node, start_node_2, closest_node_1], start_node_2)\n",
        "\n",
        "    cycles = []\n",
        "    cycles.append([start_node, closest_node_1, start_node])\n",
        "    cycles.append([start_node_2, closest_node_2, start_node_2])\n",
        "\n",
        "    while len(cycles[0])+len(cycles[1]) != len(matrix)+2:\n",
        "        if len(cycles[0]) <= len(cycles[1]):\n",
        "            visited = cycles[0]\n",
        "        else:\n",
        "            visited = cycles[1]\n",
        "        z = -np.inf\n",
        "        x = np.inf\n",
        "        c = np.inf\n",
        "        for i in visited:\n",
        "            nearest = chooseNearestVertex(matrix, np.concatenate([cycles[0], cycles[1]]), i)\n",
        "            values = {}\n",
        "            for j in range(len(visited) - 1):\n",
        "                value = matrix[visited[j], nearest] + matrix[visited[j+1], nearest] - matrix[visited[j], visited[j+1]]\n",
        "                values.update({j:value})\n",
        "            values = dict(sorted(values.items(), key= lambda x:x[1]))\n",
        "            keys = list(values.keys())\n",
        "            value = values[keys[1]] - 1.5*values[keys[0]]\n",
        "            if value > z:\n",
        "                z = value\n",
        "                x = keys[0] + 1\n",
        "                c = nearest\n",
        "\n",
        "            \n",
        "        if len(cycles[0]) <= len(cycles[1]):\n",
        "                cycles[0].insert(x, c)\n",
        "        else:\n",
        "                cycles[1].insert(x, c)\n",
        "\n",
        "    return cycles"
      ],
      "metadata": {
        "id": "c-GqG66D2uCV"
      },
      "execution_count": null,
      "outputs": []
    },
    {
      "cell_type": "code",
      "execution_count": null,
      "metadata": {
        "id": "lFHdnNWMaJlF"
      },
      "outputs": [],
      "source": [
        "def draw_plot(vertices, visited, length, filename):\n",
        "  for graph in visited:\n",
        "    x = vertices[graph, 0]\n",
        "    y = vertices[graph,1]\n",
        "    plt.plot(x, y)\n",
        "  plt.scatter(vertices[:, 0], vertices[:, 1], color='red')\n",
        "  plt.suptitle(f'score: {int(length)}')\n",
        "  plt.savefig(f'{filename}.jpg')\n",
        "  plt.show()"
      ]
    },
    {
      "cell_type": "code",
      "source": [
        "def draw_best(ver_data, lengths, heuris, filename):\n",
        "  best_start_node = np.argmin(lengths)\n",
        "  distance_matrix = createDistanceMatrix(ver_data)\n",
        "  vertexes = heuris(distance_matrix, best_start_node)\n",
        "  min_length = lengths[best_start_node]\n",
        "  draw_plot(ver_data, vertexes, min_length, filename)"
      ],
      "metadata": {
        "id": "90EzhrkO48Lu"
      },
      "execution_count": null,
      "outputs": []
    },
    {
      "cell_type": "code",
      "execution_count": null,
      "metadata": {
        "id": "8OT_IVevaJlH"
      },
      "outputs": [],
      "source": [
        "def test(n, heuris, ver_data):\n",
        "  distance_matrix = createDistanceMatrix(ver_data)\n",
        "  lengths = []\n",
        "  for i in range(n):\n",
        "    start_node = i\n",
        "    vertexes = heuris(distance_matrix, start_node)\n",
        "    length = calculateCycleLength(distance_matrix, vertexes)\n",
        "    lengths.append(length)\n",
        "  return lengths"
      ]
    },
    {
      "cell_type": "code",
      "execution_count": null,
      "metadata": {
        "id": "y5uJcv8OaJk7"
      },
      "outputs": [],
      "source": [
        "ver_data = np.array(pd.read_csv('kroA100.txt', sep=' ', header=None).iloc[:, 1:])"
      ]
    },
    {
      "cell_type": "code",
      "source": [
        "#Four heuris to choose: random_heuristic, nearest_neighbor, greedyCycle, two_regret \n",
        "lengths = test(100, heuris = two_regret,ver_data =  ver_data)\n",
        "print(f'{round(sum(lengths)/len(lengths))} ({min(lengths)}-{max(lengths)})')"
      ],
      "metadata": {
        "colab": {
          "base_uri": "https://localhost:8080/"
        },
        "id": "dC9eH-gbKfXl",
        "outputId": "3f9061b1-c7ac-419f-c9c7-18803e5c3949"
      },
      "execution_count": null,
      "outputs": [
        {
          "output_type": "stream",
          "name": "stdout",
          "text": [
            "26550 0\n",
            "26336 3\n",
            "24586 4\n",
            "24380 5\n",
            "24329 10\n",
            "23619 20\n",
            "23546 22\n",
            "26900 (23546-30422)\n"
          ]
        }
      ]
    },
    {
      "cell_type": "code",
      "source": [
        "draw_best(ver_data, lengths, greedyCycle, 'cycleB')"
      ],
      "metadata": {
        "colab": {
          "base_uri": "https://localhost:8080/",
          "height": 294
        },
        "id": "mUgeyC4c6g8j",
        "outputId": "bcc86f81-7daf-4860-d902-efe0729ac4e1"
      },
      "execution_count": null,
      "outputs": [
        {
          "output_type": "display_data",
          "data": {
            "text/plain": [
              "<Figure size 432x288 with 1 Axes>"
            ],
            "image/png": "[encoded data removed]"
          },
          "metadata": {
            "needs_background": "light"
          }
        }
      ]
    },
    {
      "cell_type": "markdown",
      "source": [
        "# LAB 2"
      ],
      "metadata": {
        "id": "5s0WbNlNmvC0"
      }
    },
    {
      "cell_type": "markdown",
      "source": [
        "## Tworzenie możliwych ruchów dla podanego wierzchołka"
      ],
      "metadata": {
        "id": "0yKNy4g3DFrE"
      }
    },
    {
      "cell_type": "code",
      "source": [
        "def swap_vertex(vertex, list_of_vertex, i):\n",
        "  copy = list_of_vertex[:-1]\n",
        "  copy = copy[copy.index(vertex)+1:]\n",
        "  n = len(copy)\n",
        "  return list(zip([\"vertex\"]*(n), copy, [vertex]*(n), [i]*(n)))"
      ],
      "metadata": {
        "id": "gWLVEuMkuB4c"
      },
      "execution_count": null,
      "outputs": []
    },
    {
      "cell_type": "code",
      "source": [
        "def swap_vertex_cycle(vertex, list_of_vertex, i):\n",
        "  copy = list_of_vertex[:-1]\n",
        "  n = len(copy)\n",
        "  return list(zip([\"cycle\"]*n, copy, [vertex]*(n), [i]*(n)))"
      ],
      "metadata": {
        "id": "lLU65lPTw4Sr"
      },
      "execution_count": null,
      "outputs": []
    },
    {
      "cell_type": "code",
      "source": [
        "def swap_edges(vertex, list_of_vertex, i):\n",
        "  copy = list_of_vertex[:-1]\n",
        "  copy = copy[copy.index(vertex)+1:]\n",
        "  n = len(copy)\n",
        "  return list(zip([\"edges\"]*(n), copy, [vertex]*(n),  [i]*(n)))"
      ],
      "metadata": {
        "id": "E-3yceAZxtUR"
      },
      "execution_count": null,
      "outputs": []
    },
    {
      "cell_type": "markdown",
      "source": [
        "## Obliczanie delty funkcji celu"
      ],
      "metadata": {
        "id": "Uwip5JPsDR1I"
      }
    },
    {
      "cell_type": "code",
      "source": [
        "def calculate_delta(typ, distance_matrix, vertex1, vertex2, list_of_vertex1, list_of_vertex2 = None):\n",
        "  list1 = list_of_vertex1[:-1]\n",
        "  if typ==\"vertex\":\n",
        "    ind1 = list1.index(vertex1)\n",
        "    ind2 = list1.index(vertex2)\n",
        "    min1, max1 = min(ind1,ind2), max(ind1,ind2)\n",
        "    neig1 = min1-1\n",
        "    neig2 = (max1+1)%len(list1)\n",
        "    delta1 = distance_matrix[list1[neig1], list1[min1]] + distance_matrix[list1[neig1+2], list1[min1]]+ distance_matrix[\n",
        "                                                          list1[neig2], list1[max1]] + distance_matrix[list1[neig2-2], list1[max1]]\n",
        "    delta2 = distance_matrix[list1[neig1], list1[max1]] + distance_matrix[list1[neig1+2], list1[max1]]+ distance_matrix[\n",
        "                                                          list1[neig2], list1[min1]] + distance_matrix[list1[neig2-2], list1[min1]]\n",
        "    if abs(ind1-ind2)==1 or neig2==min1:\n",
        "      delta2+=2*distance_matrix[list1[ind1], list1[ind2]]\n",
        "\n",
        "\n",
        "  elif typ==\"edges\":\n",
        "    ind1 = list1.index(vertex1)\n",
        "    ind2 = list1.index(vertex2)\n",
        "    min1, max1 = min(ind1,ind2), max(ind1,ind2)\n",
        "    neig1 = min1-1\n",
        "    neig2 = (max1+1)%len(list1)\n",
        "    if neig2==0 and min1==0:\n",
        "      return 0\n",
        "    delta1 = distance_matrix[list1[neig1], list1[min1]] + distance_matrix[list1[neig2], list1[max1]]\n",
        "    delta2 = distance_matrix[list1[neig1], list1[max1]] + distance_matrix[list1[neig2], list1[min1]]\n",
        "\n",
        "  elif typ==\"cycle\":\n",
        "    if list_of_vertex2:\n",
        "      list2 = list_of_vertex2[:-1]\n",
        "    ind1 = list1.index(vertex1)\n",
        "    ind2 = list2.index(vertex2)\n",
        "    indout1 = (ind1+1)%len(list1)\n",
        "    indout2 = (ind2+1)%len(list2)\n",
        "    delta1 = distance_matrix[list1[ind1-1], list1[ind1]] + distance_matrix[list1[indout1], list1[ind1]]+ distance_matrix[\n",
        "                                                          list2[ind2-1], list2[ind2]] + distance_matrix[list2[indout2], list2[ind2]]\n",
        "    delta2 = distance_matrix[list1[ind1-1], list2[ind2]] + distance_matrix[list1[indout1], list2[ind2]]+ distance_matrix[\n",
        "                                                          list2[ind2-1], list1[ind1]] + distance_matrix[list2[indout2], list1[ind1]]\n",
        "  return delta2-delta1"
      ],
      "metadata": {
        "id": "O1TfGqK9x6F1"
      },
      "execution_count": null,
      "outputs": []
    },
    {
      "cell_type": "markdown",
      "source": [
        "## Wykonywanie ruchu"
      ],
      "metadata": {
        "id": "PahlUb2jDVxx"
      }
    },
    {
      "cell_type": "code",
      "source": [
        "def move(typ, vertex1, vertex2, list_of_vertex1, list_of_vertex2 = None):\n",
        "  list1 = list_of_vertex1[:-1]\n",
        "  list2 = list_of_vertex2[:-1]\n",
        "  if typ==\"vertex\":\n",
        "    ind1 = list1.index(vertex1)\n",
        "    ind2 = list1.index(vertex2)\n",
        "    list1[ind1], list1[ind2] = list1[ind2], list1[ind1] \n",
        "\n",
        "  elif typ==\"edges\":\n",
        "    ind1 = list1.index(vertex1)\n",
        "    ind2 = list1.index(vertex2)\n",
        "    min1, max1 = min(ind1,ind2), max(ind1, ind2)\n",
        "    list1[min1:max1+1] = reversed(list1[min1:max1+1])\n",
        "\n",
        "  else:\n",
        "    ind1 = list1.index(vertex1)\n",
        "    ind2 = list2.index(vertex2)\n",
        "    list1[ind1], list2[ind2] = list2[ind2], list1[ind1]\n",
        "    \n",
        "\n",
        "  list1.append(list1[0])\n",
        "  list2.append(list2[0])\n",
        "  return list1, list2\n"
      ],
      "metadata": {
        "id": "h81Zn_5YOu-j"
      },
      "execution_count": null,
      "outputs": []
    },
    {
      "cell_type": "markdown",
      "source": [
        "## Algorytmy wykorzystane do rozwiązania zadania"
      ],
      "metadata": {
        "id": "7Z0tEZj8DZ5S"
      }
    },
    {
      "cell_type": "code",
      "source": [
        "def steepest(distance_matrix, type_of_neigbhour=swap_vertex, start_solution = None, verbose=False):\n",
        "  while True:\n",
        "      best_move = None\n",
        "      delta = 0\n",
        "      moves = []\n",
        "      for kk in np.concatenate(start_solution):\n",
        "        if kk in start_solution[0]:\n",
        "          i=0\n",
        "        else:\n",
        "          i=1\n",
        "        moves+=type_of_neigbhour(kk, start_solution[i], i)\n",
        "        moves+=swap_vertex_cycle(kk, start_solution[(i+1)%2], i)\n",
        "\n",
        "      for m in moves:\n",
        "        i = m[3]\n",
        "        new_delta = calculate_delta(m[0], distance_matrix, m[2], m[1], start_solution[i], list_of_vertex2 = start_solution[(i+1)%2])\n",
        "        if new_delta < delta:\n",
        "          best_move = m\n",
        "          delta = new_delta\n",
        "\n",
        "      if best_move:\n",
        "        i = best_move[3]\n",
        "        start_solution = move(best_move[0], best_move[2], best_move[1], start_solution[i], list_of_vertex2 = start_solution[(i+1)%2])\n",
        "        if verbose:\n",
        "          print(calculateCycleLength(distance_matrix, start_solution), delta)\n",
        "          print()\n",
        "      else:\n",
        "        break\n",
        "      \n",
        "\n",
        "  return start_solution\n"
      ],
      "metadata": {
        "id": "tEW6PhUrKayV"
      },
      "execution_count": null,
      "outputs": []
    },
    {
      "cell_type": "code",
      "source": [
        "def greedy(distance_matrix, type_of_neigbhour=swap_vertex, start_solution = None, verbose=False):\n",
        "  while True:\n",
        "      best_move = None\n",
        "      moves = []\n",
        "      for kk in np.concatenate(start_solution):\n",
        "        if kk in start_solution[0]:\n",
        "          i=0\n",
        "        else:\n",
        "          i=1\n",
        "        moves+=type_of_neigbhour(kk, start_solution[i], i)\n",
        "        moves+=swap_vertex_cycle(kk, start_solution[(i+1)%2], i)\n",
        "      random.shuffle(moves)\n",
        "      for m in moves:\n",
        "        i = m[3]\n",
        "        new_delta = calculate_delta(m[0], distance_matrix, m[2], m[1], start_solution[i], list_of_vertex2 = start_solution[(i+1)%2])\n",
        "        if new_delta < 0:\n",
        "          best_move = m\n",
        "          break\n",
        "\n",
        "      if best_move:\n",
        "        i = best_move[3]\n",
        "        start_solution = move(best_move[0], best_move[2], best_move[1], start_solution[i], list_of_vertex2 = start_solution[(i+1)%2])\n",
        "\n",
        "        if verbose:\n",
        "          print(calculateCycleLength(distance_matrix, start_solution), new_delta)\n",
        "          print()\n",
        "      else:\n",
        "        break\n",
        "      \n",
        "\n",
        "  return start_solution"
      ],
      "metadata": {
        "id": "Z-MLy-LET6tC"
      },
      "execution_count": null,
      "outputs": []
    },
    {
      "cell_type": "code",
      "source": [
        "def random_wandering(distance_matrix, type_of_neigbhour=swap_vertex, start_solution = None, verbose=False):\n",
        "  j = 0\n",
        "  while j<100:\n",
        "      j+=1\n",
        "      best_move = None\n",
        "      moves = []\n",
        "      for kk in np.concatenate(start_solution):\n",
        "        if kk in start_solution[0]:\n",
        "          i=0\n",
        "        else:\n",
        "          i=1\n",
        "        moves+=type_of_neigbhour(kk, start_solution[i], i)\n",
        "        moves+=swap_vertex_cycle(kk, start_solution[(i+1)%2], i)\n",
        "      random.shuffle(moves)\n",
        "      m = moves[random.randint(0, len(moves)-1)]\n",
        "      i = m[3]\n",
        "      new_delta = calculate_delta(m[0], distance_matrix, m[2], m[1], start_solution[i], list_of_vertex2 = start_solution[(i+1)%2])\n",
        "      if new_delta < 0:\n",
        "        best_move = m\n",
        "\n",
        "      if best_move:\n",
        "        start_solution = move(best_move[0], best_move[2], best_move[1], start_solution[i], list_of_vertex2 = start_solution[(i+1)%2])\n",
        "\n",
        "        if verbose:\n",
        "          print(calculateCycleLength(distance_matrix, start_solution))\n",
        "          print()\n",
        "      \n",
        "      \n",
        "\n",
        "  return start_solution"
      ],
      "metadata": {
        "id": "SyfVlgfNZhvB",
        "colab": {
          "base_uri": "https://localhost:8080/"
        },
        "outputId": "e9958701-a9bb-413a-f911-63774d7aa18a"
      },
      "execution_count": null,
      "outputs": [
        {
          "output_type": "stream",
          "name": "stdout",
          "text": [
            "time: 27.8 ms (started: 2022-04-03 12:43:20 +00:00)\n"
          ]
        }
      ]
    },
    {
      "cell_type": "markdown",
      "source": [
        "## Uruchamianie eksperymentów"
      ],
      "metadata": {
        "id": "0tD79-2sDhAP"
      }
    },
    {
      "cell_type": "code",
      "source": [
        "def test_lab2(n, heuris, ver_data, algor = steepest, swap = swap_vertex):\n",
        "  distance_matrix = createDistanceMatrix(ver_data)\n",
        "  lengths = []\n",
        "  best_length = np.inf\n",
        "  best = None\n",
        "  for i in range(n):\n",
        "    start_node = i\n",
        "    vertexes = heuris(distance_matrix, start_node)\n",
        "    vertexes = algor(distance_matrix, swap, start_solution = vertexes, verbose = False)\n",
        "    length = calculateCycleLength(distance_matrix, vertexes)\n",
        "    if length < best_length:\n",
        "      best = vertexes\n",
        "      best_length = length\n",
        "    lengths.append(length)\n",
        "  return lengths, best, best_length"
      ],
      "metadata": {
        "id": "PpEeGAYIddl0"
      },
      "execution_count": null,
      "outputs": []
    },
    {
      "cell_type": "code",
      "source": [
        "def draw_best2(ver_data, best, length, filename = \"cos\"):\n",
        "  for graph in best:\n",
        "    x = ver_data[graph, 0]\n",
        "    y = ver_data[graph,1]\n",
        "    plt.plot(x, y)\n",
        "  plt.scatter(ver_data[:, 0], ver_data[:, 1], color='red')\n",
        "  plt.suptitle(f'score: {int(length)}')\n",
        "  plt.savefig(f'{filename}.jpg')"
      ],
      "metadata": {
        "id": "UJM6G0LTewZV"
      },
      "execution_count": null,
      "outputs": []
    },
    {
      "cell_type": "code",
      "source": [
        "#load time measurement\n",
        "!pip install ipython-autotime\n",
        "%load_ext autotime"
      ],
      "metadata": {
        "id": "6MfuMNZo3-A2"
      },
      "execution_count": null,
      "outputs": []
    },
    {
      "cell_type": "code",
      "source": [
        "ver_data = np.array(pd.read_csv('kroA100.txt', sep=' ', header=None).iloc[:, 1:])"
      ],
      "metadata": {
        "colab": {
          "base_uri": "https://localhost:8080/"
        },
        "id": "OP1PM97ZmwfQ",
        "outputId": "2033e250-d31a-4f0c-ae9b-c7b25bef2afb"
      },
      "execution_count": null,
      "outputs": [
        {
          "output_type": "stream",
          "name": "stdout",
          "text": [
            "time: 6.98 ms (started: 2022-04-03 13:33:01 +00:00)\n"
          ]
        }
      ]
    },
    {
      "cell_type": "code",
      "source": [
        "# algor to choose: steepest, greedy or random_wandering, swap: swap_edges or swap_vertex\n",
        "lengt, best, bl = test_lab2(100, two_regret, ver_data, algor = steepest, swap = swap_edges)"
      ],
      "metadata": {
        "id": "3aPNrl0SdtWj",
        "colab": {
          "base_uri": "https://localhost:8080/"
        },
        "outputId": "d5643d4b-4d44-49cd-be1f-9c475cdeb3e7"
      },
      "execution_count": null,
      "outputs": [
        {
          "output_type": "stream",
          "name": "stdout",
          "text": [
            "time: 3min 10s (started: 2022-04-03 13:33:03 +00:00)\n"
          ]
        }
      ]
    },
    {
      "cell_type": "code",
      "source": [
        "print(f'{round(sum(lengt)/len(lengt))} ({min(lengt)}-{max(lengt)})')"
      ],
      "metadata": {
        "colab": {
          "base_uri": "https://localhost:8080/"
        },
        "id": "Uca0hjCK98x4",
        "outputId": "35a2fa1b-97cf-4360-8341-c22c6c953f3c"
      },
      "execution_count": null,
      "outputs": [
        {
          "output_type": "stream",
          "name": "stdout",
          "text": [
            "24179 (22534-27517)\n",
            "time: 2.58 ms (started: 2022-04-03 13:49:30 +00:00)\n"
          ]
        }
      ]
    },
    {
      "cell_type": "code",
      "source": [
        "draw_best2(ver_data, best, bl, filename=\"steepest\")"
      ],
      "metadata": {
        "id": "-Fo9x8fEmIAa",
        "outputId": "17300527-a1c4-450d-b173-7e174bc284f9",
        "colab": {
          "base_uri": "https://localhost:8080/",
          "height": 311
        }
      },
      "execution_count": null,
      "outputs": [
        {
          "output_type": "display_data",
          "data": {
            "text/plain": [
              "<Figure size 432x288 with 1 Axes>"
            ],
            "image/png": "[encoded data removed]"
          },
          "metadata": {
            "needs_background": "light"
          }
        },
        {
          "output_type": "stream",
          "name": "stdout",
          "text": [
            "time: 703 ms (started: 2022-04-03 13:49:39 +00:00)\n"
          ]
        }
      ]
    },
    {
      "cell_type": "markdown",
      "source": [
        "# LAB 3"
      ],
      "metadata": {
        "id": "AZjzGFOZRUYo"
      }
    },
    {
      "cell_type": "code",
      "source": [
        "!pip install tspy\n",
        "!pip install TSPLib95\n",
        "\n",
        "import tsplib95\n",
        "import numpy as np\n",
        "import matplotlib.pyplot as plt\n",
        "from tspy import TSP\n",
        "from random import randint\n",
        "import time"
      ],
      "metadata": {
        "colab": {
          "base_uri": "https://localhost:8080/"
        },
        "id": "-SA1TxMnEa0b",
        "outputId": "7eaa0717-99e4-409c-f776-664dccb211fd"
      },
      "execution_count": null,
      "outputs": [
        {
          "output_type": "stream",
          "name": "stdout",
          "text": [
            "Collecting tspy\n",
            "  Downloading tspy-0.1.1.1-py3-none-any.whl (9.0 kB)\n",
            "Installing collected packages: tspy\n",
            "Successfully installed tspy-0.1.1.1\n",
            "Collecting TSPLib95\n",
            "  Downloading tsplib95-0.7.1-py2.py3-none-any.whl (25 kB)\n",
            "Requirement already satisfied: Click>=6.0 in /usr/local/lib/python3.7/dist-packages (from TSPLib95) (7.1.2)\n",
            "Requirement already satisfied: networkx~=2.1 in /usr/local/lib/python3.7/dist-packages (from TSPLib95) (2.6.3)\n",
            "Collecting Deprecated~=1.2.9\n",
            "  Downloading Deprecated-1.2.13-py2.py3-none-any.whl (9.6 kB)\n",
            "Requirement already satisfied: tabulate~=0.8.7 in /usr/local/lib/python3.7/dist-packages (from TSPLib95) (0.8.9)\n",
            "Requirement already satisfied: wrapt<2,>=1.10 in /usr/local/lib/python3.7/dist-packages (from Deprecated~=1.2.9->TSPLib95) (1.14.0)\n",
            "Installing collected packages: Deprecated, TSPLib95\n",
            "Successfully installed Deprecated-1.2.13 TSPLib95-0.7.1\n"
          ]
        }
      ]
    },
    {
      "cell_type": "code",
      "source": [
        "tsp = TSP()\n",
        "\n",
        "kroAProblem = tsplib95.load('kroA200.tsp')\n",
        "kroBProblem = tsplib95.load('kroB200.tsp')\n",
        "\n",
        "kroAData = kroAProblem.as_name_dict()['node_coords']\n",
        "kroBData = kroBProblem.as_name_dict()['node_coords']\n",
        "\n",
        "verticesA = [kroAData[key] for key in kroAData]\n",
        "verticesB = [kroBData[key] for key in kroBData]"
      ],
      "metadata": {
        "id": "N0KCOFj5EdOm"
      },
      "execution_count": null,
      "outputs": []
    },
    {
      "cell_type": "code",
      "source": [
        "def distance_matrix(vertices):\n",
        "  outputMatrix = [[round(np.sqrt((x2 - x1) ** 2 + (y2 - y1) ** 2)) for (x2, y2) in vertices] for (x1, y1) in vertices]\n",
        "\n",
        "  return np.array(outputMatrix)"
      ],
      "metadata": {
        "id": "OQmQUQLaEeWf"
      },
      "execution_count": null,
      "outputs": []
    },
    {
      "cell_type": "code",
      "source": [
        "def choose_nearest(matrix, invited_vertices, node):\n",
        "  return np.argmin([matrix[node][i] if i not in invited_vertices and i != node else float('inf') for i in range(0, len(matrix[node]))])"
      ],
      "metadata": {
        "id": "rrwuqP8yEgBv"
      },
      "execution_count": null,
      "outputs": []
    },
    {
      "cell_type": "code",
      "source": [
        "def calculate_cycle_length(matrix, visited):\n",
        "  sum = 0\n",
        "  for graph in visited:\n",
        "    sum += np.sum([matrix[ graph[idx], graph[idx+1] ] for idx in range(len(graph) - 1)])\n",
        "  return sum"
      ],
      "metadata": {
        "id": "us9Y4QQdEhGJ"
      },
      "execution_count": null,
      "outputs": []
    },
    {
      "cell_type": "code",
      "source": [
        "def draw_plot(vertices, visited, length, filename = \"x\"):\n",
        "  for graph in visited:\n",
        "    x = [vertices[idx][0] for idx in graph]\n",
        "    y = [vertices[idx][1] for idx in graph]\n",
        "    plt.plot(x, y)\n",
        "  for i in vertices:\n",
        "    plt.scatter(i[0], i[1], color='red')\n",
        "  plt.suptitle(f'score: {int(length)}')\n",
        "  plt.savefig(f'{filename}.jpg')\n",
        "  plt.show()"
      ],
      "metadata": {
        "id": "W1Y8NQYIEiCj"
      },
      "execution_count": null,
      "outputs": []
    },
    {
      "cell_type": "code",
      "source": [
        "def random_heuristic(matrix, start):\n",
        "    import random\n",
        "    N = matrix.shape[0]\n",
        "    a = random.sample(range(N), N)\n",
        "    list1 = a[:N//2]\n",
        "    list1.append(list1[0])\n",
        "    list2 = a[N//2:]\n",
        "    list2.append(list2[0])\n",
        "    return [list1, list2]"
      ],
      "metadata": {
        "id": "SSrVi1f8d_Og"
      },
      "execution_count": null,
      "outputs": []
    },
    {
      "cell_type": "markdown",
      "source": [
        "## Ruchy kandydackie"
      ],
      "metadata": {
        "id": "Jq5J9GmZsHnN"
      }
    },
    {
      "cell_type": "code",
      "source": [
        "def find_cycle(cycles, a):\n",
        "    if a in cycles[0]:\n",
        "      return 0, cycles[0].index(a)\n",
        "    return 1, cycles[1].index(a)\n",
        "\n",
        "def reverse(cycle, i, j):\n",
        "    n = len(cycle)\n",
        "    d = (j - i) % n\n",
        "    for k in range(d//2+1):\n",
        "        a, b = (i+k)%n, (i+d-k)%n\n",
        "        cycle[a], cycle[b] = cycle[b], cycle[a]\n",
        "\n",
        "def calculate_delta(typ, matrix, a, b, cycle1, cycle2, i, j):\n",
        "    if typ == \"edges\":\n",
        "      n = len(cycle1)\n",
        "      a, b, c, d = a, cycle1[(i+1)%n], b, cycle1[(j+1)%n]\n",
        "      return matrix[a, c] + matrix[b, d] - matrix[a, b] - matrix[c, d]\n",
        "    elif typ==\"cycles\":\n",
        "      n, m = len(cycle1), len(cycle2)\n",
        "      x1, y1, z1 = cycle1[(i-1)%n], cycle1[i], cycle1[(i+1)%n]\n",
        "      x2, y2, z2 = cycle2[(j-1)%m], cycle2[j], cycle2[(j+1)%m]\n",
        "      return matrix[x1,y2] + matrix[z1,y2] - matrix[x1,y1] - matrix[z1,y1] + matrix[x2,y1] + matrix[z2,y1] - matrix[x2,y2] - matrix[z2,y2]\n",
        "\n",
        "\n",
        "def move(typ, a, b, cycles):\n",
        "    if typ == \"edges\":\n",
        "        (c1, i), (c2, j) = find_cycle(cycles, a), find_cycle(cycles, b)\n",
        "        cycle = cycles[c1]\n",
        "        n = len(cycle)\n",
        "        reverse(cycle, (i+1)%n, j)\n",
        "    elif typ == \"cycles\":\n",
        "        (c1, i), (c2, j) = find_cycle(cycles, a), find_cycle(cycles, b)\n",
        "        cycles[c1][i], cycles[c2][j] = cycles[c2][j], cycles[c1][i]\n"
      ],
      "metadata": {
        "id": "QevVJEx_3fpm"
      },
      "execution_count": null,
      "outputs": []
    },
    {
      "cell_type": "code",
      "source": [
        "def steepest_candidate_movements(matrix, visited_1, visited_2, k=10):\n",
        "    N = len(matrix)\n",
        "    cycles = [visited_1, visited_2]\n",
        "\n",
        "    while True:\n",
        "        best_move, best_delta = None, 0\n",
        "        for a in range(N):\n",
        "            for b in np.argpartition(matrix[a], k+1)[:k+1]:\n",
        "                if a == b:\n",
        "                  continue\n",
        "\n",
        "                c1, i = find_cycle(cycles, a)\n",
        "                c2, j = find_cycle(cycles, b)\n",
        "                M, delta = None, None\n",
        "                if c1 == c2:\n",
        "                    delta = calculate_delta(\"edges\", matrix, a, b, cycles[c1], None, i, j)\n",
        "                    M = a, b, \"edges\"\n",
        "                else:\n",
        "                    delta = calculate_delta(\"cycles\", matrix, a, b, cycles[c1], cycles[c2], i, j)\n",
        "                    M = a, b, \"cycles\"\n",
        "                if delta < best_delta:\n",
        "                    best_delta, best_move = delta, M\n",
        "                    \n",
        "        if best_move is None:\n",
        "            break\n",
        "        a, b, typ = best_move\n",
        "        move(typ, a, b, cycles)\n",
        "            \n",
        "    return cycles[0], cycles[1]"
      ],
      "metadata": {
        "id": "qhpfOUs1iiuK"
      },
      "execution_count": null,
      "outputs": []
    },
    {
      "cell_type": "markdown",
      "source": [
        "## Lokalne przeszukiwania z listą ruchów przynoszących poprawę\n"
      ],
      "metadata": {
        "id": "e09Rh6apRvTA"
      }
    },
    {
      "cell_type": "code",
      "source": [
        "def is_edge(cycle, a, b):\n",
        "  if a in cycle and b in cycle:\n",
        "    return cycle.index(b) - cycle.index(a) if abs(cycle.index(b) - cycle.index(a))==1 else 0\n",
        "  return False\n",
        "\n",
        "def start_moves(matrix, cycles):\n",
        "    moves = []\n",
        "    for k in range(2):\n",
        "        cycle = cycles[k]\n",
        "        n = len(cycle)\n",
        "        for i in range(n):\n",
        "            for j in range(i+1, n):\n",
        "              delta = calculate_delta(\"edges\",matrix, cycle[i], cycle[j], cycle, None, i, j)\n",
        "              if delta<0:\n",
        "                moves.append([delta, cycle[i], cycle[(i+1)%n], cycle[j], cycle[(j+1)%n], \"edges\"])\n",
        "\n",
        "    for i in range(len(cycles[0])):\n",
        "      for j in range(len(cycles[1])):\n",
        "        delta = calculate_delta(\"cycles\",matrix, cycles[0][i], cycles[1][j], cycles[0], cycles[1], i, j)\n",
        "        if delta<0:\n",
        "          n, m = len(cycles[0]), len(cycles[1])\n",
        "          x1, y1, z1 = cycles[0][(i-1)%n], cycles[0][i], cycles[0][(i+1)%n]\n",
        "          x2, y2, z2 = cycles[1][(j-1)%m], cycles[1][j], cycles[1][(j+1)%m]\n",
        "          moves.append([delta, 0, 1, x1, y1, z1, x2, y2, z2, \"cycles\"])\n",
        "    return moves\n",
        " \n",
        "\n",
        "\n",
        "\n",
        "def next_moves(matrix, cycles, typ, a, b):\n",
        "    moves = []\n",
        "    if typ == \"edges\":\n",
        "        cycle = cycles[0] if a in cycles[0] else cycles[1]\n",
        "        n = len(cycle)\n",
        "        I = cycle.index(a)\n",
        "        for i in range(I, n):\n",
        "          for j in range(i+1, n):\n",
        "            delta = calculate_delta(\"edges\",matrix, cycle[i], cycle[j], cycle, None, i, j)\n",
        "            if delta<0:\n",
        "              moves.append([delta, cycle[i], cycle[(i+1)%n], cycle[j], cycle[(j+1)%n], \"edges\"])\n",
        "            delta = calculate_delta(\"edges\",matrix, cycle[j], cycle[i], cycle, None, j, i)\n",
        "            if delta<0:\n",
        "              moves.append([delta, cycle[j], cycle[(j+1)%n], cycle[i], cycle[(i+1)%n], \"edges\"])\n",
        "\n",
        "    elif typ == \"cycles\":\n",
        "        (c1, i), (c2, j) = find_cycle(cycles, a), find_cycle(cycles, b)\n",
        "        n, m = len(cycles[c1]), len(cycles[c2])\n",
        "        for k in range(m):\n",
        "            delta = calculate_delta(\"cycles\",matrix, a, cycles[c2][k], cycles[c1], cycles[c2], i, k)\n",
        "            if delta<0:\n",
        "              x1, y1, z1 = cycles[c1][(i-1)%n], cycles[c1][i], cycles[c1][(i+1)%n]\n",
        "              x2, y2, z2 = cycles[c2][(k-1)%m], cycles[c2][k], cycles[c2][(k+1)%m]\n",
        "              moves.append([delta, c1, c2, x1, y1, z1, x2, y2, z2, \"cycles\"])\n",
        "        for k in range(n):\n",
        "            delta = calculate_delta(\"cycles\",matrix, b, cycles[c1][k], cycles[c2], cycles[c1], j, k)\n",
        "            if delta<0:\n",
        "              x1, y1, z1 = cycles[c2][(j-1)%n], cycles[c2][j], cycles[c2][(j+1)%n]\n",
        "              x2, y2, z2 = cycles[c1][(k-1)%m], cycles[c1][k], cycles[c1][(k+1)%m]\n",
        "              moves.append([delta, c2, c1, x1, y1, z1, x2, y2, z2, \"cycles\"])\n",
        "    return moves"
      ],
      "metadata": {
        "id": "nM1iE8kZgz5a",
        "colab": {
          "base_uri": "https://localhost:8080/"
        },
        "outputId": "bf89b82d-baae-47de-bcc0-3175e65dd3ba"
      },
      "execution_count": null,
      "outputs": [
        {
          "output_type": "stream",
          "name": "stdout",
          "text": [
            "time: 83.1 ms (started: 2022-05-11 12:46:53 +00:00)\n"
          ]
        }
      ]
    },
    {
      "cell_type": "code",
      "source": [
        "def steepest_list_better_moves(matrix, cycles):\n",
        "    moves = sorted(start_moves(matrix, cycles), key=lambda x: x[0])\n",
        "\n",
        "    while True:\n",
        "        to_remove = []\n",
        "        best_move = None\n",
        "        for k, M in enumerate(moves):\n",
        "\n",
        "            if M[-1] == \"edges\":\n",
        "                _, a, b, c, d, _ = M\n",
        "\n",
        "                c1, s1, c2, s2 = None, False, None, False\n",
        "\n",
        "                for i in range(2):\n",
        "                  status = is_edge(cycles[i], a, b)\n",
        "                  if status: \n",
        "                    c1, s1 = i, status\n",
        "                \n",
        "                \n",
        "                for i in range(2):\n",
        "                  status = is_edge(cycles[i], c, d)\n",
        "                  if status: \n",
        "                    c2, s2 = i, status\n",
        "\n",
        "                if c1 != c2 or False in [s1,s2]:\n",
        "                    to_remove.append(k)\n",
        "                elif s1 == s2 == 1:\n",
        "                    to_remove.append(k)\n",
        "                    best_move = a, c, \"edges\"\n",
        "                    break\n",
        "                elif s1 == s2 == -1:\n",
        "                    to_remove.append(k)\n",
        "                    best_move = b, d, \"edges\"\n",
        "                    break\n",
        "\n",
        "\n",
        "            elif M[-1] == \"cycles\":\n",
        "                _, c1, c2, a, b, c, d, e, f, _ = M\n",
        "                S = [[c1, a, b], [c1, b, c], [c2, d, e], [c2, e, f]]\n",
        "                s = []\n",
        "                for s in S:\n",
        "                  s.append(is_edge(cycles[s[0]], s[1], s[2]))\n",
        "                \n",
        "                if c1 == c2 or False in s:\n",
        "                    to_remove.append(k)\n",
        "                elif s[0] == s[1] and s[2] == s[3]:\n",
        "                    to_remove.append(k)\n",
        "                    best_move = b, e, \"cycles\"\n",
        "                    break\n",
        "                \n",
        "        if best_move is None:\n",
        "            break\n",
        "            \n",
        "        for i in reversed(to_remove):\n",
        "          del(moves[i])\n",
        "\n",
        "        a, b, typ = best_move\n",
        "\n",
        "        move(typ, a, b, cycles)\n",
        "        new_moves = next_moves(matrix, cycles, typ, a, b)\n",
        "       \n",
        "        moves.extend(new_moves)\n",
        "        moves = sorted(moves, key=lambda x: x[0])\n",
        "  \n",
        "        \n",
        "    return cycles"
      ],
      "metadata": {
        "id": "1lSyUkH-gs5o",
        "colab": {
          "base_uri": "https://localhost:8080/"
        },
        "outputId": "9d723482-a1ee-45bf-d462-a94da626933a"
      },
      "execution_count": null,
      "outputs": [
        {
          "output_type": "stream",
          "name": "stdout",
          "text": [
            "time: 79 ms (started: 2022-05-11 12:22:22 +00:00)\n"
          ]
        }
      ]
    },
    {
      "cell_type": "markdown",
      "source": [
        "## Testowanie algorytmów"
      ],
      "metadata": {
        "id": "VXvpfGthrD8d"
      }
    },
    {
      "cell_type": "code",
      "source": [
        "#load time measurement\n",
        "!pip install ipython-autotime\n",
        "%load_ext autotime"
      ],
      "metadata": {
        "id": "jCLFPnTlEUBG"
      },
      "execution_count": null,
      "outputs": []
    },
    {
      "cell_type": "code",
      "source": [
        "version = verticesA\n",
        "matrix = distance_matrix(version)\n",
        "best_sum = np.inf\n",
        "best = None\n",
        "sums = []\n",
        "\n",
        "for i in range(100):\n",
        "  start_node_1 = i\n",
        "  visited_1, visited_2 = random_heuristic(matrix, start_node_1)\n",
        "  final_visited_1, final_visited_2 = steepest_list_better_moves(matrix, [visited_1, visited_2])\n",
        "  sum = calculate_cycle_length(matrix, [final_visited_1, final_visited_2])\n",
        "  sums.append(sum)\n",
        "  if sum<best_sum:\n",
        "    best = [final_visited_1, final_visited_2]\n",
        "    best_sum = sum\n",
        "\n",
        "print(max(sums))\n",
        "print(min(sums))\n",
        "print(np.mean(sums))\n",
        "draw_plot(version, best, min(sums), \"lepszeRuchyA\")\n",
        "\n"
      ],
      "metadata": {
        "id": "OE_B0oiTF4Ou"
      },
      "execution_count": null,
      "outputs": []
    },
    {
      "cell_type": "code",
      "source": [
        "version = verticesB\n",
        "matrix = distance_matrix(version)\n",
        "best_sum = np.inf\n",
        "best = None\n",
        "sums = []\n",
        "for i in range(100):\n",
        "  start_node_1 = i\n",
        "  visited_1, visited_2 = random_heuristic(matrix, start_node_1)\n",
        "  final_visited_1, final_visited_2 = steepest_candidate_movements(matrix, visited_1, visited_2)\n",
        "  sum = calculate_cycle_length(matrix, [final_visited_1, final_visited_2])\n",
        "  sums.append(sum)\n",
        "  if sum<best_sum:\n",
        "    best = [final_visited_1, final_visited_2]\n",
        "    best_sum = sum\n",
        "    \n",
        "\n",
        "\n",
        "print(max(sums))\n",
        "print(min(sums))\n",
        "print(np.mean(sums))\n",
        "draw_plot(version, best, min(sums), \"kandydackiB\")\n"
      ],
      "metadata": {
        "id": "FmC9x6QvErwd"
      },
      "execution_count": null,
      "outputs": []
    },
    {
      "cell_type": "markdown",
      "source": [
        "# LAB 4"
      ],
      "metadata": {
        "id": "zXEzJHcanyKJ"
      }
    },
    {
      "cell_type": "markdown",
      "metadata": {
        "id": "lTKX_d3jnyTS"
      },
      "source": [
        "## MSLS"
      ]
    },
    {
      "cell_type": "code",
      "execution_count": null,
      "metadata": {
        "id": "fPqYgIcenyTT",
        "outputId": "49aa080f-f927-42a0-92e7-06697f9243f1"
      },
      "outputs": [
        {
          "name": "stdout",
          "output_type": "stream",
          "text": [
            "time: 588 µs (started: 2022-05-15 22:07:13 +02:00)\n"
          ]
        }
      ],
      "source": [
        "from random import randint\n",
        "def multiple_start_local_search(matrix, numIteration = 100):\n",
        "  i = 0\n",
        "  global_sum = np.inf\n",
        "  final_visited_1, final_visited_2 = [], []\n",
        "  \n",
        "  # stop condition => 100 iterations\n",
        "  pbar = tqdm(total=numIteration)\n",
        "  while i < numIteration:\n",
        "    pbar.update(1)\n",
        "    # generate random start solution\n",
        "    start_vertice = randint(0, len(matrix) - 1)\n",
        "    [visited_1, visited_2] = random_heuristic(matrix, start_vertice)\n",
        "\n",
        "    # Local search \n",
        "    # steepest_change_vertices(matrix, visited_1, visited_2)\n",
        "    visited_1, visited_2 = greedy(matrix, start_solution = [visited_1, visited_2], verbose = False)\n",
        "    sum = calculateCycleLength(matrix, [visited_1, visited_2])\n",
        "\n",
        "    # check if it's better than last\n",
        "    if (sum < global_sum):\n",
        "      global_sum = sum\n",
        "      final_visited_1, final_visited_2 = visited_1, visited_2\n",
        "\n",
        "    i += 1\n",
        "  pbar.close()\n",
        "\n",
        "  return final_visited_1, final_visited_2"
      ]
    },
    {
      "cell_type": "markdown",
      "metadata": {
        "id": "qFG-5nf8nyTT"
      },
      "source": [
        "## ILS"
      ]
    },
    {
      "cell_type": "code",
      "execution_count": null,
      "metadata": {
        "id": "MONByc73nyTT"
      },
      "outputs": [],
      "source": [
        "def change_solution(visited_1, visited_2):\n",
        "  first = randint(0, len(visited_1) - 1)\n",
        "  second = randint(0, len(visited_2) - 1)\n",
        "\n",
        "  visited_1[first], visited_2[second] = visited_2[second], visited_1[first]\n",
        "\n",
        "  return visited_1, visited_2"
      ]
    },
    {
      "cell_type": "code",
      "execution_count": null,
      "metadata": {
        "id": "wn6LzxywnyTT"
      },
      "outputs": [],
      "source": [
        "def check_for_best_move(matrix, item, visited):\n",
        "  min_value = np.inf\n",
        "  min_index = None\n",
        "\n",
        "  for i, vertex in enumerate(visited[0:-1]):\n",
        "    temp_sum = matrix[vertex][item] + matrix[visited[i + 1]][item]\n",
        "\n",
        "    if temp_sum < min_value:\n",
        "      min_value = temp_sum\n",
        "      min_index = i + 1\n",
        "\n",
        "  return min_index"
      ]
    },
    {
      "cell_type": "code",
      "execution_count": null,
      "metadata": {
        "id": "1pJpgjDNnyTU"
      },
      "outputs": [],
      "source": [
        "def rebuilt_solution(matrix, visited_1, visited_2, deleted_vertices):\n",
        "\n",
        "  if visited_1[0] != visited_1[-1]:\n",
        "    visited_1 = np.append(visited_1, visited_1[0])\n",
        "\n",
        "  if visited_2[0] != visited_2[-1]:\n",
        "    visited_2 = np.append(visited_2, visited_2[0])\n",
        "\n",
        "  for elem in deleted_vertices:\n",
        "    if len(visited_2) < len(visited_1):\n",
        "      visited_2 = np.insert(visited_2, check_for_best_move(matrix, elem, visited_2), elem)\n",
        "    else:\n",
        "      visited_1 = np.insert(visited_1, check_for_best_move(matrix, elem, visited_1), elem)\n",
        "  \n",
        "  return visited_1, visited_2"
      ]
    },
    {
      "cell_type": "markdown",
      "metadata": {
        "id": "VlMqeCNQnyTU"
      },
      "source": [
        "## ILS1"
      ]
    },
    {
      "cell_type": "code",
      "execution_count": null,
      "metadata": {
        "id": "d9GbuTa4nyTV"
      },
      "outputs": [],
      "source": [
        "def iterated_start_local_search_1(matrix, iterationNumChange=5, avgTime=919.5): # 9.5): # \n",
        "  \n",
        "  start_vertice = randint(0, len(matrix) - 1)\n",
        "  [visited_1, visited_2] = random_heuristic(matrix, start_vertice)\n",
        "  steepest(matrix, start_solution=[visited_1, visited_2], verbose=False)\n",
        "  global_sum = calculateCycleLength(matrix, [visited_1, visited_2])\n",
        "\n",
        "\n",
        "  while (end - start) < avgTime:\n",
        "    # rozpoczynamy perturbacje od najlepszego do tej pory\n",
        "    temp_visited_1, temp_visited_2 = np.copy(visited_1), np.copy(visited_2)\n",
        "\n",
        "    # simple perturabtion\n",
        "    for i in range(0, iterationNumChange):\n",
        "      temp_visited_1, temp_visited_2 = change_solution(temp_visited_1, temp_visited_2)\n",
        "\n",
        "    # Local Search\n",
        "    temp_visited_1, temp_visited_2 = greedy(matrix, start_solution=[temp_visited_1, temp_visited_2], verbose=False)\n",
        "    #steepest_change_vertices(matrix, temp_visited_1, temp_visited_2)\n",
        "    \n",
        "    sum = calculateCycleLength(matrix, [temp_visited_1, temp_visited_2])\n",
        "\n",
        "    if (sum < global_sum):\n",
        "      global_sum = sum\n",
        "      visited_1, visited_2 = temp_visited_1, temp_visited_2\n",
        "    \n",
        "  return visited_1, visited_2"
      ]
    },
    {
      "cell_type": "markdown",
      "metadata": {
        "id": "qogX39alnyTV"
      },
      "source": [
        "## ILS 2"
      ]
    },
    {
      "cell_type": "code",
      "execution_count": null,
      "metadata": {
        "id": "bpbNf5kGnyTV"
      },
      "outputs": [],
      "source": [
        "def iterated_start_local_search_2(matrix, rebuildSize = 0.2, avgTime = 919.5):\n",
        "  if rebuildSize > 1.0:\n",
        "    print('Error rebuilt size must be <= 1.')\n",
        "    rebuildSize = 0.2\n",
        " \n",
        "  start_vertice = randint(0, len(matrix) - 1)\n",
        "  visited_1, visited_2 = random_heuristic(matrix, start_vertice)\n",
        "  # steepest_change_vertices(matrix, visited_1, visited_2)\n",
        "  global_sum = calculateCycleLength(matrix, [visited_1, visited_2])\n",
        "\n",
        "  start = time()\n",
        "  end = 0\n",
        "\n",
        "  while (end - start) < avgTime:\n",
        "    # rozpoczynamy perturbacje od najlepszego do tej pory\n",
        "    temp_visited_1, temp_visited_2 = np.copy(visited_1), np.copy(visited_2)\n",
        "    deleted_vertices = []\n",
        "\n",
        "    # destroy solution - perturbacja\n",
        "    while len(temp_visited_1) + len(temp_visited_2) >= (1 - rebuildSize) * len(matrix):\n",
        "      if len(temp_visited_1) > len(temp_visited_2): \n",
        "        delete_vertice = randint(0, len(temp_visited_1) - 1)\n",
        "        deleted_vertices.append(temp_visited_1[delete_vertice])\n",
        "        temp_visited_1 = np.delete(temp_visited_1, delete_vertice)\n",
        "\n",
        "      else:\n",
        "        delete_vertice = randint(0, len(temp_visited_2) - 1)\n",
        "        deleted_vertices.append(temp_visited_2[delete_vertice])\n",
        "        temp_visited_2 = np.delete(temp_visited_2, delete_vertice)\n",
        "\n",
        "    # repair solution\n",
        "    temp_visited_1, temp_visited_2 = rebuilt_solution(matrix, temp_visited_1, temp_visited_2, deleted_vertices)\n",
        "\n",
        "    # Local Search\n",
        "    # steepest_change_vertices(matrix, temp_visited_1, temp_visited_2)\n",
        "    temp_visited_1, temp_visited_2 = greedy(matrix, start_solution=[temp_visited_1, temp_visited_2], verbose=False)\n",
        "    \n",
        "    sum = calculateCycleLength(matrix, [temp_visited_1, temp_visited_2])\n",
        "\n",
        "    if (sum < global_sum):\n",
        "      global_sum = sum\n",
        "      visited_1, visited_2 = temp_visited_1, temp_visited_2\n",
        "    \n",
        "    end = time()\n",
        "    \n",
        "  return visited_1, visited_2"
      ]
    },
    {
      "cell_type": "markdown",
      "source": [
        "# LAB 4 (poprawione) i LAB 5"
      ],
      "metadata": {
        "id": "UU2rRoInz8Pz"
      }
    },
    {
      "cell_type": "code",
      "execution_count": null,
      "metadata": {
        "id": "l4A3SwqTz7V9"
      },
      "outputs": [],
      "source": [
        "import numpy as np\n",
        "from matplotlib import pyplot as plt\n",
        "import math\n",
        "import random\n",
        "import time\n",
        "from tqdm import tqdm\n",
        "\n",
        "\n",
        "def read_instance(filename):\n",
        "    coordinates = []\n",
        "    with open(filename) as mf:\n",
        "        for _ in range(6):\n",
        "            mf.readline()\n",
        "        for line in mf:\n",
        "            if line != 'EOF\\n':\n",
        "                coordinates.append([int(v) for v in line.split()[1:]])\n",
        "    instance = np.zeros((len(coordinates), len(coordinates)), dtype=np.int32)\n",
        "    for i in range(len(coordinates)):\n",
        "        for j in range(i, len(coordinates)):\n",
        "            dist = euclidian_distance(coordinates[i], coordinates[j])\n",
        "            instance[i][j] = dist\n",
        "            instance[j][i] = dist\n",
        "    return coordinates, instance\n",
        "\n",
        "\n",
        "def euclidian_distance(a, b):\n",
        "    return round(math.sqrt((b[0] - a[0]) ** 2 + (b[1] - a[1]) ** 2))\n",
        "\n",
        "\n",
        "def evaluate_solution(instance, cycles):\n",
        "    if np.any(np.unique(cycles) != np.arange(0, instance.shape[0], 1)):\n",
        "        # print(np.argmax(np.bincount(np.array(cycles).flatten())))\n",
        "        # print(np.count_nonzero(np.array(cycles).flatten() == 64))\n",
        "        print(np.unique(cycles))\n",
        "        print(cycles[0][0], cycles[1][0])\n",
        "        print(\"Wrong solution\")\n",
        "    distance = 0\n",
        "    for cycle in cycles:\n",
        "        for i in range(len(cycle)):\n",
        "            distance += instance[cycle[i], cycle[(i + 1) % len(cycle)]]\n",
        "    return distance"
      ]
    },
    {
      "cell_type": "code",
      "execution_count": null,
      "metadata": {
        "id": "qZneKBbnz7WA"
      },
      "outputs": [],
      "source": [
        "def draw_plot(vertices, visited, length, filename = \"x\"):\n",
        "  for graph in visited:\n",
        "    x = [vertices[idx][0] for idx in graph]\n",
        "    y = [vertices[idx][1] for idx in graph]\n",
        "    plt.plot(x, y)\n",
        "  for i in vertices:\n",
        "    plt.scatter(i[0], i[1], color='red')\n",
        "  plt.suptitle(f'score: {int(length)}')\n",
        "  plt.savefig(f'{filename}.jpg')\n",
        "  plt.show()"
      ]
    },
    {
      "cell_type": "code",
      "execution_count": null,
      "metadata": {
        "id": "KBDjyBrYz7WB"
      },
      "outputs": [],
      "source": [
        "def random_cycle(instance, *args):\n",
        "    vertices = np.arange(0, instance.shape[0])\n",
        "    for _ in range(instance.shape[0]):\n",
        "        random.shuffle(vertices)\n",
        "\n",
        "    a_cycle = vertices[(instance.shape[0] // 2):]\n",
        "    b_cycle = vertices[:(instance.shape[0] // 2)]\n",
        "\n",
        "    return a_cycle, b_cycle\n",
        "\n",
        "\n",
        "def greedy_cycle(instance, starting_point_a, starting_point_b):\n",
        "    a_cycle = [starting_point_a]\n",
        "    b_cycle = [starting_point_b]\n",
        "\n",
        "    available = np.ones((instance.shape[0],), dtype=bool)\n",
        "    available[starting_point_a] = False\n",
        "    available[starting_point_b] = False\n",
        "\n",
        "    b_cycle_length = instance.shape[0] // 2\n",
        "    a_cycle_length = instance.shape[0] - b_cycle_length\n",
        "\n",
        "    for cycle, length in ((a_cycle, a_cycle_length), (b_cycle, b_cycle_length)):\n",
        "\n",
        "        # Add nearest neighbor\n",
        "        min_distance = np.min(instance[cycle[0]][available])\n",
        "        possible_destinations = np.squeeze(np.argwhere(instance[cycle[0]] == min_distance), axis=-1)\n",
        "        for possible_destination in possible_destinations:\n",
        "            if available[possible_destination]:\n",
        "                cycle.append(possible_destination)\n",
        "                available[possible_destination] = False\n",
        "                break\n",
        "\n",
        "        for i in range(length - 2):\n",
        "\n",
        "            best_source = cycle[0]\n",
        "            best_destination = np.argwhere(available)[0, 0]\n",
        "            best_value = instance[best_source, best_destination] + \\\n",
        "                         instance[cycle[1], best_destination] - \\\n",
        "                         instance[cycle[0], cycle[1]]\n",
        "\n",
        "            for j in range(len(cycle)):\n",
        "                for k in range(instance.shape[0]):\n",
        "                    if available[k]:\n",
        "                        value = instance[cycle[j], k] + \\\n",
        "                                instance[k, cycle[(j+1) % len(cycle)]] - \\\n",
        "                                instance[cycle[j], cycle[(j+1) % len(cycle)]]\n",
        "                        if value < best_value:\n",
        "                            best_source = cycle[j]\n",
        "                            best_destination = k\n",
        "                            best_value = value\n",
        "\n",
        "            cycle.insert(cycle.index(best_source) + 1, best_destination)\n",
        "            available[best_destination] = False\n",
        "\n",
        "    return a_cycle, b_cycle\n",
        "\n",
        "\n",
        "def greedy_cycle_repair(instance, starting_cycle_a, starting_cycle_b):\n",
        "    a_cycle = starting_cycle_a\n",
        "    b_cycle = starting_cycle_b\n",
        "\n",
        "    available = np.ones((instance.shape[0],), dtype=bool)\n",
        "    for a in a_cycle:\n",
        "        available[a] = False\n",
        "    for b in b_cycle:\n",
        "        available[b] = False\n",
        "\n",
        "    b_cycle_length = instance.shape[0] // 2\n",
        "    a_cycle_length = instance.shape[0] - b_cycle_length\n",
        "\n",
        "    for cycle, length in ((a_cycle, a_cycle_length), (b_cycle, b_cycle_length)):\n",
        "\n",
        "        # Added\n",
        "        if len(cycle) == length:\n",
        "            continue\n",
        "\n",
        "        # Add nearest neighbor\n",
        "        min_distance = np.min(instance[cycle[0]][available])\n",
        "        possible_destinations = np.squeeze(np.argwhere(instance[cycle[0]] == min_distance), axis=-1)\n",
        "        for possible_destination in possible_destinations:\n",
        "            if available[possible_destination]:\n",
        "                cycle.append(possible_destination)\n",
        "                available[possible_destination] = False\n",
        "                break\n",
        "\n",
        "        l = len(cycle)\n",
        "        for i in range(length - l):\n",
        "\n",
        "            best_source = cycle[0]\n",
        "            best_destination = np.argwhere(available)[0, 0]\n",
        "            best_value = instance[best_source, best_destination] + \\\n",
        "                         instance[cycle[1], best_destination] - \\\n",
        "                         instance[cycle[0], cycle[1]]\n",
        "\n",
        "            for j in range(len(cycle)):\n",
        "                for k in range(instance.shape[0]):\n",
        "                    if available[k]:\n",
        "                        value = instance[cycle[j], k] + \\\n",
        "                                instance[k, cycle[(j + 1) % len(cycle)]] - \\\n",
        "                                instance[cycle[j], cycle[(j + 1) % len(cycle)]]\n",
        "                        if value < best_value:\n",
        "                            best_source = cycle[j]\n",
        "                            best_destination = k\n",
        "                            best_value = value\n",
        "\n",
        "            cycle.insert(cycle.index(best_source) + 1, best_destination)\n",
        "            available[best_destination] = False\n",
        "\n",
        "    return a_cycle, b_cycle\n",
        "\n",
        "\n",
        "def steepest_local_search(a_cycle, b_cycle, distance_matrix, neighbor_type='1'):\n",
        "    start_time = time.time()\n",
        "    a_cycle_result = a_cycle.copy()\n",
        "    b_cycle_result = b_cycle.copy()\n",
        "    i = 0\n",
        "    M = generate_moves(a_cycle_result, b_cycle_result, neighbor_type)\n",
        "    while True:\n",
        "        i = i + 1\n",
        "        bestMove = (0, None)\n",
        "\n",
        "        for move in M:\n",
        "            delta = calculate_delta(a_cycle_result, b_cycle_result, distance_matrix, move)\n",
        "            if delta < bestMove[0]:\n",
        "                bestMove = (delta, move)\n",
        "\n",
        "        if bestMove[1] is not None:\n",
        "            a_cycle_result, b_cycle_result = apply_move(a_cycle_result, b_cycle_result, bestMove[1])\n",
        "        else:\n",
        "            break\n",
        "\n",
        "    elapsed_time_seconds = time.time() - start_time\n",
        "    return a_cycle_result, b_cycle_result, elapsed_time_seconds\n",
        "\n",
        "\n",
        "def greedy_local_search(a_cycle, b_cycle, distance_matrix, neighbor_type='2'):\n",
        "    start_time = time.time()\n",
        "    a_cycle_result = a_cycle.copy()\n",
        "    b_cycle_result = b_cycle.copy()\n",
        "    i = 0\n",
        "    M = generate_moves(a_cycle_result, b_cycle_result, neighbor_type)\n",
        "    while True:\n",
        "        # print(f\"Greedy iteration: {i}\")\n",
        "        i = i + 1\n",
        "        no_better_moves = True\n",
        "        random_bias = random.randrange(0, len(M))\n",
        "        random_direction = random.randrange(-1, 2, 2)\n",
        "\n",
        "        for ind in range(len(M)):\n",
        "            move = M[random_direction * ((ind + random_bias) % len(M))]\n",
        "            delta = calculate_delta(a_cycle_result, b_cycle_result, distance_matrix, move)\n",
        "            if delta < 0:\n",
        "                # print(f\"Aplying move {move} with delta={delta}\")\n",
        "                a_cycle_result, b_cycle_result = apply_move(a_cycle_result, b_cycle_result, move)\n",
        "                no_better_moves = False\n",
        "                break\n",
        "\n",
        "        if no_better_moves:\n",
        "            break\n",
        "\n",
        "    elapsed_time_seconds = time.time() - start_time\n",
        "    return a_cycle_result, b_cycle_result, elapsed_time_seconds"
      ]
    },
    {
      "cell_type": "code",
      "execution_count": null,
      "metadata": {
        "id": "aUazqggiz7WD"
      },
      "outputs": [],
      "source": [
        "def calculate_delta(a_cycle, b_cycle, distance_matrix, move):\n",
        "    result = 0\n",
        "\n",
        "    if move[0] == 0:\n",
        "        ind_a, ind_b = move[1][0], move[1][1]\n",
        "\n",
        "        vert_a, vert_b = a_cycle[ind_a], b_cycle[ind_b]\n",
        "        vert_a_before, vert_b_before = a_cycle[ind_a - 1], b_cycle[ind_b - 1]\n",
        "        vert_a_after, vert_b_after = a_cycle[(ind_a + 1) % len(a_cycle)], b_cycle[(ind_b + 1) % len(b_cycle)]\n",
        "\n",
        "        result = distance_matrix[vert_a_before][vert_b] \\\n",
        "                 + distance_matrix[vert_b][vert_a_after] \\\n",
        "                 - distance_matrix[vert_a_before][vert_a] \\\n",
        "                 - distance_matrix[vert_a][vert_a_after] \\\n",
        "                 + distance_matrix[vert_b_before][vert_a] \\\n",
        "                 + distance_matrix[vert_a][vert_b_after] \\\n",
        "                 - distance_matrix[vert_b_before][vert_b] \\\n",
        "                 - distance_matrix[vert_b][vert_b_after]\n",
        "\n",
        "    elif move[0] == 1:\n",
        "        if move[1][0] == 0:\n",
        "            cycle = a_cycle\n",
        "        elif move[1][0] == 1:\n",
        "            cycle = b_cycle\n",
        "\n",
        "        ind_1 = min(move[1][1], move[1][2])\n",
        "        ind_2 = max(move[1][1], move[1][2])\n",
        "        # przypadki brzegowe\n",
        "        if ind_1 == 0 and ind_2 == len(cycle) - 1 or ind_1 == 0 and ind_2 == len(cycle) - 2:\n",
        "            ind_1 = ind_2\n",
        "            ind_2 = 0\n",
        "        elif ind_1 == 1 and ind_2 == len(cycle) - 1:\n",
        "            ind_1 = ind_2\n",
        "            ind_2 = 1\n",
        "\n",
        "        vert_1, vert_2 = cycle[ind_1], cycle[ind_2]\n",
        "        vert_1_before, vert_2_before = cycle[ind_1 - 1], cycle[ind_2 - 1]\n",
        "\n",
        "        if ind_1 + 1 >= len(cycle):\n",
        "            vert_1_after = cycle[0]\n",
        "        else:\n",
        "            vert_1_after = cycle[ind_1 + 1]\n",
        "\n",
        "        if ind_2 + 1 >= len(cycle):\n",
        "            vert_2_after = cycle[0]\n",
        "        else:\n",
        "            vert_2_after = cycle[ind_2 + 1]\n",
        "\n",
        "        if abs(ind_1 - ind_2) in [1, 2, 48, 49]:\n",
        "            result = distance_matrix[vert_1_before][vert_2] \\\n",
        "                     - distance_matrix[vert_1_before][vert_1] \\\n",
        "                     + distance_matrix[vert_1][vert_2_after] \\\n",
        "                     - distance_matrix[vert_2][vert_2_after]\n",
        "\n",
        "        else:\n",
        "            result = distance_matrix[vert_1_before][vert_2] + \\\n",
        "                     distance_matrix[vert_2][vert_1_after] - \\\n",
        "                     distance_matrix[vert_1_before][vert_1] - \\\n",
        "                     distance_matrix[vert_1][vert_1_after] + \\\n",
        "                     distance_matrix[vert_2_before][vert_1] + \\\n",
        "                     distance_matrix[vert_1][vert_2_after] - \\\n",
        "                     distance_matrix[vert_2_before][vert_2] - \\\n",
        "                     distance_matrix[vert_2][vert_2_after]\n",
        "\n",
        "    elif move[0] == 2:\n",
        "        if move[1][0] == 0:\n",
        "            cycle = a_cycle\n",
        "        elif move[1][0] == 1:\n",
        "            cycle = b_cycle\n",
        "\n",
        "        ind_1, ind_2, ind_3, ind_4 = move[1][1], move[1][2], move[1][3], move[1][4]\n",
        "        vert_1, vert_2, vert_3, vert_4 = cycle[ind_1], cycle[ind_2], cycle[ind_3], cycle[ind_4]\n",
        "\n",
        "        result = distance_matrix[vert_1][vert_3] + \\\n",
        "                 distance_matrix[vert_2][vert_4] - \\\n",
        "                 distance_matrix[vert_1][vert_2] - \\\n",
        "                 distance_matrix[vert_3][vert_4]\n",
        "\n",
        "    else:\n",
        "        raise Exception()\n",
        "\n",
        "    return result\n",
        "\n",
        "\n",
        "def apply_move(a_cycle, b_cycle, move):\n",
        "    if move[0] == 0:\n",
        "        temp = a_cycle[move[1][0]]\n",
        "        a_cycle[move[1][0]] = b_cycle[move[1][1]]\n",
        "        b_cycle[move[1][1]] = temp\n",
        "\n",
        "    elif move[0] == 1:\n",
        "        if move[1][0] == 0:\n",
        "            cycle = a_cycle\n",
        "        elif move[1][0] == 1:\n",
        "            cycle = b_cycle\n",
        "\n",
        "        temp = cycle[move[1][1]]\n",
        "        cycle[move[1][1]] = cycle[move[1][2]]\n",
        "        cycle[move[1][2]] = temp\n",
        "\n",
        "\n",
        "    elif move[0] == 2:\n",
        "        if move[1][0] == 0:\n",
        "            cycle = a_cycle\n",
        "        elif move[1][0] == 1:\n",
        "            cycle = b_cycle\n",
        "\n",
        "        ind1, ind2, ind3, ind4 = move[1][1:]\n",
        "\n",
        "        c1 = cycle[:min(ind2, ind4)]\n",
        "        c2 = cycle[max(ind2, ind4) - 1:min(ind2, ind4) - 1:-1]\n",
        "        c3 = cycle[max(ind2, ind4):]\n",
        "\n",
        "        cycle = list(c1) + list(c2) + list(c3)\n",
        "\n",
        "        if move[1][0] == 0:\n",
        "            a_cycle = cycle\n",
        "        elif move[1][0] == 1:\n",
        "            b_cycle = cycle\n",
        "\n",
        "    return a_cycle, b_cycle\n",
        "\n",
        "\n",
        "def generate_moves(a_cycle, b_cycle, neighbor_type):\n",
        "    # Move is a tuple (x, M), where x = 0,1,2 depending on move type and M is move\n",
        "    result_moves = []\n",
        "\n",
        "    # ruchy międzytrasowe\n",
        "    for a_index in range(len(a_cycle)):\n",
        "        for b_index in range(len(b_cycle)):\n",
        "            move = (0, (a_index, b_index))\n",
        "            result_moves.append(move)\n",
        "\n",
        "    # ruchy wewnątrztrasowe\n",
        "    if neighbor_type == '1':\n",
        "        # wymiana wierzchołków\n",
        "        for cycle_no, cycle in enumerate([a_cycle, b_cycle]):\n",
        "            for ind1 in range(len(cycle)):\n",
        "                for ind2 in range(len(cycle)):\n",
        "                    if ind1 == ind2:\n",
        "                        continue\n",
        "                    move = (1, (cycle_no, ind1, ind2))\n",
        "                    result_moves.append(move)\n",
        "\n",
        "\n",
        "    elif neighbor_type == '2':\n",
        "        # wymiana krawędzi\n",
        "        for cycle_no, cycle in enumerate([a_cycle, b_cycle]):\n",
        "            for ind1 in range(len(cycle) - 1):\n",
        "                for ind2 in range(len(cycle) - 1):\n",
        "                    if abs(ind1 - ind2) < 2:\n",
        "                        continue\n",
        "                    if ind1 == len(cycle) - 1:\n",
        "                        ind1b = 0\n",
        "                    else:\n",
        "                        ind1b = ind1 + 1\n",
        "                    if ind2 == len(cycle) - 1:\n",
        "                        ind2b = 0\n",
        "                    else:\n",
        "                        ind2b = ind2 + 1\n",
        "                    move = (2, (cycle_no, ind1, ind1b, ind2, ind2b))\n",
        "                    result_moves.append(move)\n",
        "\n",
        "    else:\n",
        "        raise Exception()\n",
        "\n",
        "    return result_moves"
      ]
    },
    {
      "cell_type": "code",
      "execution_count": null,
      "metadata": {
        "id": "-iaIUTOtz7WH"
      },
      "outputs": [],
      "source": [
        "def multiple_start_local_search(dist_matrix, iterations=100, start='random'):\n",
        "    start_time = time.time()\n",
        "\n",
        "    a_best, b_best = None, None\n",
        "    best_result = np.inf\n",
        "    for i in range(iterations):\n",
        "        if start == 'random':\n",
        "            a, b = random_cycle(dist_matrix)\n",
        "        else:\n",
        "            start_verts = random.sample(range(dist_matrix.shape[0]), 2)\n",
        "            a, b = greedy_cycle(dist_matrix, start_verts[0], start_verts[1])\n",
        "\n",
        "        a_res, b_res, _ = greedy_local_search(a, b, dist_matrix, '2')\n",
        "        result = evaluate_solution(dist_matrix, (a_res, b_res))\n",
        "        if result < best_result:\n",
        "            a_best, b_best = a_res, b_res\n",
        "            best_result = result\n",
        "\n",
        "    elapsed_time_seconds = time.time() - start_time\n",
        "    return a_best, b_best, elapsed_time_seconds"
      ]
    },
    {
      "cell_type": "code",
      "execution_count": null,
      "metadata": {
        "id": "uloiI-jsz7WJ"
      },
      "outputs": [],
      "source": [
        "def perturbation1(a_cycle, b_cycle, moves_count=5):\n",
        "    M = generate_moves(a_cycle, b_cycle, '2')\n",
        "    moves = random.sample(M, moves_count)\n",
        "    for move in moves:\n",
        "        a_cycle, b_cycle = apply_move(a_cycle, b_cycle, move)\n",
        "\n",
        "    return a_cycle, b_cycle\n",
        "\n",
        "\n",
        "def iterated_local_search_1(dist_matrix, duration_time_seconds, start='random'):\n",
        "    start_time = time.time()\n",
        "    if start == 'random':\n",
        "        a, b = random_cycle(dist_matrix)\n",
        "    else:\n",
        "        start_verts = random.sample(range(dist_matrix.shape[0]), 2)\n",
        "        a, b = greedy_cycle(dist_matrix, start_verts[0], start_verts[1])\n",
        "\n",
        "    a_res, b_res, _ = greedy_local_search(a, b, dist_matrix, '2')\n",
        "    a_best, b_best, best_result = a_res, b_res, evaluate_solution(dist_matrix, (a_res, b_res))\n",
        "\n",
        "    while time.time() - start_time < duration_time_seconds:\n",
        "        a, b = perturbation1(a_res.copy(), b_res.copy())\n",
        "        a_res, b_res, _ = greedy_local_search(a, b, dist_matrix, '2')\n",
        "        result = evaluate_solution(dist_matrix, (a_res, b_res))\n",
        "        if result < best_result:\n",
        "            a_best, b_best = a_res, b_res\n",
        "            best_result = result\n",
        "\n",
        "    elapsed_time_seconds = time.time() - start_time\n",
        "    return a_best, b_best, elapsed_time_seconds"
      ]
    },
    {
      "cell_type": "code",
      "execution_count": null,
      "metadata": {
        "id": "SbrFUFouz7WK"
      },
      "outputs": [],
      "source": [
        "def perturbation2(dist_matrix, a_cycle, b_cycle, delete_percent=20):\n",
        "    \"\"\" Destroy and repair \"\"\"\n",
        "\n",
        "    free_vertices = []\n",
        "    for cycle in [a_cycle, b_cycle]:\n",
        "        moves = int(len(cycle) * (delete_percent / 100))\n",
        "        for i in range(moves):\n",
        "            random_ind = random.randrange(len(cycle))\n",
        "            free_vertices.append(cycle[random_ind])\n",
        "            cycle.remove(cycle[random_ind])\n",
        "\n",
        "    a_cycle, b_cycle = greedy_cycle_repair(dist_matrix, a_cycle, b_cycle)\n",
        "    return a_cycle, b_cycle\n",
        "\n",
        "\n",
        "def iterated_local_search_2a(dist_matrix, duration_time_seconds, start='random'):\n",
        "    start_time = time.time()\n",
        "    if start == 'random':\n",
        "        a, b = random_cycle(dist_matrix)\n",
        "    else:\n",
        "        start_verts = random.sample(range(dist_matrix.shape[0]), 2)\n",
        "        a, b = greedy_cycle(dist_matrix, start_verts[0], start_verts[1])\n",
        "\n",
        "    a_res, b_res, _ = greedy_local_search(a, b, dist_matrix, '2')\n",
        "    a_best, b_best, best_result = a_res, b_res, evaluate_solution(dist_matrix, (a_res, b_res))\n",
        "\n",
        "    while time.time() - start_time < duration_time_seconds:\n",
        "        a, b = perturbation2(dist_matrix, a_res.copy(), b_res.copy())\n",
        "        a_res, b_res, _ = greedy_local_search(a, b, dist_matrix, '2')\n",
        "        result = evaluate_solution(dist_matrix, (a_res, b_res))\n",
        "        if result < best_result:\n",
        "            a_best, b_best = a_res, b_res\n",
        "            best_result = result\n",
        "\n",
        "    elapsed_time_seconds = time.time() - start_time\n",
        "    return a_best, b_best, elapsed_time_seconds"
      ]
    },
    {
      "cell_type": "code",
      "execution_count": null,
      "metadata": {
        "id": "muaJe3o_z7WK"
      },
      "outputs": [],
      "source": [
        "def hybrid_evolutional(dist_matrix, duration_time_seconds=150, pop_size=20,\n",
        "                       start_random=True, local_serach_after_recombination=True):\n",
        "\n",
        "    start_time = time.time()\n",
        "\n",
        "    # Wygeneruj populacje elitarna\n",
        "    n = dist_matrix.shape[0]\n",
        "    elit_pop = []\n",
        "    scores = []\n",
        "    while len(elit_pop) < pop_size:\n",
        "        if start_random:\n",
        "            a, b = random_cycle(dist_matrix)\n",
        "            a = a.tolist()\n",
        "            b = b.tolist()\n",
        "        else:\n",
        "            i, j = random.randrange(0, n), random.randrange(0, n)\n",
        "            while i == j:\n",
        "                i, j = random.randrange(0, n), random.randrange(0, n)\n",
        "            a, b = greedy_cycle(dist_matrix, i, j)\n",
        "            evaluate_solution(dist_matrix, (a, b))\n",
        "        score = evaluate_solution(dist_matrix, (a, b))\n",
        "        if score not in scores:\n",
        "            elit_pop.append(((a, b), score))\n",
        "    elit_pop.sort(key=lambda x: x[1])\n",
        "\n",
        "    # print(elit_pop[-1][1])\n",
        "    no_improvement_counter = 300\n",
        "\n",
        "    while time.time() - start_time < duration_time_seconds and no_improvement_counter > 0:\n",
        "\n",
        "        # select two random parents\n",
        "        i, j = random.randrange(0, pop_size), random.randrange(0, pop_size)\n",
        "        while i == j:\n",
        "            i, j = random.randrange(0, pop_size), random.randrange(0, pop_size)\n",
        "        parent1, parent2 = elit_pop[i], elit_pop[j]\n",
        "\n",
        "        # recombine\n",
        "        new_solution = [[], []]\n",
        "        for cycle_num in range(2):\n",
        "            cycle = parent1[0][cycle_num]\n",
        "            for i in range(len(cycle)):\n",
        "                edge_a, edge_b = cycle[i], cycle[(i + 1) % len(cycle)]\n",
        "                for parent_cycle in parent2[0]:\n",
        "                    if edge_a in parent_cycle:\n",
        "                        ind = parent_cycle.index(edge_a)\n",
        "                        if parent_cycle[(ind - 1) % len(parent_cycle)] == edge_b or \\\n",
        "                                parent_cycle[(ind + 1) % len(parent_cycle)] == edge_b:\n",
        "                            for edge in (edge_a, edge_b):\n",
        "                                if edge not in new_solution[cycle_num]:\n",
        "                                    new_solution[cycle_num].append(edge)\n",
        "\n",
        "        # if cycles empty -> initialize them\n",
        "        for c, cycle in enumerate(new_solution):\n",
        "            if len(cycle) == 0:\n",
        "                cycle.append(parent1[0][c][0])\n",
        "\n",
        "        # repair\n",
        "        a, b = steepest_local_search(dist_matrix, new_solution[0], new_solution[1])\n",
        "\n",
        "        # local search after recombination\n",
        "        if local_serach_after_recombination:\n",
        "            a, b, _ = greedy_local_search(a, b, dist_matrix)\n",
        "\n",
        "        # check score and add to elite population if better and not same\n",
        "        score = evaluate_solution(dist_matrix, (a, b))\n",
        "        if score < elit_pop[-1][1]:\n",
        "            for i in range(len(elit_pop)):\n",
        "                if score < elit_pop[i][1]:\n",
        "                    elit_pop.insert(i, ((a.copy(), b.copy()), score))\n",
        "                    elit_pop.pop()\n",
        "                    # print(elit_pop[-1][1])\n",
        "                    no_improvement_counter = 301\n",
        "                    break\n",
        "                elif score == elit_pop[i][1]:\n",
        "                    # print(\"Same score already in elit_pop!\")\n",
        "                    break\n",
        "        no_improvement_counter -= 1\n",
        "\n",
        "\n",
        "    total_time = time.time() - start_time\n",
        "\n",
        "    return elit_pop[0], total_time"
      ]
    },
    {
      "cell_type": "code",
      "execution_count": null,
      "metadata": {
        "id": "zF8YEzNcz7WL"
      },
      "outputs": [],
      "source": [
        "besta = np.inf\n",
        "bestb = np.inf\n",
        "graph_dataa = None\n",
        "graph_datab = None\n",
        "timesa = []\n",
        "timesb = []\n",
        "sola = []\n",
        "solb = []\n",
        "# for i in range(1):\n",
        "instances = [\"kroA200.tsp\", \"kroB200.tsp\"]\n",
        "cooridantesA, instanceA = read_instance(instances[0])\n",
        "cooridantesB, instanceB = read_instance(instances[1])\n",
        "for _ in tqdm(range(1)):\n",
        "    aa,ba,ta = multiple_start_local_search(instanceA)\n",
        "    lengtha = evaluate_solution(instanceA, (aa,ba))\n",
        "    timesa.append(ta)\n",
        "    sola.append(lengtha)\n",
        "    if lengtha < besta:\n",
        "        besta = lengtha\n",
        "        graph_dataa = (aa,ba)\n",
        "    ab,bb,tb = multiple_start_local_search(instanceB)\n",
        "    lengthb = evaluate_solution(instanceB, (ab,bb))\n",
        "    timesb.append(tb)\n",
        "    solb.append(lengthb)\n",
        "    if lengthb < bestb:\n",
        "        bestb = lengthb\n",
        "        graph_datab = (ab,bb)\n",
        "\n"
      ]
    },
    {
      "cell_type": "code",
      "execution_count": null,
      "metadata": {
        "id": "ec3VnXA_z7WM",
        "outputId": "38c33fbe-b829-4251-8fc4-16d4a3b9cfe4"
      },
      "outputs": [
        {
          "data": {
            "image/png": "[encoded data removed]",
            "text/plain": [
              "<Figure size 432x288 with 1 Axes>"
            ]
          },
          "metadata": {
            "needs_background": "light"
          },
          "output_type": "display_data"
        },
        {
          "data": {
            "image/png": "[encoded data removed]",
            "text/plain": [
              "<Figure size 432x288 with 1 Axes>"
            ]
          },
          "metadata": {
            "needs_background": "light"
          },
          "output_type": "display_data"
        }
      ],
      "source": [
        "graph_dataa[0].append(graph_dataa[0][0])\n",
        "graph_datab[0].append(graph_datab[0][0])\n",
        "graph_dataa[1].append(graph_dataa[1][0])\n",
        "graph_datab[1].append(graph_datab[1][0])\n",
        "draw_plot(cooridantesA, graph_dataa, besta, \"MSLSA\")\n",
        "draw_plot(cooridantesB, graph_datab, bestb, \"MSLSB\")"
      ]
    },
    {
      "cell_type": "code",
      "execution_count": null,
      "metadata": {
        "id": "Ww-5orBOz7WM"
      },
      "outputs": [],
      "source": [
        "timesa = np.array(timesa)\n",
        "timesb = np.array(timesb)\n",
        "timesa = timesa - 200\n",
        "timesb = timesb - 200"
      ]
    },
    {
      "cell_type": "code",
      "execution_count": null,
      "metadata": {
        "id": "Zki8k96wz7WN",
        "outputId": "29ab863d-df07-4659-a732-0880184399c1"
      },
      "outputs": [
        {
          "name": "stdout",
          "output_type": "stream",
          "text": [
            "150.39 (146.86-154.11)\n",
            "155.08 (151.35-160.68)\n",
            "35714.2 (35007-36515)\n",
            "35363.4 (34961-35718)\n"
          ]
        }
      ],
      "source": [
        "print(f'{round(np.mean(timesa),2)} ({round(np.min(timesa),2)}-{round(np.max(timesa),2)})')\n",
        "print(f'{round(np.mean(timesb),2)} ({round(np.min(timesb),2)}-{round(np.max(timesb),2)})')\n",
        "\n",
        "print(f'{round(np.mean(sola),2)} ({round(np.min(sola),2)}-{round(np.max(sola),2)})')\n",
        "print(f'{round(np.mean(solb),2)} ({round(np.min(solb),2)}-{round(np.max(solb),2)})')\n"
      ]
    },
    {
      "cell_type": "code",
      "execution_count": null,
      "metadata": {
        "id": "XZGyHh3Nz7WN",
        "outputId": "6059951e-ced0-45c7-d217-031982f10375"
      },
      "outputs": [
        {
          "name": "stderr",
          "output_type": "stream",
          "text": [
            "100%|██████████| 5/5 [25:32<00:00, 306.52s/it]\n"
          ]
        },
        {
          "data": {
            "text/plain": [
              "'sol, t = hybrid_evolutional(instance, local_serach_after_recombination=True)\\nprint(\"Score:\", sol[1])\\nif sol[1]<best:\\n    best=sol[1]\\n    graph_data = sol[0]'"
            ]
          },
          "execution_count": 48,
          "metadata": {},
          "output_type": "execute_result"
        }
      ],
      "source": [
        "bestils1a = np.inf\n",
        "bestils1b = np.inf\n",
        "graph_datails1a = None\n",
        "graph_datails1b = None\n",
        "timesils1a = []\n",
        "timesils1b = []\n",
        "solils1a = []\n",
        "solils1b = []\n",
        "# for i in range(1):\n",
        "instances = [\"kroA200.tsp\", \"kroB200.tsp\"]\n",
        "cooridantesA, instanceA = read_instance(instances[0])\n",
        "cooridantesB, instanceB = read_instance(instances[1])\n",
        "for _ in tqdm(range(5)):\n",
        "    aa,ba,ta = iterated_local_search_1(instanceA, round(np.mean(timesa),2))\n",
        "    lengtha = evaluate_solution(instanceA, (aa,ba))\n",
        "    timesils1a.append(ta)\n",
        "    solils1a.append(lengtha)\n",
        "    if lengtha < bestils1a:\n",
        "        bestils1a = lengtha\n",
        "        graph_datails1a = (aa,ba)\n",
        "    ab,bb,tb = iterated_local_search_1(instanceB, round(np.mean(timesb),2))\n",
        "    lengthb = evaluate_solution(instanceB, (ab,bb))\n",
        "    timesils1b.append(tb)\n",
        "    solils1b.append(lengthb)\n",
        "    if lengthb < bestils1b:\n",
        "        bestils1b = lengthb\n",
        "        graph_datails1b = (ab,bb)\n",
        "\n",
        "'''sol, t = hybrid_evolutional(instance, local_serach_after_recombination=True)\n",
        "print(\"Score:\", sol[1])\n",
        "if sol[1]<best:\n",
        "    best=sol[1]\n",
        "    graph_data = sol[0]'''"
      ]
    },
    {
      "cell_type": "code",
      "execution_count": null,
      "metadata": {
        "id": "wwtqIwHnz7WN",
        "outputId": "08f07d1e-21ea-4722-a5ee-501b9a282871"
      },
      "outputs": [
        {
          "data": {
            "image/png": "[encoded data removed]",
            "text/plain": [
              "<Figure size 432x288 with 1 Axes>"
            ]
          },
          "metadata": {
            "needs_background": "light"
          },
          "output_type": "display_data"
        },
        {
          "data": {
            "image/png": "[encoded data removed]",
            "text/plain": [
              "<Figure size 432x288 with 1 Axes>"
            ]
          },
          "metadata": {
            "needs_background": "light"
          },
          "output_type": "display_data"
        }
      ],
      "source": [
        "graph_datails1a[0].append(graph_datails1a[0][0])\n",
        "graph_datails1b[0].append(graph_datails1b[0][0])\n",
        "graph_datails1a[1].append(graph_datails1a[1][0])\n",
        "graph_datails1b[1].append(graph_datails1b[1][0])\n",
        "draw_plot(cooridantesA, graph_datails1a, bestils1a, \"ILS1A\")\n",
        "draw_plot(cooridantesB, graph_datails1b, bestils1b, \"ILS1B\")"
      ]
    },
    {
      "cell_type": "code",
      "execution_count": null,
      "metadata": {
        "id": "K_ye79gEz7WO"
      },
      "outputs": [],
      "source": [
        "timesils1a = np.array(timesils1a)\n",
        "timesils1b = np.array(timesils1b)\n",
        "\n",
        "timesils1a = timesils1a + 200\n",
        "timesils1b = timesils1b + 200"
      ]
    },
    {
      "cell_type": "code",
      "execution_count": null,
      "metadata": {
        "id": "lVdQuR1rz7WO",
        "outputId": "9cd4f033-c94c-4f29-d906-19bfe4071c95"
      },
      "outputs": [
        {
          "name": "stdout",
          "output_type": "stream",
          "text": [
            "350.95 (350.7-351.12)\n",
            "355.57 (355.21-356.06)\n",
            "34550.6 (34062-35121)\n",
            "34192.2 (33701-34913)\n"
          ]
        }
      ],
      "source": [
        "print(f'{round(np.mean(timesils1a),2)} ({round(np.min(timesils1a),2)}-{round(np.max(timesils1a),2)})')\n",
        "print(f'{round(np.mean(timesils1b),2)} ({round(np.min(timesils1b),2)}-{round(np.max(timesils1b),2)})')\n",
        "\n",
        "print(f'{round(np.mean(solils1a),2)} ({round(np.min(solils1a),2)}-{round(np.max(solils1a),2)})')\n",
        "print(f'{round(np.mean(solils1b),2)} ({round(np.min(solils1b),2)}-{round(np.max(solils1b),2)})')"
      ]
    },
    {
      "cell_type": "code",
      "execution_count": null,
      "metadata": {
        "id": "O_hvOsKGz7WP"
      },
      "outputs": [],
      "source": [
        "bestils1a = np.inf\n",
        "bestils1b = np.inf\n",
        "graph_datails1a = None\n",
        "graph_datails1b = None\n",
        "timesils1a = []\n",
        "timesils1b = []\n",
        "solils1a = []\n",
        "solils1b = []\n",
        "# for i in range(1):\n",
        "instances = [\"kroA200.tsp\", \"kroB200.tsp\"]\n",
        "cooridantesA, instanceA = read_instance(instances[0])\n",
        "cooridantesB, instanceB = read_instance(instances[1])\n",
        "for _ in tqdm(range(5)):\n",
        "    aa,ba,ta = iterated_local_search_2a(instanceA, round(np.mean(timesa),2))\n",
        "    lengtha = evaluate_solution(instanceA, (aa,ba))\n",
        "    timesils1a.append(ta)\n",
        "    solils1a.append(lengtha)\n",
        "    if lengtha < bestils1a:\n",
        "        bestils1a = lengtha\n",
        "        graph_datails1a = (aa,ba)\n",
        "    ab,bb,tb = iterated_local_search_2a(instanceB, round(np.mean(timesb),2))\n",
        "    lengthb = evaluate_solution(instanceB, (ab,bb))\n",
        "    timesils1b.append(tb)\n",
        "    solils1b.append(lengthb)\n",
        "    if lengthb < bestils1b:\n",
        "        bestils1b = lengthb\n",
        "        graph_datails1b = (ab,bb)\n",
        "\n",
        "'''sol, t = hybrid_evolutional(instance, local_serach_after_recombination=True)\n",
        "print(\"Score:\", sol[1])\n",
        "if sol[1]<best:\n",
        "    best=sol[1]\n",
        "    graph_data = sol[0]'''\n"
      ]
    },
    {
      "cell_type": "code",
      "execution_count": null,
      "metadata": {
        "id": "WRzTxzI_z7WP"
      },
      "outputs": [],
      "source": [
        "graph_datails1a[0].append(graph_datails1a[0][0])\n",
        "graph_datails1b[0].append(graph_datails1b[0][0])\n",
        "graph_datails1a[1].append(graph_datails1a[1][0])\n",
        "graph_datails1b[1].append(graph_datails1b[1][0])\n",
        "draw_plot(cooridantesA, graph_datails1a, bestils1a, \"ILS2A\")\n",
        "draw_plot(cooridantesB, graph_datails1b, bestils1b, \"ILS2B\")"
      ]
    },
    {
      "cell_type": "code",
      "execution_count": null,
      "metadata": {
        "id": "HaiuW8Lpz7WP"
      },
      "outputs": [],
      "source": [
        "timesils1a = np.array(timesils1a)\n",
        "timesils1b = np.array(timesils1b)\n",
        "\n",
        "timesils1a = timesils1a + 200\n",
        "timesils1b = timesils1b + 200"
      ]
    },
    {
      "cell_type": "code",
      "execution_count": null,
      "metadata": {
        "id": "VunDCeq5z7WQ",
        "outputId": "e48c7483-d1de-4222-ac1c-579921ebfc09",
        "colab": {
          "base_uri": "https://localhost:8080/"
        }
      },
      "outputs": [
        {
          "output_type": "stream",
          "name": "stdout",
          "text": [
            "202.33 (202.12-202.92)\n",
            "202.94 (201.74-204.0)\n",
            "38872.4 (36970-40379)\n",
            "39415.8 (38409-40367)\n"
          ]
        }
      ],
      "source": [
        "print(f'{round(np.mean(timesils1a),2)} ({round(np.min(timesils1a),2)}-{round(np.max(timesils1a),2)})')\n",
        "print(f'{round(np.mean(timesils1b),2)} ({round(np.min(timesils1b),2)}-{round(np.max(timesils1b),2)})')\n",
        "\n",
        "print(f'{round(np.mean(solils1a),2)} ({round(np.min(solils1a),2)}-{round(np.max(solils1a),2)})')\n",
        "print(f'{round(np.mean(solils1b),2)} ({round(np.min(solils1b),2)}-{round(np.max(solils1b),2)})')"
      ]
    },
    {
      "cell_type": "code",
      "execution_count": null,
      "metadata": {
        "id": "yCO7Vmfez7WQ",
        "outputId": "73902259-b9bc-4844-fcdb-e41139c33230",
        "colab": {
          "base_uri": "https://localhost:8080/",
          "height": 449
        }
      },
      "outputs": [
        {
          "output_type": "stream",
          "name": "stderr",
          "text": [
            "  0%|          | 0/5 [00:01<?, ?it/s]\n"
          ]
        },
        {
          "output_type": "error",
          "ename": "TypeError",
          "evalue": "ignored",
          "traceback": [
            "\u001b[0;31m---------------------------------------------------------------------------\u001b[0m",
            "\u001b[0;31mTypeError\u001b[0m                                 Traceback (most recent call last)",
            "\u001b[0;32m<ipython-input-144-009c113b7551>\u001b[0m in \u001b[0;36m<module>\u001b[0;34m()\u001b[0m\n\u001b[1;32m     11\u001b[0m \u001b[0mcooridantesB\u001b[0m\u001b[0;34m,\u001b[0m \u001b[0minstanceB\u001b[0m \u001b[0;34m=\u001b[0m \u001b[0mread_instance\u001b[0m\u001b[0;34m(\u001b[0m\u001b[0minstances\u001b[0m\u001b[0;34m[\u001b[0m\u001b[0;36m1\u001b[0m\u001b[0;34m]\u001b[0m\u001b[0;34m)\u001b[0m\u001b[0;34m\u001b[0m\u001b[0;34m\u001b[0m\u001b[0m\n\u001b[1;32m     12\u001b[0m \u001b[0;32mfor\u001b[0m \u001b[0m_\u001b[0m \u001b[0;32min\u001b[0m \u001b[0mtqdm\u001b[0m\u001b[0;34m(\u001b[0m\u001b[0mrange\u001b[0m\u001b[0;34m(\u001b[0m\u001b[0;36m5\u001b[0m\u001b[0;34m)\u001b[0m\u001b[0;34m)\u001b[0m\u001b[0;34m:\u001b[0m\u001b[0;34m\u001b[0m\u001b[0;34m\u001b[0m\u001b[0m\n\u001b[0;32m---> 13\u001b[0;31m     \u001b[0msola\u001b[0m\u001b[0;34m,\u001b[0m \u001b[0mta\u001b[0m \u001b[0;34m=\u001b[0m \u001b[0mhybrid_evolutional\u001b[0m\u001b[0;34m(\u001b[0m\u001b[0minstanceA\u001b[0m\u001b[0;34m,\u001b[0m \u001b[0mlocal_serach_after_recombination\u001b[0m\u001b[0;34m=\u001b[0m\u001b[0;32mTrue\u001b[0m\u001b[0;34m)\u001b[0m\u001b[0;34m\u001b[0m\u001b[0;34m\u001b[0m\u001b[0m\n\u001b[0m\u001b[1;32m     14\u001b[0m     \u001b[0msolb\u001b[0m\u001b[0;34m,\u001b[0m \u001b[0mtb\u001b[0m \u001b[0;34m=\u001b[0m \u001b[0mhybrid_evolutional\u001b[0m\u001b[0;34m(\u001b[0m\u001b[0minstanceB\u001b[0m\u001b[0;34m,\u001b[0m \u001b[0mlocal_serach_after_recombination\u001b[0m\u001b[0;34m=\u001b[0m\u001b[0;32mTrue\u001b[0m\u001b[0;34m)\u001b[0m\u001b[0;34m\u001b[0m\u001b[0;34m\u001b[0m\u001b[0m\n\u001b[1;32m     15\u001b[0m     \u001b[0msola\u001b[0m\u001b[0;34m[\u001b[0m\u001b[0;36m0\u001b[0m\u001b[0;34m]\u001b[0m\u001b[0;34m[\u001b[0m\u001b[0;36m0\u001b[0m\u001b[0;34m]\u001b[0m\u001b[0;34m.\u001b[0m\u001b[0mappend\u001b[0m\u001b[0;34m(\u001b[0m\u001b[0msola\u001b[0m\u001b[0;34m[\u001b[0m\u001b[0;36m0\u001b[0m\u001b[0;34m]\u001b[0m\u001b[0;34m[\u001b[0m\u001b[0;36m0\u001b[0m\u001b[0;34m]\u001b[0m\u001b[0;34m[\u001b[0m\u001b[0;36m0\u001b[0m\u001b[0;34m]\u001b[0m\u001b[0;34m)\u001b[0m\u001b[0;34m\u001b[0m\u001b[0;34m\u001b[0m\u001b[0m\n",
            "\u001b[0;32m<ipython-input-143-031314f05dfb>\u001b[0m in \u001b[0;36mhybrid_evolutional\u001b[0;34m(dist_matrix, duration_time_seconds, pop_size, start_random, local_serach_after_recombination)\u001b[0m\n\u001b[1;32m     55\u001b[0m \u001b[0;34m\u001b[0m\u001b[0m\n\u001b[1;32m     56\u001b[0m         \u001b[0;31m# repair\u001b[0m\u001b[0;34m\u001b[0m\u001b[0;34m\u001b[0m\u001b[0;34m\u001b[0m\u001b[0m\n\u001b[0;32m---> 57\u001b[0;31m         \u001b[0ma\u001b[0m\u001b[0;34m,\u001b[0m \u001b[0mb\u001b[0m \u001b[0;34m=\u001b[0m \u001b[0msteepest_local_search\u001b[0m\u001b[0;34m(\u001b[0m\u001b[0mdist_matrix\u001b[0m\u001b[0;34m,\u001b[0m \u001b[0mnew_solution\u001b[0m\u001b[0;34m[\u001b[0m\u001b[0;36m0\u001b[0m\u001b[0;34m]\u001b[0m\u001b[0;34m,\u001b[0m \u001b[0mnew_solution\u001b[0m\u001b[0;34m[\u001b[0m\u001b[0;36m1\u001b[0m\u001b[0;34m]\u001b[0m\u001b[0;34m)\u001b[0m\u001b[0;34m\u001b[0m\u001b[0;34m\u001b[0m\u001b[0m\n\u001b[0m\u001b[1;32m     58\u001b[0m \u001b[0;34m\u001b[0m\u001b[0m\n\u001b[1;32m     59\u001b[0m         \u001b[0;31m# local search after recombination\u001b[0m\u001b[0;34m\u001b[0m\u001b[0;34m\u001b[0m\u001b[0;34m\u001b[0m\u001b[0m\n",
            "\u001b[0;32m<ipython-input-3-69c4f4efa585>\u001b[0m in \u001b[0;36msteepest_local_search\u001b[0;34m(a_cycle, b_cycle, distance_matrix, neighbor_type)\u001b[0m\n\u001b[1;32m    114\u001b[0m \u001b[0;34m\u001b[0m\u001b[0m\n\u001b[1;32m    115\u001b[0m         \u001b[0;32mfor\u001b[0m \u001b[0mmove\u001b[0m \u001b[0;32min\u001b[0m \u001b[0mM\u001b[0m\u001b[0;34m:\u001b[0m\u001b[0;34m\u001b[0m\u001b[0;34m\u001b[0m\u001b[0m\n\u001b[0;32m--> 116\u001b[0;31m             \u001b[0mdelta\u001b[0m \u001b[0;34m=\u001b[0m \u001b[0mcalculate_delta\u001b[0m\u001b[0;34m(\u001b[0m\u001b[0ma_cycle_result\u001b[0m\u001b[0;34m,\u001b[0m \u001b[0mb_cycle_result\u001b[0m\u001b[0;34m,\u001b[0m \u001b[0mdistance_matrix\u001b[0m\u001b[0;34m,\u001b[0m \u001b[0mmove\u001b[0m\u001b[0;34m)\u001b[0m\u001b[0;34m\u001b[0m\u001b[0;34m\u001b[0m\u001b[0m\n\u001b[0m\u001b[1;32m    117\u001b[0m             \u001b[0;32mif\u001b[0m \u001b[0mdelta\u001b[0m \u001b[0;34m<\u001b[0m \u001b[0mbestMove\u001b[0m\u001b[0;34m[\u001b[0m\u001b[0;36m0\u001b[0m\u001b[0;34m]\u001b[0m\u001b[0;34m:\u001b[0m\u001b[0;34m\u001b[0m\u001b[0;34m\u001b[0m\u001b[0m\n\u001b[1;32m    118\u001b[0m                 \u001b[0mbestMove\u001b[0m \u001b[0;34m=\u001b[0m \u001b[0;34m(\u001b[0m\u001b[0mdelta\u001b[0m\u001b[0;34m,\u001b[0m \u001b[0mmove\u001b[0m\u001b[0;34m)\u001b[0m\u001b[0;34m\u001b[0m\u001b[0;34m\u001b[0m\u001b[0m\n",
            "\u001b[0;32m<ipython-input-141-6de4a76f7646>\u001b[0m in \u001b[0;36mcalculate_delta\u001b[0;34m(a_cycle, b_cycle, distance_matrix, move)\u001b[0m\n\u001b[1;32m      9\u001b[0m         \u001b[0mvert_a_after\u001b[0m\u001b[0;34m,\u001b[0m \u001b[0mvert_b_after\u001b[0m \u001b[0;34m=\u001b[0m \u001b[0ma_cycle\u001b[0m\u001b[0;34m[\u001b[0m\u001b[0;34m(\u001b[0m\u001b[0mind_a\u001b[0m \u001b[0;34m+\u001b[0m \u001b[0;36m1\u001b[0m\u001b[0;34m)\u001b[0m \u001b[0;34m%\u001b[0m \u001b[0mlen\u001b[0m\u001b[0;34m(\u001b[0m\u001b[0ma_cycle\u001b[0m\u001b[0;34m)\u001b[0m\u001b[0;34m]\u001b[0m\u001b[0;34m,\u001b[0m \u001b[0mb_cycle\u001b[0m\u001b[0;34m[\u001b[0m\u001b[0;34m(\u001b[0m\u001b[0mind_b\u001b[0m \u001b[0;34m+\u001b[0m \u001b[0;36m1\u001b[0m\u001b[0;34m)\u001b[0m \u001b[0;34m%\u001b[0m \u001b[0mlen\u001b[0m\u001b[0;34m(\u001b[0m\u001b[0mb_cycle\u001b[0m\u001b[0;34m)\u001b[0m\u001b[0;34m]\u001b[0m\u001b[0;34m\u001b[0m\u001b[0;34m\u001b[0m\u001b[0m\n\u001b[1;32m     10\u001b[0m \u001b[0;34m\u001b[0m\u001b[0m\n\u001b[0;32m---> 11\u001b[0;31m         \u001b[0mresult\u001b[0m \u001b[0;34m=\u001b[0m \u001b[0mdistance_matrix\u001b[0m\u001b[0;34m[\u001b[0m\u001b[0mvert_a_before\u001b[0m\u001b[0;34m]\u001b[0m\u001b[0;34m[\u001b[0m\u001b[0mvert_b\u001b[0m\u001b[0;34m]\u001b[0m                  \u001b[0;34m+\u001b[0m \u001b[0mdistance_matrix\u001b[0m\u001b[0;34m[\u001b[0m\u001b[0mvert_b\u001b[0m\u001b[0;34m]\u001b[0m\u001b[0;34m[\u001b[0m\u001b[0mvert_a_after\u001b[0m\u001b[0;34m]\u001b[0m                  \u001b[0;34m-\u001b[0m \u001b[0mdistance_matrix\u001b[0m\u001b[0;34m[\u001b[0m\u001b[0mvert_a_before\u001b[0m\u001b[0;34m]\u001b[0m\u001b[0;34m[\u001b[0m\u001b[0mvert_a\u001b[0m\u001b[0;34m]\u001b[0m                  \u001b[0;34m-\u001b[0m \u001b[0mdistance_matrix\u001b[0m\u001b[0;34m[\u001b[0m\u001b[0mvert_a\u001b[0m\u001b[0;34m]\u001b[0m\u001b[0;34m[\u001b[0m\u001b[0mvert_a_after\u001b[0m\u001b[0;34m]\u001b[0m                  \u001b[0;34m+\u001b[0m \u001b[0mdistance_matrix\u001b[0m\u001b[0;34m[\u001b[0m\u001b[0mvert_b_before\u001b[0m\u001b[0;34m]\u001b[0m\u001b[0;34m[\u001b[0m\u001b[0mvert_a\u001b[0m\u001b[0;34m]\u001b[0m                  \u001b[0;34m+\u001b[0m \u001b[0mdistance_matrix\u001b[0m\u001b[0;34m[\u001b[0m\u001b[0mvert_a\u001b[0m\u001b[0;34m]\u001b[0m\u001b[0;34m[\u001b[0m\u001b[0mvert_b_after\u001b[0m\u001b[0;34m]\u001b[0m                  \u001b[0;34m-\u001b[0m \u001b[0mdistance_matrix\u001b[0m\u001b[0;34m[\u001b[0m\u001b[0mvert_b_before\u001b[0m\u001b[0;34m]\u001b[0m\u001b[0;34m[\u001b[0m\u001b[0mvert_b\u001b[0m\u001b[0;34m]\u001b[0m                  \u001b[0;34m-\u001b[0m \u001b[0mdistance_matrix\u001b[0m\u001b[0;34m[\u001b[0m\u001b[0mvert_b\u001b[0m\u001b[0;34m]\u001b[0m\u001b[0;34m[\u001b[0m\u001b[0mvert_b_after\u001b[0m\u001b[0;34m]\u001b[0m\u001b[0;34m\u001b[0m\u001b[0;34m\u001b[0m\u001b[0m\n\u001b[0m\u001b[1;32m     12\u001b[0m \u001b[0;34m\u001b[0m\u001b[0m\n\u001b[1;32m     13\u001b[0m     \u001b[0;32melif\u001b[0m \u001b[0mmove\u001b[0m\u001b[0;34m[\u001b[0m\u001b[0;36m0\u001b[0m\u001b[0;34m]\u001b[0m \u001b[0;34m==\u001b[0m \u001b[0;36m1\u001b[0m\u001b[0;34m:\u001b[0m\u001b[0;34m\u001b[0m\u001b[0;34m\u001b[0m\u001b[0m\n",
            "\u001b[0;31mTypeError\u001b[0m: only integer scalar arrays can be converted to a scalar index"
          ]
        }
      ],
      "source": [
        "bestha = np.inf\n",
        "besthb = np.inf\n",
        "graph_datailsha = None\n",
        "graph_datailshb = None\n",
        "timesha = []\n",
        "timeshb = []\n",
        "solha = []\n",
        "solhb = []\n",
        "instances = [\"kroA200.tsp\", \"kroB200.tsp\"]\n",
        "cooridantesA, instanceA = read_instance(instances[0])\n",
        "cooridantesB, instanceB = read_instance(instances[1])\n",
        "for _ in tqdm(range(5)):\n",
        "    sola, ta = hybrid_evolutional(instanceA, local_serach_after_recombination=True)\n",
        "    solb, tb = hybrid_evolutional(instanceB, local_serach_after_recombination=True)\n",
        "    sola[0][0].append(sola[0][0][0])\n",
        "    solb[0][0].append(solb[0][0][0])\n",
        "    sola[0][1].append(sola[0][1][0])\n",
        "    solb[0][1].append(solb[0][1][0])\n",
        "    lengtha = evaluate_solution(instanceA, sola[0])\n",
        "    lengthb = evaluate_solution(instanceB, solb[0])\n",
        "    solha.append(lengtha)\n",
        "    solhb.append(lengthb)\n",
        "    if sola[1]<bestha:\n",
        "        bestha = sola[1]\n",
        "        graph_datailsha = sola[0]\n",
        "    if solb[1]<besthb:\n",
        "        besthb = solb[1]\n",
        "        graph_datailshb = solb[0]\n",
        "    timesha.append(ta)\n",
        "    timeshb.append(tb)\n",
        "    \n",
        "\n"
      ]
    },
    {
      "cell_type": "code",
      "execution_count": null,
      "metadata": {
        "id": "AqIhED0rz7WR",
        "outputId": "7a577c38-4f9e-40e6-984a-d016459b8abb"
      },
      "outputs": [
        {
          "data": {
            "image/png": "[encoded data removed]",
            "text/plain": [
              "<Figure size 432x288 with 1 Axes>"
            ]
          },
          "metadata": {
            "needs_background": "light"
          },
          "output_type": "display_data"
        },
        {
          "data": {
            "image/png": "[encoded data removed]",
            "text/plain": [
              "<Figure size 432x288 with 1 Axes>"
            ]
          },
          "metadata": {
            "needs_background": "light"
          },
          "output_type": "display_data"
        }
      ],
      "source": [
        "draw_plot(cooridantesA, graph_datailsha, bestha, \"HAEA\")\n",
        "draw_plot(cooridantesB, graph_datailshb, besthb, \"HAEB\")"
      ]
    },
    {
      "cell_type": "code",
      "execution_count": null,
      "metadata": {
        "id": "-rCmu5nrz7WR"
      },
      "outputs": [],
      "source": [
        "timesha = np.array(timesha)\n",
        "timeshb = np.array(timeshb)\n",
        "\n",
        "timesha = timesha + 200\n",
        "timeshb = timeshb + 200"
      ]
    },
    {
      "cell_type": "code",
      "execution_count": null,
      "metadata": {
        "id": "chpKpFdvz7WR",
        "outputId": "971e2a5f-8fd3-49a7-b7c0-f48dbd36d3b6"
      },
      "outputs": [
        {
          "name": "stdout",
          "output_type": "stream",
          "text": [
            "350.75 (350.4-351.67)\n",
            "355.18 (355.1-355.35)\n",
            "31604.0 (31181-32160)\n",
            "31522.6 (30654-32982)\n"
          ]
        }
      ],
      "source": [
        "print(f'{round(np.mean(timesha),2)} ({round(np.min(timesha),2)}-{round(np.max(timesha),2)})')\n",
        "print(f'{round(np.mean(timeshb),2)} ({round(np.min(timeshb),2)}-{round(np.max(timeshb),2)})')\n",
        "\n",
        "print(f'{round(np.mean(solha),2)} ({round(np.min(solha),2)}-{round(np.max(solha),2)})')\n",
        "print(f'{round(np.mean(solhb),2)} ({round(np.min(solhb),2)}-{round(np.max(solhb),2)})')"
      ]
    },
    {
      "cell_type": "markdown",
      "source": [
        "# LAB 6"
      ],
      "metadata": {
        "id": "FZENJPDBB7_G"
      }
    },
    {
      "cell_type": "code",
      "source": [
        "def generate_greedy_solutions(name, n = 1000):\n",
        "  cooridantes, instance= read_instance(name)\n",
        "  solutions = []\n",
        "  lengths = []\n",
        "  for i in tqdm(range(n)):\n",
        "    a, b = random_cycle(instance)\n",
        "    a_res, b_res, _ = greedy_local_search(a, b, instance, '2')\n",
        "    solutions.append([np.array(a_res), np.array(b_res)])\n",
        "    lengths.append(evaluate_solution(instance, [a_res, b_res]))\n",
        "  return solutions, lengths"
      ],
      "metadata": {
        "id": "JtVu1W6WB9eh"
      },
      "execution_count": null,
      "outputs": []
    },
    {
      "cell_type": "code",
      "source": [
        "sol, lengths = generate_greedy_solutions(\"kroA200.tsp\", n = 1000)"
      ],
      "metadata": {
        "colab": {
          "base_uri": "https://localhost:8080/"
        },
        "id": "dnlprnaXExVc",
        "outputId": "42ffa987-b972-4e8b-a22e-b3d7f02cd507"
      },
      "execution_count": null,
      "outputs": [
        {
          "output_type": "stream",
          "name": "stderr",
          "text": [
            "100%|██████████| 1000/1000 [42:21<00:00,  2.54s/it]\n"
          ]
        }
      ]
    },
    {
      "cell_type": "code",
      "source": [
        "def similarity_by_vertex(sol1, sol2):\n",
        "  similarity = []\n",
        "  for s1 in sol1:\n",
        "    temp = []\n",
        "    for s2 in sol2:\n",
        "      n = 0\n",
        "      for i in s1:\n",
        "        if i in s2:\n",
        "          n+=1\n",
        "      temp.append(n)\n",
        "    similarity.append(max(temp))\n",
        "  return np.mean(similarity)/100"
      ],
      "metadata": {
        "id": "nxLa1SmfHFVV"
      },
      "execution_count": null,
      "outputs": []
    },
    {
      "cell_type": "code",
      "source": [
        "def isSubArray(A, B):\n",
        "  n = len(A)\n",
        "  m = len(B)\n",
        "  i = j = 0\n",
        "  while (i < n and j < m):\n",
        "    if (A[i] == B[j]):\n",
        "      i += 1\n",
        "      j += 1\n",
        "      if (j == m):\n",
        "        return True\n",
        "    else:\n",
        "      i = i - j + 1\n",
        "      j = 0\n",
        "    \n",
        "  return False\n",
        "\n",
        "def similarity_by_edge(sol1, sol2):\n",
        "    similarity = []\n",
        "    for s1 in sol1:\n",
        "      n = 0\n",
        "      for s2 in sol2:\n",
        "        for i in range(s1.shape[0]):\n",
        "          if isSubArray(s2, [s1[i], s1[(i+1)%s1.shape[0]]]) or isSubArray(s2, [s1[(i+1)%s1.shape[0]], s1[i]]):\n",
        "            n+=1\n",
        "\n",
        "      similarity.append(n)\n",
        "\n",
        "    return np.mean(similarity)/99"
      ],
      "metadata": {
        "id": "S3FjZMIpSO_u"
      },
      "execution_count": null,
      "outputs": []
    },
    {
      "cell_type": "code",
      "source": [
        "def similarity_best(sol, lengths, type_simil):\n",
        "  from copy import deepcopy\n",
        "  temp_sol = deepcopy(sol)\n",
        "  temp_lengths = deepcopy(lengths)\n",
        "  best = temp_sol.pop(np.argmin(temp_lengths))\n",
        "  best_length = temp_lengths.pop(np.argmin(temp_lengths))\n",
        "  similarity = []\n",
        "\n",
        "  for i,s in enumerate(temp_sol):\n",
        "      similarity.append(type_simil(best, s))\n",
        "  return temp_lengths, similarity, best_length"
      ],
      "metadata": {
        "id": "PSaywbXFFkk2"
      },
      "execution_count": null,
      "outputs": []
    },
    {
      "cell_type": "code",
      "source": [
        "def mean_similarity(sol, lengths, type_simil, n = 50):\n",
        "  index = np.argpartition(lengths, -n)[-n:]\n",
        "  list_bool = np.bool_([True]*len(lengths))\n",
        "  list_bool[index] = False\n",
        "  from copy import deepcopy\n",
        "  temp_sol = deepcopy(sol)\n",
        "\n",
        "  all_similarity = []\n",
        "  for i in index:\n",
        "    best = temp_sol[i]\n",
        "    similarity = []\n",
        "    for i,s in enumerate(temp_sol):\n",
        "        similarity.append(type_simil(best, s))\n",
        "    all_similarity.append(similarity)\n",
        "\n",
        "  all_similarity = np.array(all_similarity)[:, list_bool].mean(0)\n",
        "  return all_similarity, np.array(lengths)[list_bool]"
      ],
      "metadata": {
        "id": "rhMCFwLoMrry"
      },
      "execution_count": null,
      "outputs": []
    },
    {
      "cell_type": "code",
      "source": [
        "def plot_similar(lengths, similarity,filename, title = \"Best score\", xlabel = \"Funkcja celu\", ylabel = \"Podobieństwo\"):\n",
        "  plt.scatter(lengths, similarity)\n",
        "  plt.xlabel(xlabel)\n",
        "  plt.ylabel(ylabel)\n",
        "  plt.ylim(0, 1)\n",
        "  plt.title(title)\n",
        "  plt.savefig(filename)"
      ],
      "metadata": {
        "id": "KhpTuSr9JClI"
      },
      "execution_count": null,
      "outputs": []
    },
    {
      "cell_type": "code",
      "source": [
        "import pickle\n",
        "\n",
        "with open(\"kroA.pickle\", 'wb') as f:\n",
        "  pickle.dump([sol, lengths], f)"
      ],
      "metadata": {
        "id": "Emtus9hLhWZL"
      },
      "execution_count": null,
      "outputs": []
    },
    {
      "cell_type": "code",
      "source": [
        "with open(\"kroA.pickle\", 'rb') as f:\n",
        "  soll, leenn = pickle.load(f)"
      ],
      "metadata": {
        "id": "QET4323OhmMg"
      },
      "execution_count": null,
      "outputs": []
    },
    {
      "cell_type": "code",
      "source": [
        "l, s, bs = similarity_best(sol, lengths, similarity_by_edge)\n",
        "plot_similar(l, s, filename = \"kroA200edge.png\", title = f\"Best score equal {bs}\")"
      ],
      "metadata": {
        "colab": {
          "base_uri": "https://localhost:8080/",
          "height": 295
        },
        "id": "PQKorswrKQD3",
        "outputId": "2976dbf3-bcd8-4f7e-d7fc-c69a177a1080"
      },
      "execution_count": null,
      "outputs": [
        {
          "output_type": "display_data",
          "data": {
            "text/plain": [
              "<Figure size 432x288 with 1 Axes>"
            ],
            "image/png": "[encoded data removed]"
          },
          "metadata": {
            "needs_background": "light"
          }
        }
      ]
    },
    {
      "cell_type": "code",
      "source": [
        "np.corrcoef(l, s)"
      ],
      "metadata": {
        "colab": {
          "base_uri": "https://localhost:8080/"
        },
        "id": "s6XQUofCtFPY",
        "outputId": "06c04223-a846-41aa-ff78-f55f38dfccd0"
      },
      "execution_count": null,
      "outputs": [
        {
          "output_type": "execute_result",
          "data": {
            "text/plain": [
              "array([[ 1.        , -0.54519972],\n",
              "       [-0.54519972,  1.        ]])"
            ]
          },
          "metadata": {},
          "execution_count": 170
        }
      ]
    },
    {
      "cell_type": "code",
      "source": [
        "s, l = mean_similarity(sol, lengths, similarity_by_edge, n = 10)\n",
        "plot_similar(l, s, \"kroA200edgemean.png\", \"Mean similarity\")"
      ],
      "metadata": {
        "colab": {
          "base_uri": "https://localhost:8080/",
          "height": 295
        },
        "id": "2qNHUPuTW_WU",
        "outputId": "fb14f206-6cae-47e7-be5f-477f50fece25"
      },
      "execution_count": null,
      "outputs": [
        {
          "output_type": "display_data",
          "data": {
            "text/plain": [
              "<Figure size 432x288 with 1 Axes>"
            ],
            "image/png": "[encoded data removed]"
          },
          "metadata": {
            "needs_background": "light"
          }
        }
      ]
    },
    {
      "cell_type": "markdown",
      "source": [
        "# Lab 7"
      ],
      "metadata": {
        "id": "Apq-JlKwjSKU"
      }
    },
    {
      "cell_type": "code",
      "execution_count": 73,
      "metadata": {
        "id": "cl90xcRHwcoj"
      },
      "outputs": [],
      "source": [
        "def read_instance(filename):\n",
        "    coordinates = []\n",
        "    with open(filename) as mf:\n",
        "        for _ in range(6):\n",
        "            mf.readline()\n",
        "        for line in mf:\n",
        "            if line != 'EOF\\n':\n",
        "                coordinates.append([int(v) for v in line.split()[1:]])\n",
        "    instance = np.zeros((len(coordinates), len(coordinates)), dtype=np.int32)\n",
        "    for i in range(len(coordinates)):\n",
        "        for j in range(i, len(coordinates)):\n",
        "            dist = euclidian_distance(coordinates[i], coordinates[j])\n",
        "            instance[i][j] = dist\n",
        "            instance[j][i] = dist\n",
        "    return coordinates, instance\n",
        "\n",
        "\n",
        "def euclidian_distance(a, b):\n",
        "    return round(math.sqrt((b[0] - a[0]) ** 2 + (b[1] - a[1]) ** 2))\n",
        "\n",
        "\n",
        "def evaluate_solution(instance, cycles):\n",
        "    if np.any(np.unique(cycles) != np.arange(0, instance.shape[0], 1)):\n",
        "        # print(np.argmax(np.bincount(np.array(cycles).flatten())))\n",
        "        # print(np.count_nonzero(np.array(cycles).flatten() == 64))\n",
        "        print(np.unique(cycles))\n",
        "        print(cycles[0][0], cycles[1][0])\n",
        "        print(\"Wrong solution\")\n",
        "    distance = 0\n",
        "    for cycle in cycles:\n",
        "        for i in range(len(cycle)):\n",
        "            distance += instance[cycle[i], cycle[(i + 1) % len(cycle)]]\n",
        "    return distance\n",
        "\n",
        "\n",
        "def draw_plot(vertices, visited, length, filename = \"x\"):\n",
        "  for graph in visited:\n",
        "    x = [vertices[idx][0] for idx in graph]\n",
        "    y = [vertices[idx][1] for idx in graph]\n",
        "    plt.plot(x, y)\n",
        "  for i in vertices:\n",
        "    plt.scatter(i[0], i[1], color='red')\n",
        "  plt.suptitle(f'score: {int(length)}')\n",
        "  plt.savefig(f'{filename}.jpg')\n",
        "#   plt.show()\n",
        "\n",
        "\n",
        "def random_cycle(instance, *args):\n",
        "    vertices = np.arange(0, instance.shape[0])\n",
        "    for _ in range(instance.shape[0]):\n",
        "        random.shuffle(vertices)\n",
        "\n",
        "    a_cycle = vertices[(instance.shape[0] // 2):]\n",
        "    b_cycle = vertices[:(instance.shape[0] // 2)]\n",
        "\n",
        "    return a_cycle, b_cycle\n",
        "\n",
        "\n",
        "def greedy_cycle(instance, starting_point_a, starting_point_b):\n",
        "    a_cycle = [starting_point_a]\n",
        "    b_cycle = [starting_point_b]\n",
        "\n",
        "    available = np.ones((instance.shape[0],), dtype=bool)\n",
        "    available[starting_point_a] = False\n",
        "    available[starting_point_b] = False\n",
        "\n",
        "    b_cycle_length = instance.shape[0] // 2\n",
        "    a_cycle_length = instance.shape[0] - b_cycle_length\n",
        "\n",
        "    for cycle, length in ((a_cycle, a_cycle_length), (b_cycle, b_cycle_length)):\n",
        "\n",
        "        # Add nearest neighbor\n",
        "        min_distance = np.min(instance[cycle[0]][available])\n",
        "        possible_destinations = np.squeeze(np.argwhere(instance[cycle[0]] == min_distance), axis=-1)\n",
        "        for possible_destination in possible_destinations:\n",
        "            if available[possible_destination]:\n",
        "                cycle.append(possible_destination)\n",
        "                available[possible_destination] = False\n",
        "                break\n",
        "\n",
        "        for i in range(length - 2):\n",
        "\n",
        "            best_source = cycle[0]\n",
        "            best_destination = np.argwhere(available)[0, 0]\n",
        "            best_value = instance[best_source, best_destination] + \\\n",
        "                         instance[cycle[1], best_destination] - \\\n",
        "                         instance[cycle[0], cycle[1]]\n",
        "\n",
        "            for j in range(len(cycle)):\n",
        "                for k in range(instance.shape[0]):\n",
        "                    if available[k]:\n",
        "                        value = instance[cycle[j], k] + \\\n",
        "                                instance[k, cycle[(j+1) % len(cycle)]] - \\\n",
        "                                instance[cycle[j], cycle[(j+1) % len(cycle)]]\n",
        "                        if value < best_value:\n",
        "                            best_source = cycle[j]\n",
        "                            best_destination = k\n",
        "                            best_value = value\n",
        "\n",
        "            cycle.insert(cycle.index(best_source) + 1, best_destination)\n",
        "            available[best_destination] = False\n",
        "\n",
        "    return a_cycle, b_cycle\n",
        "\n",
        "def perturbation(dist_matrix, a_cycle, b_cycle, delete_percent=30):\n",
        "    \"\"\" Destroy and repair \"\"\"\n",
        "\n",
        "    free_vertices = []\n",
        "    for cycle in [a_cycle, b_cycle]:\n",
        "        moves = int(len(cycle) * (delete_percent / 100))\n",
        "        for i in range(moves):\n",
        "            random_ind = random.randrange(len(cycle))\n",
        "            free_vertices.append(cycle[random_ind])\n",
        "            cycle.remove(cycle[random_ind])\n",
        "\n",
        "    a_cycle, b_cycle = greedy_cycle_repair2(dist_matrix, a_cycle, b_cycle)\n",
        "    return a_cycle, b_cycle\n",
        "\n",
        "\n",
        "def greedy_cycle_repair2(instance, starting_cycle_a, starting_cycle_b):\n",
        "    a_cycle = starting_cycle_a\n",
        "    b_cycle = starting_cycle_b\n",
        "\n",
        "    available = np.ones((instance.shape[0],), dtype=bool)\n",
        "    for a in a_cycle:\n",
        "        available[a] = False\n",
        "    for b in b_cycle:\n",
        "        available[b] = False\n",
        "\n",
        "    b_cycle_length = instance.shape[0] // 2\n",
        "    a_cycle_length = instance.shape[0] - b_cycle_length\n",
        "\n",
        "    for cycle, length in ((a_cycle, a_cycle_length), (b_cycle, b_cycle_length)):\n",
        "\n",
        "        # Added\n",
        "        if len(cycle) == length:\n",
        "            continue\n",
        "\n",
        "        # Add nearest neighbor\n",
        "        ind = min(20, instance[cycle[0]][available].shape[0])\n",
        "        values = np.argpartition(instance[cycle[0]][available], -ind)[-ind:]\n",
        "        if ind>1:\n",
        "          min_distance = values[np.random.randint(0, ind-1)]\n",
        "        else:\n",
        "          min_distance = values\n",
        "        # min_distance = np.min(instance[cycle[0]][available])\n",
        "        possible_destinations = np.squeeze(np.argwhere(instance[cycle[0]] == min_distance), axis=-1)\n",
        "        for possible_destination in possible_destinations:\n",
        "            if available[possible_destination]:\n",
        "                cycle.append(possible_destination)\n",
        "                available[possible_destination] = False\n",
        "                break\n",
        "\n",
        "        l = len(cycle)\n",
        "        for i in range(length - l):\n",
        "\n",
        "            best_source = cycle[0]\n",
        "            best_destination = np.argwhere(available)[0, 0]\n",
        "            best_value = instance[best_source, best_destination] + \\\n",
        "                         instance[cycle[1], best_destination] - \\\n",
        "                         instance[cycle[0], cycle[1]]\n",
        "\n",
        "            for j in range(len(cycle)):\n",
        "                for k in range(instance.shape[0]):\n",
        "                    if available[k]:\n",
        "                        value = instance[cycle[j], k] + \\\n",
        "                                instance[k, cycle[(j + 1) % len(cycle)]] - \\\n",
        "                                instance[cycle[j], cycle[(j + 1) % len(cycle)]]\n",
        "                        if value < best_value:\n",
        "                            best_source = cycle[j]\n",
        "                            best_destination = k\n",
        "                            best_value = value\n",
        "\n",
        "            cycle.insert(cycle.index(best_source) + 1, best_destination)\n",
        "            available[best_destination] = False\n",
        "\n",
        "    return a_cycle, b_cycle\n",
        "\n",
        "\n",
        "\n",
        "def greedy_local_search(a_cycle, b_cycle, distance_matrix, neighbor_type='2'):\n",
        "    start_time = time.time()\n",
        "    a_cycle_result = a_cycle.copy()\n",
        "    b_cycle_result = b_cycle.copy()\n",
        "    i = 0\n",
        "    M = generate_moves(a_cycle_result, b_cycle_result, neighbor_type)\n",
        "    while True:\n",
        "        # print(f\"Greedy iteration: {i}\")\n",
        "        i = i + 1\n",
        "        no_better_moves = True\n",
        "        random_bias = random.randrange(0, len(M))\n",
        "        random_direction = random.randrange(-1, 2, 2)\n",
        "\n",
        "        for ind in range(len(M)):\n",
        "            move = M[random_direction * ((ind + random_bias) % len(M))]\n",
        "            delta = calculate_delta(a_cycle_result, b_cycle_result, distance_matrix, move)\n",
        "            if delta < 0:\n",
        "                # print(f\"Aplying move {move} with delta={delta}\")\n",
        "                a_cycle_result, b_cycle_result = apply_move(a_cycle_result, b_cycle_result, move)\n",
        "                no_better_moves = False\n",
        "                break\n",
        "\n",
        "        if no_better_moves:\n",
        "            break\n",
        "\n",
        "    elapsed_time_seconds = time.time() - start_time\n",
        "    return a_cycle_result, b_cycle_result, elapsed_time_seconds\n",
        "\n",
        "\n",
        "def calculate_delta(a_cycle, b_cycle, distance_matrix, move):\n",
        "    result = 0\n",
        "\n",
        "    if move[0] == 0:\n",
        "        ind_a, ind_b = move[1][0], move[1][1]\n",
        "\n",
        "        vert_a, vert_b = a_cycle[ind_a], b_cycle[ind_b]\n",
        "        vert_a_before, vert_b_before = a_cycle[ind_a - 1], b_cycle[ind_b - 1]\n",
        "        vert_a_after, vert_b_after = a_cycle[(ind_a + 1) % len(a_cycle)], b_cycle[(ind_b + 1) % len(b_cycle)]\n",
        "\n",
        "        result = +distance_matrix[vert_a_before][vert_b] \\\n",
        "                 + distance_matrix[vert_b][vert_a_after] \\\n",
        "                 - distance_matrix[vert_a_before][vert_a] \\\n",
        "                 - distance_matrix[vert_a][vert_a_after] \\\n",
        "                 + distance_matrix[vert_b_before][vert_a] \\\n",
        "                 + distance_matrix[vert_a][vert_b_after] \\\n",
        "                 - distance_matrix[vert_b_before][vert_b] \\\n",
        "                 - distance_matrix[vert_b][vert_b_after]\n",
        "\n",
        "    elif move[0] == 1:\n",
        "        if move[1][0] == 0:\n",
        "            cycle = a_cycle\n",
        "        elif move[1][0] == 1:\n",
        "            cycle = b_cycle\n",
        "\n",
        "        ind_1 = min(move[1][1], move[1][2])\n",
        "        ind_2 = max(move[1][1], move[1][2])\n",
        "        # przypadki brzegowe\n",
        "        if ind_1 == 0 and ind_2 == len(cycle) - 1 or ind_1 == 0 and ind_2 == len(cycle) - 2:\n",
        "            ind_1 = ind_2\n",
        "            ind_2 = 0\n",
        "        elif ind_1 == 1 and ind_2 == len(cycle) - 1:\n",
        "            ind_1 = ind_2\n",
        "            ind_2 = 1\n",
        "\n",
        "        vert_1, vert_2 = cycle[ind_1], cycle[ind_2]\n",
        "        vert_1_before, vert_2_before = cycle[ind_1 - 1], cycle[ind_2 - 1]\n",
        "\n",
        "        if ind_1 + 1 >= len(cycle):\n",
        "            vert_1_after = cycle[0]\n",
        "        else:\n",
        "            vert_1_after = cycle[ind_1 + 1]\n",
        "\n",
        "        if ind_2 + 1 >= len(cycle):\n",
        "            vert_2_after = cycle[0]\n",
        "        else:\n",
        "            vert_2_after = cycle[ind_2 + 1]\n",
        "\n",
        "        if abs(ind_1 - ind_2) in [1, 2, 48, 49]:\n",
        "            result = +distance_matrix[vert_1_before][vert_2] \\\n",
        "                     - distance_matrix[vert_1_before][vert_1] \\\n",
        "                     + distance_matrix[vert_1][vert_2_after] \\\n",
        "                     - distance_matrix[vert_2][vert_2_after]\n",
        "\n",
        "        else:\n",
        "            result = distance_matrix[vert_1_before][vert_2] + \\\n",
        "                     distance_matrix[vert_2][vert_1_after] - \\\n",
        "                     distance_matrix[vert_1_before][vert_1] - \\\n",
        "                     distance_matrix[vert_1][vert_1_after] + \\\n",
        "                     distance_matrix[vert_2_before][vert_1] + \\\n",
        "                     distance_matrix[vert_1][vert_2_after] - \\\n",
        "                     distance_matrix[vert_2_before][vert_2] - \\\n",
        "                     distance_matrix[vert_2][vert_2_after]\n",
        "\n",
        "    elif move[0] == 2:\n",
        "        if move[1][0] == 0:\n",
        "            cycle = a_cycle\n",
        "        elif move[1][0] == 1:\n",
        "            cycle = b_cycle\n",
        "\n",
        "        ind_1, ind_2, ind_3, ind_4 = move[1][1], move[1][2], move[1][3], move[1][4]\n",
        "        vert_1, vert_2, vert_3, vert_4 = cycle[ind_1], cycle[ind_2], cycle[ind_3], cycle[ind_4]\n",
        "\n",
        "        result = distance_matrix[vert_1][vert_3] + \\\n",
        "                 distance_matrix[vert_2][vert_4] - \\\n",
        "                 distance_matrix[vert_1][vert_2] - \\\n",
        "                 distance_matrix[vert_3][vert_4]\n",
        "\n",
        "    else:\n",
        "        raise Exception()\n",
        "\n",
        "    return result\n",
        "\n",
        "\n",
        "def apply_move(a_cycle, b_cycle, move):\n",
        "    if move[0] == 0:\n",
        "        temp = a_cycle[move[1][0]]\n",
        "        a_cycle[move[1][0]] = b_cycle[move[1][1]]\n",
        "        b_cycle[move[1][1]] = temp\n",
        "\n",
        "    elif move[0] == 1:\n",
        "        if move[1][0] == 0:\n",
        "            cycle = a_cycle\n",
        "        elif move[1][0] == 1:\n",
        "            cycle = b_cycle\n",
        "\n",
        "        temp = cycle[move[1][1]]\n",
        "        cycle[move[1][1]] = cycle[move[1][2]]\n",
        "        cycle[move[1][2]] = temp\n",
        "\n",
        "\n",
        "    elif move[0] == 2:\n",
        "        if move[1][0] == 0:\n",
        "            cycle = a_cycle\n",
        "        elif move[1][0] == 1:\n",
        "            cycle = b_cycle\n",
        "\n",
        "        ind1, ind2, ind3, ind4 = move[1][1:]\n",
        "\n",
        "        c1 = cycle[:min(ind2, ind4)]\n",
        "        c2 = cycle[max(ind2, ind4) - 1:min(ind2, ind4) - 1:-1]\n",
        "        c3 = cycle[max(ind2, ind4):]\n",
        "\n",
        "        cycle = list(c1) + list(c2) + list(c3)\n",
        "\n",
        "        if move[1][0] == 0:\n",
        "            a_cycle = cycle\n",
        "        elif move[1][0] == 1:\n",
        "            b_cycle = cycle\n",
        "\n",
        "    return a_cycle, b_cycle\n",
        "\n",
        "\n",
        "def generate_moves(a_cycle, b_cycle, neighbor_type):\n",
        "    # Move is a tuple (x, M), where x = 0,1,2 depending on move type and M is move\n",
        "    result_moves = []\n",
        "\n",
        "    # ruchy międzytrasowe\n",
        "    for a_index in range(len(a_cycle)):\n",
        "        for b_index in range(len(b_cycle)):\n",
        "            move = (0, (a_index, b_index))\n",
        "            result_moves.append(move)\n",
        "\n",
        "    # ruchy wewnątrztrasowe\n",
        "    if neighbor_type == '1':\n",
        "        # wymiana wierzchołków\n",
        "        for cycle_no, cycle in enumerate([a_cycle, b_cycle]):\n",
        "            for ind1 in range(len(cycle)):\n",
        "                for ind2 in range(len(cycle)):\n",
        "                    if ind1 == ind2:\n",
        "                        continue\n",
        "                    move = (1, (cycle_no, ind1, ind2))\n",
        "                    result_moves.append(move)\n",
        "\n",
        "\n",
        "    elif neighbor_type == '2':\n",
        "        # wymiana krawędzi\n",
        "        for cycle_no, cycle in enumerate([a_cycle, b_cycle]):\n",
        "            for ind1 in range(len(cycle) - 1):\n",
        "                for ind2 in range(len(cycle) - 1):\n",
        "                    if abs(ind1 - ind2) < 2:\n",
        "                        continue\n",
        "                    if ind1 == len(cycle) - 1:\n",
        "                        ind1b = 0\n",
        "                    else:\n",
        "                        ind1b = ind1 + 1\n",
        "                    if ind2 == len(cycle) - 1:\n",
        "                        ind2b = 0\n",
        "                    else:\n",
        "                        ind2b = ind2 + 1\n",
        "                    move = (2, (cycle_no, ind1, ind1b, ind2, ind2b))\n",
        "                    result_moves.append(move)\n",
        "\n",
        "    else:\n",
        "        raise Exception()\n",
        "\n",
        "    return result_moves\n",
        "\n",
        "def hybrid_evolutional(dist_matrix, duration_time_seconds=20, pop_size=20,\n",
        "                       start_random=False, local_serach_after_recombination=True,limit = 35000):\n",
        "\n",
        "    # Wygeneruj populacje elitarna\n",
        "    n = dist_matrix.shape[0]\n",
        "    elit_pop = []\n",
        "    scores = []\n",
        "    while len(elit_pop) < pop_size:\n",
        "        if start_random:\n",
        "            a, b = random_cycle(dist_matrix)\n",
        "            a = a.tolist()\n",
        "            b = b.tolist()\n",
        "        else:\n",
        "            i, j = random.randrange(0, n), random.randrange(0, n)\n",
        "            while i == j:\n",
        "                i, j = random.randrange(0, n), random.randrange(0, n)\n",
        "            # a, b, _ = iterated_local_search_2b(dist_matrix, 10)\n",
        "            a, b = greedy_cycle(dist_matrix, i , j)\n",
        "            # a, b = perturbation(dist_matrix, a, b, 30)\n",
        "            a, b = perturbation(dist_matrix, a, b, random.randint(10, 40))\n",
        "            a, b, _ = greedy_local_search(a, b, dist_matrix)\n",
        "        score = evaluate_solution(dist_matrix, (a, b))\n",
        "        if score not in scores and score<limit:\n",
        "            elit_pop.append(((a, b), score))\n",
        "            scores.append(score)\n",
        "    elit_pop.sort(key=lambda x: x[1])\n",
        "    print(\"Populacja gotowa\")\n",
        "    # print(elit_pop[-1][1])\n",
        "    no_improvement_counter = 300\n",
        "    start_time = time.time()\n",
        "    while time.time() - start_time < duration_time_seconds and no_improvement_counter > 0:\n",
        "\n",
        "        # select two random parents\n",
        "        i, j = random.randrange(0, pop_size), random.randrange(0, pop_size)\n",
        "        while i == j:\n",
        "            i, j = random.randrange(0, pop_size), random.randrange(0, pop_size)\n",
        "        parent1, parent2 = elit_pop[i], elit_pop[j]\n",
        "\n",
        "        # recombine\n",
        "        new_solution = [[], []]\n",
        "        for cycle_num in range(2):\n",
        "            cycle = parent1[0][cycle_num]\n",
        "            for i in range(len(cycle)):\n",
        "                edge_a, edge_b = cycle[i], cycle[(i + 1) % len(cycle)]\n",
        "                for parent_cycle in parent2[0]:\n",
        "                    if edge_a in parent_cycle:\n",
        "                        ind = parent_cycle.index(edge_a)\n",
        "                        if parent_cycle[(ind - 1) % len(parent_cycle)] == edge_b or \\\n",
        "                                parent_cycle[(ind + 1) % len(parent_cycle)] == edge_b:\n",
        "                            for edge in (edge_a, edge_b):\n",
        "                                if edge not in new_solution[cycle_num]:\n",
        "                                    new_solution[cycle_num].append(edge)\n",
        "\n",
        "        # if cycles empty -> initialize them\n",
        "        for c, cycle in enumerate(new_solution):\n",
        "            if len(cycle) == 0:\n",
        "                cycle.append(parent1[0][c][0])\n",
        "\n",
        "        # repair\n",
        "        a, b = greedy_cycle_repair2(dist_matrix, new_solution[0], new_solution[1])\n",
        "\n",
        "        # local search after recombination\n",
        "        if local_serach_after_recombination:\n",
        "            a, b = perturbation(dist_matrix, a, b)\n",
        "            a, b, _ = greedy_local_search(a, b, dist_matrix)\n",
        "\n",
        "        # check score and add to elite population if better and not same\n",
        "        score = evaluate_solution(dist_matrix, (a, b))\n",
        "        if score < np.array(elit_pop, dtype = 'object')[:, 1].min():\n",
        "            # print(score)\n",
        "            for i in range(len(elit_pop)):\n",
        "                if score < elit_pop[i][1]:\n",
        "                    elit_pop.insert(i, ((a.copy(), b.copy()), score))\n",
        "                    elit_pop.pop()\n",
        "                    # print(elit_pop[-1][1])\n",
        "                    no_improvement_counter = 301\n",
        "                    break\n",
        "                elif score == elit_pop[i][1]:\n",
        "                    # print(\"Same score already in elit_pop!\")\n",
        "                    break\n",
        "        no_improvement_counter -= 1\n",
        "\n",
        "\n",
        "\n",
        "    total_time = time.time() - start_time\n",
        "    a_best, b_best = elit_pop[0][0][0], elit_pop[0][0][1]\n",
        "    best_result = evaluate_solution(instance, (a_best, b_best))\n",
        "    start_time = time.time()\n",
        "    while time.time() - start_time < 80:\n",
        "        a, b = perturbation(instance, a_best.copy(), b_best.copy(), random.randint(15, 45))\n",
        "        a, b, _ = greedy_local_search(a, b, instance, '2')\n",
        "        result = evaluate_solution(instance, (a, b))\n",
        "        if result < best_result:\n",
        "            # print(best_result)\n",
        "            a_best, b_best = a, b\n",
        "            best_result = result\n",
        "    return [[a_best, b_best], best_result], total_time\n",
        "\n",
        "\n",
        "\n"
      ]
    },
    {
      "cell_type": "code",
      "source": [
        "import numpy as np\n",
        "import math\n",
        "import random\n",
        "import time \n",
        "from tqdm import tqdm \n",
        "\n",
        "solutions = []\n",
        "times = []\n",
        "instances = [\"kroA200.tsp\"]\n",
        "cooridantes, instance = read_instance(instances[0])\n",
        "for _ in tqdm(range(10)):\n",
        "  sol, t = hybrid_evolutional(instance, local_serach_after_recombination=True, duration_time_seconds = 200, pop_size = 5, limit = 33000)\n",
        "  print(\"Score:\", sol[1])\n",
        "  solutions.append(sol)\n",
        "  times.append(t)"
      ],
      "metadata": {
        "colab": {
          "base_uri": "https://localhost:8080/"
        },
        "id": "z7T5uMAH6FlM",
        "outputId": "668392e5-fadf-4a5b-d886-300d6777d410"
      },
      "execution_count": 75,
      "outputs": [
        {
          "output_type": "stream",
          "name": "stderr",
          "text": [
            "\r  0%|          | 0/10 [00:00<?, ?it/s]"
          ]
        },
        {
          "output_type": "stream",
          "name": "stdout",
          "text": [
            "Populacja gotowa\n"
          ]
        },
        {
          "output_type": "stream",
          "name": "stderr",
          "text": [
            "\r 10%|█         | 1/10 [05:42<51:22, 342.48s/it]"
          ]
        },
        {
          "output_type": "stream",
          "name": "stdout",
          "text": [
            "Score: 30488\n",
            "Populacja gotowa\n"
          ]
        },
        {
          "output_type": "stream",
          "name": "stderr",
          "text": [
            "\r 20%|██        | 2/10 [11:40<46:53, 351.68s/it]"
          ]
        },
        {
          "output_type": "stream",
          "name": "stdout",
          "text": [
            "Score: 30436\n",
            "Populacja gotowa\n"
          ]
        },
        {
          "output_type": "stream",
          "name": "stderr",
          "text": [
            "\r 30%|███       | 3/10 [17:29<40:51, 350.23s/it]"
          ]
        },
        {
          "output_type": "stream",
          "name": "stdout",
          "text": [
            "Score: 30523\n",
            "Populacja gotowa\n"
          ]
        },
        {
          "output_type": "stream",
          "name": "stderr",
          "text": [
            "\r 40%|████      | 4/10 [23:07<34:34, 345.70s/it]"
          ]
        },
        {
          "output_type": "stream",
          "name": "stdout",
          "text": [
            "Score: 30787\n",
            "Populacja gotowa\n"
          ]
        },
        {
          "output_type": "stream",
          "name": "stderr",
          "text": [
            "\r 50%|█████     | 5/10 [29:12<29:22, 352.45s/it]"
          ]
        },
        {
          "output_type": "stream",
          "name": "stdout",
          "text": [
            "Score: 30365\n",
            "Populacja gotowa\n"
          ]
        },
        {
          "output_type": "stream",
          "name": "stderr",
          "text": [
            "\r 60%|██████    | 6/10 [34:52<23:13, 348.29s/it]"
          ]
        },
        {
          "output_type": "stream",
          "name": "stdout",
          "text": [
            "Score: 30515\n",
            "Populacja gotowa\n"
          ]
        },
        {
          "output_type": "stream",
          "name": "stderr",
          "text": [
            "\r 70%|███████   | 7/10 [40:21<17:06, 342.07s/it]"
          ]
        },
        {
          "output_type": "stream",
          "name": "stdout",
          "text": [
            "Score: 30378\n",
            "Populacja gotowa\n"
          ]
        },
        {
          "output_type": "stream",
          "name": "stderr",
          "text": [
            "\r 80%|████████  | 8/10 [45:45<11:12, 336.27s/it]"
          ]
        },
        {
          "output_type": "stream",
          "name": "stdout",
          "text": [
            "Score: 31095\n",
            "Populacja gotowa\n"
          ]
        },
        {
          "output_type": "stream",
          "name": "stderr",
          "text": [
            "\r 90%|█████████ | 9/10 [52:03<05:49, 349.41s/it]"
          ]
        },
        {
          "output_type": "stream",
          "name": "stdout",
          "text": [
            "Score: 30076\n",
            "Populacja gotowa\n"
          ]
        },
        {
          "output_type": "stream",
          "name": "stderr",
          "text": [
            "100%|██████████| 10/10 [57:38<00:00, 345.85s/it]"
          ]
        },
        {
          "output_type": "stream",
          "name": "stdout",
          "text": [
            "Score: 30389\n"
          ]
        },
        {
          "output_type": "stream",
          "name": "stderr",
          "text": [
            "\n"
          ]
        }
      ]
    },
    {
      "cell_type": "code",
      "source": [
        "def draw_plot(vertices, visited, length, filename = \"x\"):\n",
        "  for graph in visited:\n",
        "    x = [vertices[idx][0] for idx in graph]\n",
        "    y = [vertices[idx][1] for idx in graph]\n",
        "    plt.plot(x, y)\n",
        "  for i in vertices:\n",
        "    plt.scatter(i[0], i[1], color='red')\n",
        "  plt.suptitle(f'score: {int(length)}')\n",
        "  plt.savefig(f'{filename}.jpg')\n",
        "  plt.show()"
      ],
      "metadata": {
        "id": "wNMVBVLJd-hU"
      },
      "execution_count": 67,
      "outputs": []
    },
    {
      "cell_type": "code",
      "source": [
        "import matplotlib.pyplot as plt\n",
        "from copy import deepcopy\n",
        "\n",
        "best = deepcopy(solutions[-2])\n",
        "best[0][0].append(best[0][0][0])\n",
        "best[0][1].append(best[0][1][0])\n",
        "draw_plot(cooridantes, best[0], solutions[-2][1], \"bestkroA200\")"
      ],
      "metadata": {
        "colab": {
          "base_uri": "https://localhost:8080/",
          "height": 294
        },
        "id": "GCxxMdfJeAEs",
        "outputId": "88bf69af-4181-4402-b87f-a550c376e7b2"
      },
      "execution_count": 90,
      "outputs": [
        {
          "output_type": "display_data",
          "data": {
            "text/plain": [
              "<Figure size 432x288 with 1 Axes>"
            ],
            "image/png": "[encoded data removed]"
          },
          "metadata": {
            "needs_background": "light"
          }
        }
      ]
    }
  ],
  "metadata": {
    "interpreter": {
      "hash": "249fd5a58644792e4245b3f3c6a758fe9c331bfbf4bb261136a1fb24bf28b415"
    },
    "kernelspec": {
      "display_name": "Python 3.9.7 ('venv': venv)",
      "language": "python",
      "name": "python3"
    },
    "language_info": {
      "codemirror_mode": {
        "name": "ipython",
        "version": 3
      },
      "file_extension": ".py",
      "mimetype": "text/x-python",
      "name": "python",
      "nbconvert_exporter": "python",
      "pygments_lexer": "ipython3",
      "version": "3.9.7"
    },
    "orig_nbformat": 4,
    "colab": {
      "name": "LAB7.ipynb",
      "provenance": [],
      "collapsed_sections": [],
      "include_colab_link": true
    }
  },
  "nbformat": 4,
  "nbformat_minor": 0
}