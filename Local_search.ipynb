{
  "cells": [
    {
      "cell_type": "markdown",
      "metadata": {
        "id": "view-in-github",
        "colab_type": "text"
      },
      "source": [
        "<a href=\"https://colab.research.google.com/github/mateusz-wozny/IMO/blob/main/Local_search.ipynb\" target=\"_parent\"><img src=\"https://colab.research.google.com/assets/colab-badge.svg\" alt=\"Open In Colab\"/></a>"
      ]
    },
    {
      "cell_type": "markdown",
      "source": [
        "# LAB 1"
      ],
      "metadata": {
        "id": "hcheA6Ucmp5Y"
      }
    },
    {
      "cell_type": "code",
      "execution_count": null,
      "metadata": {
        "id": "t_iTpIQaaJkx"
      },
      "outputs": [],
      "source": [
        "import numpy as np\n",
        "import random\n",
        "import matplotlib.pyplot as plt\n",
        "import pandas as pd"
      ]
    },
    {
      "cell_type": "code",
      "execution_count": null,
      "metadata": {
        "id": "9R79sSbTaJk9"
      },
      "outputs": [],
      "source": [
        "def createDistanceMatrix(vertices):\n",
        "  outputMatrix = [[round(np.sqrt((x2 - x1) ** 2 + (y2 - y1) ** 2)) for (x2, y2) in vertices] for (x1, y1) in vertices]\n",
        "  return np.array(outputMatrix)"
      ]
    },
    {
      "cell_type": "code",
      "execution_count": null,
      "metadata": {
        "id": "4RT453NPaJlA"
      },
      "outputs": [],
      "source": [
        "def chooseNearestVertex(matrix, used_vertexes, node):\n",
        "  return np.argmin([matrix[node][i] if i not in used_vertexes and i != node else float('inf') for i in range(0, len(matrix[node]))])"
      ]
    },
    {
      "cell_type": "code",
      "execution_count": null,
      "metadata": {
        "id": "WQuZcsYjaJlB"
      },
      "outputs": [],
      "source": [
        "def calculateCycleLength(matrix, vertexes):\n",
        "  length = 0\n",
        "  for graph in vertexes:\n",
        "    length += np.sum([matrix[ graph[idx], graph[idx+1] ] for idx in range(len(graph) - 1)])\n",
        "\n",
        "#   print(length)\n",
        "  return length"
      ]
    },
    {
      "cell_type": "code",
      "source": [
        "def find_nearest(matrix, lista, unvisited):\n",
        "    df = matrix[:, lista][unvisited, :]\n",
        "    indx, indy = np.unravel_index(df.argmin(), df.shape)\n",
        "    return unvisited[indx], lista[indy]"
      ],
      "metadata": {
        "id": "on8vtbVeijdR"
      },
      "execution_count": null,
      "outputs": []
    },
    {
      "cell_type": "code",
      "source": [
        "def random_heuristic(matrix, start):\n",
        "    N = matrix.shape[0]\n",
        "    a = random.sample(range(N), N)\n",
        "    list1 = a[:N//2]\n",
        "    list1.append(list1[0])\n",
        "    list2 = a[N//2:]\n",
        "    list2.append(list2[0])\n",
        "    return [list1, list2]"
      ],
      "metadata": {
        "id": "j8vaOUcMi6TD"
      },
      "execution_count": null,
      "outputs": []
    },
    {
      "cell_type": "code",
      "source": [
        "def nearest_neighbor(matrix, start):\n",
        "    end = np.argmax(matrix[start, :])\n",
        "    unvisited = list(range(matrix.shape[0]))\n",
        "    unvisited.remove(start)\n",
        "    unvisited.remove(end)\n",
        "    list1 = [start]\n",
        "    list2 = [end]\n",
        "    while len(unvisited) != 0:\n",
        "        nearest, vertex = find_nearest(matrix, list1, unvisited)\n",
        "        list1.insert(list1.index(vertex) + 1, nearest)\n",
        "        unvisited.remove(nearest)\n",
        "        if len(unvisited) == 0:\n",
        "          break\n",
        "        nearest, vertex = find_nearest(matrix, list2, unvisited)\n",
        "        list2.insert(list2.index(vertex) + 1, nearest)\n",
        "        unvisited.remove(nearest)\n",
        "    list1.append(start)\n",
        "    list2.append(end)\n",
        "\n",
        "    return [list1, list2]"
      ],
      "metadata": {
        "id": "F0mhZ3PRdt_o"
      },
      "execution_count": null,
      "outputs": []
    },
    {
      "cell_type": "code",
      "execution_count": null,
      "metadata": {
        "id": "2HNlZ_dTaJlC"
      },
      "outputs": [],
      "source": [
        "def greedyCycle(matrix, start_node):\n",
        "    #Starting node 2\n",
        "    start_node_2 = np.argmax(matrix[start_node])\n",
        "\n",
        "    #Choosing nearest vertex for cycles\n",
        "    closest_node_1 = chooseNearestVertex(matrix, [start_node, start_node_2], start_node)\n",
        "    closest_node_2 = chooseNearestVertex(matrix, [start_node, start_node_2, closest_node_1], start_node_2)\n",
        "\n",
        "    #Creating cycles\n",
        "    cycles = []\n",
        "    cycles.append([start_node, closest_node_1, start_node])\n",
        "    cycles.append([start_node_2, closest_node_2, start_node_2])\n",
        "\n",
        "    #Calculating cycles\n",
        "    while len(cycles[0])+len(cycles[1]) != len(matrix)+2:\n",
        "        if len(cycles[0]) <= len(cycles[1]):\n",
        "            visited = cycles[0]\n",
        "        else:\n",
        "            visited = cycles[1]\n",
        "\n",
        "        z = np.inf\n",
        "        x = np.inf\n",
        "        c = np.inf\n",
        "\n",
        "        for i in visited:\n",
        "            nearest = chooseNearestVertex(matrix, np.concatenate([cycles[0], cycles[1]]), i)\n",
        "            for j in range(len(visited) - 1):\n",
        "                value = matrix[visited[j], nearest] + matrix[visited[j+1], nearest] - matrix[visited[j], visited[j+1]]\n",
        "                if value < z:\n",
        "                    z = value\n",
        "                    x = j + 1\n",
        "                    c = nearest\n",
        "\n",
        "        if len(cycles[0]) <= len(cycles[1]):\n",
        "            cycles[0].insert(x, c)\n",
        "        else:\n",
        "            cycles[1].insert(x, c)\n",
        "\n",
        "    return cycles"
      ]
    },
    {
      "cell_type": "code",
      "source": [
        "def two_regret(matrix, start_node):\n",
        "    start_node_2 = np.argmax(matrix[start_node])\n",
        "\n",
        "    closest_node_1 = chooseNearestVertex(matrix, [start_node, start_node_2], start_node)\n",
        "    closest_node_2 = chooseNearestVertex(matrix, [start_node, start_node_2, closest_node_1], start_node_2)\n",
        "\n",
        "    cycles = []\n",
        "    cycles.append([start_node, closest_node_1, start_node])\n",
        "    cycles.append([start_node_2, closest_node_2, start_node_2])\n",
        "\n",
        "    while len(cycles[0])+len(cycles[1]) != len(matrix)+2:\n",
        "        if len(cycles[0]) <= len(cycles[1]):\n",
        "            visited = cycles[0]\n",
        "        else:\n",
        "            visited = cycles[1]\n",
        "        z = -np.inf\n",
        "        x = np.inf\n",
        "        c = np.inf\n",
        "        for i in visited:\n",
        "            nearest = chooseNearestVertex(matrix, np.concatenate([cycles[0], cycles[1]]), i)\n",
        "            values = {}\n",
        "            for j in range(len(visited) - 1):\n",
        "                value = matrix[visited[j], nearest] + matrix[visited[j+1], nearest] - matrix[visited[j], visited[j+1]]\n",
        "                values.update({j:value})\n",
        "            values = dict(sorted(values.items(), key= lambda x:x[1]))\n",
        "            keys = list(values.keys())\n",
        "            value = values[keys[1]] - 1.5*values[keys[0]]\n",
        "            if value > z:\n",
        "                z = value\n",
        "                x = keys[0] + 1\n",
        "                c = nearest\n",
        "\n",
        "            \n",
        "        if len(cycles[0]) <= len(cycles[1]):\n",
        "                cycles[0].insert(x, c)\n",
        "        else:\n",
        "                cycles[1].insert(x, c)\n",
        "\n",
        "    return cycles"
      ],
      "metadata": {
        "id": "c-GqG66D2uCV"
      },
      "execution_count": null,
      "outputs": []
    },
    {
      "cell_type": "code",
      "execution_count": null,
      "metadata": {
        "id": "lFHdnNWMaJlF"
      },
      "outputs": [],
      "source": [
        "def draw_plot(vertices, visited, length, filename):\n",
        "  for graph in visited:\n",
        "    x = vertices[graph, 0]\n",
        "    y = vertices[graph,1]\n",
        "    plt.plot(x, y)\n",
        "  plt.scatter(vertices[:, 0], vertices[:, 1], color='red')\n",
        "  plt.suptitle(f'score: {int(length)}')\n",
        "  plt.savefig(f'{filename}.jpg')\n",
        "  plt.show()"
      ]
    },
    {
      "cell_type": "code",
      "source": [
        "def draw_best(ver_data, lengths, heuris, filename):\n",
        "  best_start_node = np.argmin(lengths)\n",
        "  distance_matrix = createDistanceMatrix(ver_data)\n",
        "  vertexes = heuris(distance_matrix, best_start_node)\n",
        "  min_length = lengths[best_start_node]\n",
        "  draw_plot(ver_data, vertexes, min_length, filename)"
      ],
      "metadata": {
        "id": "90EzhrkO48Lu"
      },
      "execution_count": null,
      "outputs": []
    },
    {
      "cell_type": "code",
      "execution_count": null,
      "metadata": {
        "id": "8OT_IVevaJlH"
      },
      "outputs": [],
      "source": [
        "def test(n, heuris, ver_data):\n",
        "  distance_matrix = createDistanceMatrix(ver_data)\n",
        "  lengths = []\n",
        "  for i in range(n):\n",
        "    start_node = i\n",
        "    vertexes = heuris(distance_matrix, start_node)\n",
        "    length = calculateCycleLength(distance_matrix, vertexes)\n",
        "    lengths.append(length)\n",
        "  return lengths"
      ]
    },
    {
      "cell_type": "code",
      "execution_count": null,
      "metadata": {
        "id": "y5uJcv8OaJk7"
      },
      "outputs": [],
      "source": [
        "ver_data = np.array(pd.read_csv('kroA100.txt', sep=' ', header=None).iloc[:, 1:])"
      ]
    },
    {
      "cell_type": "code",
      "source": [
        "#Four heuris to choose: random_heuristic, nearest_neighbor, greedyCycle, two_regret \n",
        "lengths = test(100, heuris = two_regret,ver_data =  ver_data)\n",
        "print(f'{round(sum(lengths)/len(lengths))} ({min(lengths)}-{max(lengths)})')"
      ],
      "metadata": {
        "colab": {
          "base_uri": "https://localhost:8080/"
        },
        "id": "dC9eH-gbKfXl",
        "outputId": "3f9061b1-c7ac-419f-c9c7-18803e5c3949"
      },
      "execution_count": null,
      "outputs": [
        {
          "output_type": "stream",
          "name": "stdout",
          "text": [
            "26550 0\n",
            "26336 3\n",
            "24586 4\n",
            "24380 5\n",
            "24329 10\n",
            "23619 20\n",
            "23546 22\n",
            "26900 (23546-30422)\n"
          ]
        }
      ]
    },
    {
      "cell_type": "code",
      "source": [
        "draw_best(ver_data, lengths, greedyCycle, 'cycleB')"
      ],
      "metadata": {
        "colab": {
          "base_uri": "https://localhost:8080/",
          "height": 294
        },
        "id": "mUgeyC4c6g8j",
        "outputId": "bcc86f81-7daf-4860-d902-efe0729ac4e1"
      },
      "execution_count": null,
      "outputs": [
        {
          "output_type": "display_data",
          "data": {
            "text/plain": [
              "<Figure size 432x288 with 1 Axes>"
            ],
            "image/png": "[encoded data removed]"
          },
          "metadata": {
            "needs_background": "light"
          }
        }
      ]
    },
    {
      "cell_type": "markdown",
      "source": [
        "# LAB 2"
      ],
      "metadata": {
        "id": "5s0WbNlNmvC0"
      }
    },
    {
      "cell_type": "markdown",
      "source": [
        "## Tworzenie możliwych ruchów dla podanego wierzchołka"
      ],
      "metadata": {
        "id": "0yKNy4g3DFrE"
      }
    },
    {
      "cell_type": "code",
      "source": [
        "def swap_vertex(vertex, list_of_vertex, i):\n",
        "  copy = list_of_vertex[:-1]\n",
        "  copy = copy[copy.index(vertex)+1:]\n",
        "  n = len(copy)\n",
        "  return list(zip([\"vertex\"]*(n), copy, [vertex]*(n), [i]*(n)))"
      ],
      "metadata": {
        "id": "gWLVEuMkuB4c"
      },
      "execution_count": null,
      "outputs": []
    },
    {
      "cell_type": "code",
      "source": [
        "def swap_vertex_cycle(vertex, list_of_vertex, i):\n",
        "  copy = list_of_vertex[:-1]\n",
        "  n = len(copy)\n",
        "  return list(zip([\"cycle\"]*n, copy, [vertex]*(n), [i]*(n)))"
      ],
      "metadata": {
        "id": "lLU65lPTw4Sr"
      },
      "execution_count": null,
      "outputs": []
    },
    {
      "cell_type": "code",
      "source": [
        "def swap_edges(vertex, list_of_vertex, i):\n",
        "  copy = list_of_vertex[:-1]\n",
        "  copy = copy[copy.index(vertex)+1:]\n",
        "  n = len(copy)\n",
        "  return list(zip([\"edges\"]*(n), copy, [vertex]*(n),  [i]*(n)))"
      ],
      "metadata": {
        "id": "E-3yceAZxtUR"
      },
      "execution_count": null,
      "outputs": []
    },
    {
      "cell_type": "markdown",
      "source": [
        "## Obliczanie delty funkcji celu"
      ],
      "metadata": {
        "id": "Uwip5JPsDR1I"
      }
    },
    {
      "cell_type": "code",
      "source": [
        "def calculate_delta(typ, distance_matrix, vertex1, vertex2, list_of_vertex1, list_of_vertex2 = None):\n",
        "  list1 = list_of_vertex1[:-1]\n",
        "  if typ==\"vertex\":\n",
        "    ind1 = list1.index(vertex1)\n",
        "    ind2 = list1.index(vertex2)\n",
        "    min1, max1 = min(ind1,ind2), max(ind1,ind2)\n",
        "    neig1 = min1-1\n",
        "    neig2 = (max1+1)%len(list1)\n",
        "    delta1 = distance_matrix[list1[neig1], list1[min1]] + distance_matrix[list1[neig1+2], list1[min1]]+ distance_matrix[\n",
        "                                                          list1[neig2], list1[max1]] + distance_matrix[list1[neig2-2], list1[max1]]\n",
        "    delta2 = distance_matrix[list1[neig1], list1[max1]] + distance_matrix[list1[neig1+2], list1[max1]]+ distance_matrix[\n",
        "                                                          list1[neig2], list1[min1]] + distance_matrix[list1[neig2-2], list1[min1]]\n",
        "    if abs(ind1-ind2)==1 or neig2==min1:\n",
        "      delta2+=2*distance_matrix[list1[ind1], list1[ind2]]\n",
        "\n",
        "\n",
        "  elif typ==\"edges\":\n",
        "    ind1 = list1.index(vertex1)\n",
        "    ind2 = list1.index(vertex2)\n",
        "    min1, max1 = min(ind1,ind2), max(ind1,ind2)\n",
        "    neig1 = min1-1\n",
        "    neig2 = (max1+1)%len(list1)\n",
        "    if neig2==0 and min1==0:\n",
        "      return 0\n",
        "    delta1 = distance_matrix[list1[neig1], list1[min1]] + distance_matrix[list1[neig2], list1[max1]]\n",
        "    delta2 = distance_matrix[list1[neig1], list1[max1]] + distance_matrix[list1[neig2], list1[min1]]\n",
        "\n",
        "  elif typ==\"cycle\":\n",
        "    if list_of_vertex2:\n",
        "      list2 = list_of_vertex2[:-1]\n",
        "    ind1 = list1.index(vertex1)\n",
        "    ind2 = list2.index(vertex2)\n",
        "    indout1 = (ind1+1)%len(list1)\n",
        "    indout2 = (ind2+1)%len(list2)\n",
        "    delta1 = distance_matrix[list1[ind1-1], list1[ind1]] + distance_matrix[list1[indout1], list1[ind1]]+ distance_matrix[\n",
        "                                                          list2[ind2-1], list2[ind2]] + distance_matrix[list2[indout2], list2[ind2]]\n",
        "    delta2 = distance_matrix[list1[ind1-1], list2[ind2]] + distance_matrix[list1[indout1], list2[ind2]]+ distance_matrix[\n",
        "                                                          list2[ind2-1], list1[ind1]] + distance_matrix[list2[indout2], list1[ind1]]\n",
        "  return delta2-delta1"
      ],
      "metadata": {
        "id": "O1TfGqK9x6F1"
      },
      "execution_count": null,
      "outputs": []
    },
    {
      "cell_type": "markdown",
      "source": [
        "## Wykonywanie ruchu"
      ],
      "metadata": {
        "id": "PahlUb2jDVxx"
      }
    },
    {
      "cell_type": "code",
      "source": [
        "def move(typ, vertex1, vertex2, list_of_vertex1, list_of_vertex2 = None):\n",
        "  list1 = list_of_vertex1[:-1]\n",
        "  list2 = list_of_vertex2[:-1]\n",
        "  if typ==\"vertex\":\n",
        "    ind1 = list1.index(vertex1)\n",
        "    ind2 = list1.index(vertex2)\n",
        "    list1[ind1], list1[ind2] = list1[ind2], list1[ind1] \n",
        "\n",
        "  elif typ==\"edges\":\n",
        "    ind1 = list1.index(vertex1)\n",
        "    ind2 = list1.index(vertex2)\n",
        "    min1, max1 = min(ind1,ind2), max(ind1, ind2)\n",
        "    list1[min1:max1+1] = reversed(list1[min1:max1+1])\n",
        "\n",
        "  else:\n",
        "    ind1 = list1.index(vertex1)\n",
        "    ind2 = list2.index(vertex2)\n",
        "    list1[ind1], list2[ind2] = list2[ind2], list1[ind1]\n",
        "    \n",
        "\n",
        "  list1.append(list1[0])\n",
        "  list2.append(list2[0])\n",
        "  return list1, list2\n"
      ],
      "metadata": {
        "id": "h81Zn_5YOu-j"
      },
      "execution_count": null,
      "outputs": []
    },
    {
      "cell_type": "markdown",
      "source": [
        "## Algorytmy wykorzystane do rozwiązania zadania"
      ],
      "metadata": {
        "id": "7Z0tEZj8DZ5S"
      }
    },
    {
      "cell_type": "code",
      "source": [
        "def steepest(distance_matrix, type_of_neigbhour=swap_vertex, start_solution = None, verbose=False):\n",
        "  while True:\n",
        "      best_move = None\n",
        "      delta = 0\n",
        "      moves = []\n",
        "      for kk in np.concatenate(start_solution):\n",
        "        if kk in start_solution[0]:\n",
        "          i=0\n",
        "        else:\n",
        "          i=1\n",
        "        moves+=type_of_neigbhour(kk, start_solution[i], i)\n",
        "        moves+=swap_vertex_cycle(kk, start_solution[(i+1)%2], i)\n",
        "\n",
        "      for m in moves:\n",
        "        i = m[3]\n",
        "        new_delta = calculate_delta(m[0], distance_matrix, m[2], m[1], start_solution[i], list_of_vertex2 = start_solution[(i+1)%2])\n",
        "        if new_delta < delta:\n",
        "          best_move = m\n",
        "          delta = new_delta\n",
        "\n",
        "      if best_move:\n",
        "        i = best_move[3]\n",
        "        start_solution = move(best_move[0], best_move[2], best_move[1], start_solution[i], list_of_vertex2 = start_solution[(i+1)%2])\n",
        "        if verbose:\n",
        "          print(calculateCycleLength(distance_matrix, start_solution), delta)\n",
        "          print()\n",
        "      else:\n",
        "        break\n",
        "      \n",
        "\n",
        "  return start_solution\n"
      ],
      "metadata": {
        "id": "tEW6PhUrKayV"
      },
      "execution_count": null,
      "outputs": []
    },
    {
      "cell_type": "code",
      "source": [
        "def greedy(distance_matrix, type_of_neigbhour=swap_vertex, start_solution = None, verbose=False):\n",
        "  while True:\n",
        "      best_move = None\n",
        "      moves = []\n",
        "      for kk in np.concatenate(start_solution):\n",
        "        if kk in start_solution[0]:\n",
        "          i=0\n",
        "        else:\n",
        "          i=1\n",
        "        moves+=type_of_neigbhour(kk, start_solution[i], i)\n",
        "        moves+=swap_vertex_cycle(kk, start_solution[(i+1)%2], i)\n",
        "      random.shuffle(moves)\n",
        "      for m in moves:\n",
        "        i = m[3]\n",
        "        new_delta = calculate_delta(m[0], distance_matrix, m[2], m[1], start_solution[i], list_of_vertex2 = start_solution[(i+1)%2])\n",
        "        if new_delta < 0:\n",
        "          best_move = m\n",
        "          break\n",
        "\n",
        "      if best_move:\n",
        "        i = best_move[3]\n",
        "        start_solution = move(best_move[0], best_move[2], best_move[1], start_solution[i], list_of_vertex2 = start_solution[(i+1)%2])\n",
        "\n",
        "        if verbose:\n",
        "          print(calculateCycleLength(distance_matrix, start_solution), new_delta)\n",
        "          print()\n",
        "      else:\n",
        "        break\n",
        "      \n",
        "\n",
        "  return start_solution"
      ],
      "metadata": {
        "id": "Z-MLy-LET6tC"
      },
      "execution_count": null,
      "outputs": []
    },
    {
      "cell_type": "code",
      "source": [
        "def random_wandering(distance_matrix, type_of_neigbhour=swap_vertex, start_solution = None, verbose=False):\n",
        "  j = 0\n",
        "  while j<100:\n",
        "      j+=1\n",
        "      best_move = None\n",
        "      moves = []\n",
        "      for kk in np.concatenate(start_solution):\n",
        "        if kk in start_solution[0]:\n",
        "          i=0\n",
        "        else:\n",
        "          i=1\n",
        "        moves+=type_of_neigbhour(kk, start_solution[i], i)\n",
        "        moves+=swap_vertex_cycle(kk, start_solution[(i+1)%2], i)\n",
        "      random.shuffle(moves)\n",
        "      m = moves[random.randint(0, len(moves)-1)]\n",
        "      i = m[3]\n",
        "      new_delta = calculate_delta(m[0], distance_matrix, m[2], m[1], start_solution[i], list_of_vertex2 = start_solution[(i+1)%2])\n",
        "      if new_delta < 0:\n",
        "        best_move = m\n",
        "\n",
        "      if best_move:\n",
        "        start_solution = move(best_move[0], best_move[2], best_move[1], start_solution[i], list_of_vertex2 = start_solution[(i+1)%2])\n",
        "\n",
        "        if verbose:\n",
        "          print(calculateCycleLength(distance_matrix, start_solution))\n",
        "          print()\n",
        "      \n",
        "      \n",
        "\n",
        "  return start_solution"
      ],
      "metadata": {
        "id": "SyfVlgfNZhvB",
        "colab": {
          "base_uri": "https://localhost:8080/"
        },
        "outputId": "e9958701-a9bb-413a-f911-63774d7aa18a"
      },
      "execution_count": null,
      "outputs": [
        {
          "output_type": "stream",
          "name": "stdout",
          "text": [
            "time: 27.8 ms (started: 2022-04-03 12:43:20 +00:00)\n"
          ]
        }
      ]
    },
    {
      "cell_type": "markdown",
      "source": [
        "## Uruchamianie eksperymentów"
      ],
      "metadata": {
        "id": "0tD79-2sDhAP"
      }
    },
    {
      "cell_type": "code",
      "source": [
        "def test_lab2(n, heuris, ver_data, algor = steepest, swap = swap_vertex):\n",
        "  distance_matrix = createDistanceMatrix(ver_data)\n",
        "  lengths = []\n",
        "  best_length = np.inf\n",
        "  best = None\n",
        "  for i in range(n):\n",
        "    start_node = i\n",
        "    vertexes = heuris(distance_matrix, start_node)\n",
        "    vertexes = algor(distance_matrix, swap, start_solution = vertexes, verbose = False)\n",
        "    length = calculateCycleLength(distance_matrix, vertexes)\n",
        "    if length < best_length:\n",
        "      best = vertexes\n",
        "      best_length = length\n",
        "    lengths.append(length)\n",
        "  return lengths, best, best_length"
      ],
      "metadata": {
        "id": "PpEeGAYIddl0"
      },
      "execution_count": null,
      "outputs": []
    },
    {
      "cell_type": "code",
      "source": [
        "def draw_best2(ver_data, best, length, filename = \"cos\"):\n",
        "  for graph in best:\n",
        "    x = ver_data[graph, 0]\n",
        "    y = ver_data[graph,1]\n",
        "    plt.plot(x, y)\n",
        "  plt.scatter(ver_data[:, 0], ver_data[:, 1], color='red')\n",
        "  plt.suptitle(f'score: {int(length)}')\n",
        "  plt.savefig(f'{filename}.jpg')"
      ],
      "metadata": {
        "id": "UJM6G0LTewZV"
      },
      "execution_count": null,
      "outputs": []
    },
    {
      "cell_type": "code",
      "source": [
        "#load time measurement\n",
        "!pip install ipython-autotime\n",
        "%load_ext autotime"
      ],
      "metadata": {
        "id": "6MfuMNZo3-A2"
      },
      "execution_count": null,
      "outputs": []
    },
    {
      "cell_type": "code",
      "source": [
        "ver_data = np.array(pd.read_csv('kroA100.txt', sep=' ', header=None).iloc[:, 1:])"
      ],
      "metadata": {
        "colab": {
          "base_uri": "https://localhost:8080/"
        },
        "id": "OP1PM97ZmwfQ",
        "outputId": "2033e250-d31a-4f0c-ae9b-c7b25bef2afb"
      },
      "execution_count": null,
      "outputs": [
        {
          "output_type": "stream",
          "name": "stdout",
          "text": [
            "time: 6.98 ms (started: 2022-04-03 13:33:01 +00:00)\n"
          ]
        }
      ]
    },
    {
      "cell_type": "code",
      "source": [
        "# algor to choose: steepest, greedy or random_wandering, swap: swap_edges or swap_vertex\n",
        "lengt, best, bl = test_lab2(100, two_regret, ver_data, algor = steepest, swap = swap_edges)"
      ],
      "metadata": {
        "id": "3aPNrl0SdtWj",
        "colab": {
          "base_uri": "https://localhost:8080/"
        },
        "outputId": "d5643d4b-4d44-49cd-be1f-9c475cdeb3e7"
      },
      "execution_count": null,
      "outputs": [
        {
          "output_type": "stream",
          "name": "stdout",
          "text": [
            "time: 3min 10s (started: 2022-04-03 13:33:03 +00:00)\n"
          ]
        }
      ]
    },
    {
      "cell_type": "code",
      "source": [
        "print(f'{round(sum(lengt)/len(lengt))} ({min(lengt)}-{max(lengt)})')"
      ],
      "metadata": {
        "colab": {
          "base_uri": "https://localhost:8080/"
        },
        "id": "Uca0hjCK98x4",
        "outputId": "35a2fa1b-97cf-4360-8341-c22c6c953f3c"
      },
      "execution_count": null,
      "outputs": [
        {
          "output_type": "stream",
          "name": "stdout",
          "text": [
            "24179 (22534-27517)\n",
            "time: 2.58 ms (started: 2022-04-03 13:49:30 +00:00)\n"
          ]
        }
      ]
    },
    {
      "cell_type": "code",
      "source": [
        "draw_best2(ver_data, best, bl, filename=\"steepest\")"
      ],
      "metadata": {
        "id": "-Fo9x8fEmIAa",
        "outputId": "17300527-a1c4-450d-b173-7e174bc284f9",
        "colab": {
          "base_uri": "https://localhost:8080/",
          "height": 311
        }
      },
      "execution_count": null,
      "outputs": [
        {
          "output_type": "display_data",
          "data": {
            "text/plain": [
              "<Figure size 432x288 with 1 Axes>"
            ],
            "image/png": "[encoded data removed]"
          },
          "metadata": {
            "needs_background": "light"
          }
        },
        {
          "output_type": "stream",
          "name": "stdout",
          "text": [
            "time: 703 ms (started: 2022-04-03 13:49:39 +00:00)\n"
          ]
        }
      ]
    },
    {
      "cell_type": "markdown",
      "source": [
        "# LAB 3"
      ],
      "metadata": {
        "id": "AZjzGFOZRUYo"
      }
    },
    {
      "cell_type": "code",
      "source": [
        "!pip install tspy\n",
        "!pip install TSPLib95\n",
        "\n",
        "import tsplib95\n",
        "import numpy as np\n",
        "import matplotlib.pyplot as plt\n",
        "from tspy import TSP\n",
        "from random import randint\n",
        "import time"
      ],
      "metadata": {
        "colab": {
          "base_uri": "https://localhost:8080/"
        },
        "id": "-SA1TxMnEa0b",
        "outputId": "7eaa0717-99e4-409c-f776-664dccb211fd"
      },
      "execution_count": 1,
      "outputs": [
        {
          "output_type": "stream",
          "name": "stdout",
          "text": [
            "Collecting tspy\n",
            "  Downloading tspy-0.1.1.1-py3-none-any.whl (9.0 kB)\n",
            "Installing collected packages: tspy\n",
            "Successfully installed tspy-0.1.1.1\n",
            "Collecting TSPLib95\n",
            "  Downloading tsplib95-0.7.1-py2.py3-none-any.whl (25 kB)\n",
            "Requirement already satisfied: Click>=6.0 in /usr/local/lib/python3.7/dist-packages (from TSPLib95) (7.1.2)\n",
            "Requirement already satisfied: networkx~=2.1 in /usr/local/lib/python3.7/dist-packages (from TSPLib95) (2.6.3)\n",
            "Collecting Deprecated~=1.2.9\n",
            "  Downloading Deprecated-1.2.13-py2.py3-none-any.whl (9.6 kB)\n",
            "Requirement already satisfied: tabulate~=0.8.7 in /usr/local/lib/python3.7/dist-packages (from TSPLib95) (0.8.9)\n",
            "Requirement already satisfied: wrapt<2,>=1.10 in /usr/local/lib/python3.7/dist-packages (from Deprecated~=1.2.9->TSPLib95) (1.14.0)\n",
            "Installing collected packages: Deprecated, TSPLib95\n",
            "Successfully installed Deprecated-1.2.13 TSPLib95-0.7.1\n"
          ]
        }
      ]
    },
    {
      "cell_type": "code",
      "source": [
        "tsp = TSP()\n",
        "\n",
        "kroAProblem = tsplib95.load('kroA200.tsp')\n",
        "kroBProblem = tsplib95.load('kroB200.tsp')\n",
        "\n",
        "kroAData = kroAProblem.as_name_dict()['node_coords']\n",
        "kroBData = kroBProblem.as_name_dict()['node_coords']\n",
        "\n",
        "verticesA = [kroAData[key] for key in kroAData]\n",
        "verticesB = [kroBData[key] for key in kroBData]"
      ],
      "metadata": {
        "id": "N0KCOFj5EdOm"
      },
      "execution_count": 2,
      "outputs": []
    },
    {
      "cell_type": "code",
      "source": [
        "def distance_matrix(vertices):\n",
        "  outputMatrix = [[round(np.sqrt((x2 - x1) ** 2 + (y2 - y1) ** 2)) for (x2, y2) in vertices] for (x1, y1) in vertices]\n",
        "\n",
        "  return np.array(outputMatrix)"
      ],
      "metadata": {
        "id": "OQmQUQLaEeWf"
      },
      "execution_count": 3,
      "outputs": []
    },
    {
      "cell_type": "code",
      "source": [
        "def choose_nearest(matrix, invited_vertices, node):\n",
        "  return np.argmin([matrix[node][i] if i not in invited_vertices and i != node else float('inf') for i in range(0, len(matrix[node]))])"
      ],
      "metadata": {
        "id": "rrwuqP8yEgBv"
      },
      "execution_count": 4,
      "outputs": []
    },
    {
      "cell_type": "code",
      "source": [
        "def calculate_cycle_length(matrix, visited):\n",
        "  sum = 0\n",
        "  for graph in visited:\n",
        "    sum += np.sum([matrix[ graph[idx], graph[idx+1] ] for idx in range(len(graph) - 1)])\n",
        "  return sum"
      ],
      "metadata": {
        "id": "us9Y4QQdEhGJ"
      },
      "execution_count": 5,
      "outputs": []
    },
    {
      "cell_type": "code",
      "source": [
        "def draw_plot(vertices, visited, length, filename = \"x\"):\n",
        "  for graph in visited:\n",
        "    x = [vertices[idx][0] for idx in graph]\n",
        "    y = [vertices[idx][1] for idx in graph]\n",
        "    plt.plot(x, y)\n",
        "  for i in vertices:\n",
        "    plt.scatter(i[0], i[1], color='red')\n",
        "  plt.suptitle(f'score: {int(length)}')\n",
        "  plt.savefig(f'{filename}.jpg')\n",
        "  plt.show()"
      ],
      "metadata": {
        "id": "W1Y8NQYIEiCj"
      },
      "execution_count": 6,
      "outputs": []
    },
    {
      "cell_type": "code",
      "source": [
        "def random_heuristic(matrix, start):\n",
        "    import random\n",
        "    N = matrix.shape[0]\n",
        "    a = random.sample(range(N), N)\n",
        "    list1 = a[:N//2]\n",
        "    list1.append(list1[0])\n",
        "    list2 = a[N//2:]\n",
        "    list2.append(list2[0])\n",
        "    return [list1, list2]"
      ],
      "metadata": {
        "id": "SSrVi1f8d_Og"
      },
      "execution_count": 7,
      "outputs": []
    },
    {
      "cell_type": "markdown",
      "source": [
        "## Ruchy kandydackie"
      ],
      "metadata": {
        "id": "Jq5J9GmZsHnN"
      }
    },
    {
      "cell_type": "code",
      "source": [
        "def find_cycle(cycles, a):\n",
        "    if a in cycles[0]:\n",
        "      return 0, cycles[0].index(a)\n",
        "    return 1, cycles[1].index(a)\n",
        "\n",
        "def reverse(cycle, i, j):\n",
        "    n = len(cycle)\n",
        "    d = (j - i) % n\n",
        "    for k in range(d//2+1):\n",
        "        a, b = (i+k)%n, (i+d-k)%n\n",
        "        cycle[a], cycle[b] = cycle[b], cycle[a]\n",
        "\n",
        "def calculate_delta(typ, matrix, a, b, cycle1, cycle2, i, j):\n",
        "    if typ == \"edges\":\n",
        "      n = len(cycle1)\n",
        "      a, b, c, d = a, cycle1[(i+1)%n], b, cycle1[(j+1)%n]\n",
        "      return matrix[a, c] + matrix[b, d] - matrix[a, b] - matrix[c, d]\n",
        "    elif typ==\"cycles\":\n",
        "      n, m = len(cycle1), len(cycle2)\n",
        "      x1, y1, z1 = cycle1[(i-1)%n], cycle1[i], cycle1[(i+1)%n]\n",
        "      x2, y2, z2 = cycle2[(j-1)%m], cycle2[j], cycle2[(j+1)%m]\n",
        "      return matrix[x1,y2] + matrix[z1,y2] - matrix[x1,y1] - matrix[z1,y1] + matrix[x2,y1] + matrix[z2,y1] - matrix[x2,y2] - matrix[z2,y2]\n",
        "\n",
        "\n",
        "def move(typ, a, b, cycles):\n",
        "    if typ == \"edges\":\n",
        "        (c1, i), (c2, j) = find_cycle(cycles, a), find_cycle(cycles, b)\n",
        "        cycle = cycles[c1]\n",
        "        n = len(cycle)\n",
        "        reverse(cycle, (i+1)%n, j)\n",
        "    elif typ == \"cycles\":\n",
        "        (c1, i), (c2, j) = find_cycle(cycles, a), find_cycle(cycles, b)\n",
        "        cycles[c1][i], cycles[c2][j] = cycles[c2][j], cycles[c1][i]\n"
      ],
      "metadata": {
        "id": "QevVJEx_3fpm"
      },
      "execution_count": 100,
      "outputs": []
    },
    {
      "cell_type": "code",
      "source": [
        "def steepest_candidate_movements(matrix, visited_1, visited_2, k=10):\n",
        "    N = len(matrix)\n",
        "    cycles = [visited_1, visited_2]\n",
        "\n",
        "    while True:\n",
        "        best_move, best_delta = None, 0\n",
        "        for a in range(N):\n",
        "            for b in np.argpartition(matrix[a], k+1)[:k+1]:\n",
        "                if a == b:\n",
        "                  continue\n",
        "\n",
        "                c1, i = find_cycle(cycles, a)\n",
        "                c2, j = find_cycle(cycles, b)\n",
        "                M, delta = None, None\n",
        "                if c1 == c2:\n",
        "                    delta = calculate_delta(\"edges\", matrix, a, b, cycles[c1], None, i, j)\n",
        "                    M = a, b, \"edges\"\n",
        "                else:\n",
        "                    delta = calculate_delta(\"cycles\", matrix, a, b, cycles[c1], cycles[c2], i, j)\n",
        "                    M = a, b, \"cycles\"\n",
        "                if delta < best_delta:\n",
        "                    best_delta, best_move = delta, M\n",
        "                    \n",
        "        if best_move is None:\n",
        "            break\n",
        "        a, b, typ = best_move\n",
        "        move(typ, a, b, cycles)\n",
        "            \n",
        "    return cycles[0], cycles[1]"
      ],
      "metadata": {
        "id": "qhpfOUs1iiuK"
      },
      "execution_count": 106,
      "outputs": []
    },
    {
      "cell_type": "markdown",
      "source": [
        "## Lokalne przeszukiwania z listą ruchów przynoszących poprawę\n"
      ],
      "metadata": {
        "id": "e09Rh6apRvTA"
      }
    },
    {
      "cell_type": "code",
      "source": [
        "def is_edge(cycle, a, b):\n",
        "  if a in cycle and b in cycle:\n",
        "    return cycle.index(b) - cycle.index(a) if abs(cycle.index(b) - cycle.index(a))==1 else 0\n",
        "  return False\n",
        "\n",
        "def start_moves(matrix, cycles):\n",
        "    moves = []\n",
        "    for k in range(2):\n",
        "        cycle = cycles[k]\n",
        "        n = len(cycle)\n",
        "        for i in range(n):\n",
        "            for j in range(i+1, n):\n",
        "              delta = calculate_delta(\"edges\",matrix, cycle[i], cycle[j], cycle, None, i, j)\n",
        "              if delta<0:\n",
        "                moves.append([delta, cycle[i], cycle[(i+1)%n], cycle[j], cycle[(j+1)%n], \"edges\"])\n",
        "\n",
        "    for i in range(len(cycles[0])):\n",
        "      for j in range(len(cycles[1])):\n",
        "        delta = calculate_delta(\"cycles\",matrix, cycles[0][i], cycles[1][j], cycles[0], cycles[1], i, j)\n",
        "        if delta<0:\n",
        "          n, m = len(cycles[0]), len(cycles[1])\n",
        "          x1, y1, z1 = cycles[0][(i-1)%n], cycles[0][i], cycles[0][(i+1)%n]\n",
        "          x2, y2, z2 = cycles[1][(j-1)%m], cycles[1][j], cycles[1][(j+1)%m]\n",
        "          moves.append([delta, 0, 1, x1, y1, z1, x2, y2, z2, \"cycles\"])\n",
        "    return moves\n",
        " \n",
        "\n",
        "\n",
        "\n",
        "def next_moves(matrix, cycles, typ, a, b):\n",
        "    moves = []\n",
        "    if typ == \"edges\":\n",
        "        cycle = cycles[0] if a in cycles[0] else cycles[1]\n",
        "        n = len(cycle)\n",
        "        I = cycle.index(a)\n",
        "        for i in range(I, n):\n",
        "          for j in range(i+1, n):\n",
        "            delta = calculate_delta(\"edges\",matrix, cycle[i], cycle[j], cycle, None, i, j)\n",
        "            if delta<0:\n",
        "              moves.append([delta, cycle[i], cycle[(i+1)%n], cycle[j], cycle[(j+1)%n], \"edges\"])\n",
        "            delta = calculate_delta(\"edges\",matrix, cycle[j], cycle[i], cycle, None, j, i)\n",
        "            if delta<0:\n",
        "              moves.append([delta, cycle[j], cycle[(j+1)%n], cycle[i], cycle[(i+1)%n], \"edges\"])\n",
        "\n",
        "    elif typ == \"cycles\":\n",
        "        (c1, i), (c2, j) = find_cycle(cycles, a), find_cycle(cycles, b)\n",
        "        n, m = len(cycles[c1]), len(cycles[c2])\n",
        "        for k in range(m):\n",
        "            delta = calculate_delta(\"cycles\",matrix, a, cycles[c2][k], cycles[c1], cycles[c2], i, k)\n",
        "            if delta<0:\n",
        "              x1, y1, z1 = cycles[c1][(i-1)%n], cycles[c1][i], cycles[c1][(i+1)%n]\n",
        "              x2, y2, z2 = cycles[c2][(k-1)%m], cycles[c2][k], cycles[c2][(k+1)%m]\n",
        "              moves.append([delta, c1, c2, x1, y1, z1, x2, y2, z2, \"cycles\"])\n",
        "        for k in range(n):\n",
        "            delta = calculate_delta(\"cycles\",matrix, b, cycles[c1][k], cycles[c2], cycles[c1], j, k)\n",
        "            if delta<0:\n",
        "              x1, y1, z1 = cycles[c2][(j-1)%n], cycles[c2][j], cycles[c2][(j+1)%n]\n",
        "              x2, y2, z2 = cycles[c1][(k-1)%m], cycles[c1][k], cycles[c1][(k+1)%m]\n",
        "              moves.append([delta, c2, c1, x1, y1, z1, x2, y2, z2, \"cycles\"])\n",
        "    return moves"
      ],
      "metadata": {
        "id": "nM1iE8kZgz5a",
        "colab": {
          "base_uri": "https://localhost:8080/"
        },
        "outputId": "bf89b82d-baae-47de-bcc0-3175e65dd3ba"
      },
      "execution_count": 149,
      "outputs": [
        {
          "output_type": "stream",
          "name": "stdout",
          "text": [
            "time: 83.1 ms (started: 2022-05-11 12:46:53 +00:00)\n"
          ]
        }
      ]
    },
    {
      "cell_type": "code",
      "source": [
        "def steepest_list_better_moves(matrix, cycles):\n",
        "    moves = sorted(start_moves(matrix, cycles), key=lambda x: x[0])\n",
        "\n",
        "    while True:\n",
        "        to_remove = []\n",
        "        best_move = None\n",
        "        for k, M in enumerate(moves):\n",
        "\n",
        "            if M[-1] == \"edges\":\n",
        "                _, a, b, c, d, _ = M\n",
        "\n",
        "                c1, s1, c2, s2 = None, False, None, False\n",
        "\n",
        "                for i in range(2):\n",
        "                  status = is_edge(cycles[i], a, b)\n",
        "                  if status: \n",
        "                    c1, s1 = i, status\n",
        "                \n",
        "                \n",
        "                for i in range(2):\n",
        "                  status = is_edge(cycles[i], c, d)\n",
        "                  if status: \n",
        "                    c2, s2 = i, status\n",
        "\n",
        "                if c1 != c2 or False in [s1,s2]:\n",
        "                    to_remove.append(k)\n",
        "                elif s1 == s2 == 1:\n",
        "                    to_remove.append(k)\n",
        "                    best_move = a, c, \"edges\"\n",
        "                    break\n",
        "                elif s1 == s2 == -1:\n",
        "                    to_remove.append(k)\n",
        "                    best_move = b, d, \"edges\"\n",
        "                    break\n",
        "\n",
        "\n",
        "            elif M[-1] == \"cycles\":\n",
        "                _, c1, c2, a, b, c, d, e, f, _ = M\n",
        "                S = [[c1, a, b], [c1, b, c], [c2, d, e], [c2, e, f]]\n",
        "                s = []\n",
        "                for s in S:\n",
        "                  s.append(is_edge(cycles[s[0]], s[1], s[2]))\n",
        "                \n",
        "                if c1 == c2 or False in s:\n",
        "                    to_remove.append(k)\n",
        "                elif s[0] == s[1] and s[2] == s[3]:\n",
        "                    to_remove.append(k)\n",
        "                    best_move = b, e, \"cycles\"\n",
        "                    break\n",
        "                \n",
        "        if best_move is None:\n",
        "            break\n",
        "            \n",
        "        for i in reversed(to_remove):\n",
        "          del(moves[i])\n",
        "\n",
        "        a, b, typ = best_move\n",
        "\n",
        "        move(typ, a, b, cycles)\n",
        "        new_moves = next_moves(matrix, cycles, typ, a, b)\n",
        "       \n",
        "        moves.extend(new_moves)\n",
        "        moves = sorted(moves, key=lambda x: x[0])\n",
        "  \n",
        "        \n",
        "    return cycles"
      ],
      "metadata": {
        "id": "1lSyUkH-gs5o",
        "colab": {
          "base_uri": "https://localhost:8080/"
        },
        "outputId": "9d723482-a1ee-45bf-d462-a94da626933a"
      },
      "execution_count": 140,
      "outputs": [
        {
          "output_type": "stream",
          "name": "stdout",
          "text": [
            "time: 79 ms (started: 2022-05-11 12:22:22 +00:00)\n"
          ]
        }
      ]
    },
    {
      "cell_type": "markdown",
      "source": [
        "## Testowanie algorytmów"
      ],
      "metadata": {
        "id": "VXvpfGthrD8d"
      }
    },
    {
      "cell_type": "code",
      "source": [
        "#load time measurement\n",
        "!pip install ipython-autotime\n",
        "%load_ext autotime"
      ],
      "metadata": {
        "id": "jCLFPnTlEUBG"
      },
      "execution_count": null,
      "outputs": []
    },
    {
      "cell_type": "code",
      "source": [
        "version = verticesA\n",
        "matrix = distance_matrix(version)\n",
        "best_sum = np.inf\n",
        "best = None\n",
        "sums = []\n",
        "\n",
        "for i in range(1):\n",
        "  start_node_1 = i\n",
        "  visited_1, visited_2 = random_heuristic(matrix, start_node_1)\n",
        "  final_visited_1, final_visited_2 = steepest_list_better_moves(matrix, [visited_1, visited_2])\n",
        "  sum = calculate_cycle_length(matrix, [final_visited_1, final_visited_2])\n",
        "  sums.append(sum)\n",
        "  if sum<best_sum:\n",
        "    best = [final_visited_1, final_visited_2]\n",
        "    best_sum = sum\n",
        "\n",
        "print(max(sums))\n",
        "print(min(sums))\n",
        "print(np.mean(sums))\n",
        "draw_plot(version, best, min(sums), \"lepszeRuchyA\")\n",
        "\n"
      ],
      "metadata": {
        "id": "OE_B0oiTF4Ou",
        "colab": {
          "base_uri": "https://localhost:8080/",
          "height": 363
        },
        "outputId": "2e88cc06-20cf-4270-944e-e7821591b742"
      },
      "execution_count": 150,
      "outputs": [
        {
          "output_type": "stream",
          "name": "stdout",
          "text": [
            "48820\n",
            "48820\n",
            "48820.0\n"
          ]
        },
        {
          "output_type": "display_data",
          "data": {
            "text/plain": [
              "<Figure size 432x288 with 1 Axes>"
            ],
            "image/png": "[encoded data removed]"
          },
          "metadata": {
            "needs_background": "light"
          }
        },
        {
          "output_type": "stream",
          "name": "stdout",
          "text": [
            "time: 8.34 s (started: 2022-05-11 12:47:05 +00:00)\n"
          ]
        }
      ]
    },
    {
      "cell_type": "code",
      "source": [
        "version = verticesB\n",
        "matrix = distance_matrix(version)\n",
        "best_sum = np.inf\n",
        "best = None\n",
        "sums = []\n",
        "for i in range(100):\n",
        "  start_node_1 = i\n",
        "  visited_1, visited_2 = random_heuristic(matrix, start_node_1)\n",
        "  final_visited_1, final_visited_2 = steepest_candidate_movements(matrix, visited_1, visited_2)\n",
        "  sum = calculate_cycle_length(matrix, [final_visited_1, final_visited_2])\n",
        "  sums.append(sum)\n",
        "  if sum<best_sum:\n",
        "    best = [final_visited_1, final_visited_2]\n",
        "    best_sum = sum\n",
        "    \n",
        "\n",
        "\n",
        "print(max(sums))\n",
        "print(min(sums))\n",
        "print(np.mean(sums))\n",
        "draw_plot(version, best, min(sums), \"kandydackiB\")\n"
      ],
      "metadata": {
        "id": "FmC9x6QvErwd"
      },
      "execution_count": null,
      "outputs": []
    }
  ],
  "metadata": {
    "interpreter": {
      "hash": "249fd5a58644792e4245b3f3c6a758fe9c331bfbf4bb261136a1fb24bf28b415"
    },
    "kernelspec": {
      "display_name": "Python 3.9.7 ('venv': venv)",
      "language": "python",
      "name": "python3"
    },
    "language_info": {
      "codemirror_mode": {
        "name": "ipython",
        "version": 3
      },
      "file_extension": ".py",
      "mimetype": "text/x-python",
      "name": "python",
      "nbconvert_exporter": "python",
      "pygments_lexer": "ipython3",
      "version": "3.9.7"
    },
    "orig_nbformat": 4,
    "colab": {
      "name": "Kopia notatnika GreedyCycle.ipynb",
      "provenance": [],
      "collapsed_sections": [],
      "include_colab_link": true
    }
  },
  "nbformat": 4,
  "nbformat_minor": 0
}