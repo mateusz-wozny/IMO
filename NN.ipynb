{
  "nbformat": 4,
  "nbformat_minor": 0,
  "metadata": {
    "colab": {
      "name": "IMO.ipynb",
      "provenance": [],
      "collapsed_sections": [],
      "include_colab_link": true
    },
    "kernelspec": {
      "name": "python3",
      "display_name": "Python 3"
    },
    "language_info": {
      "name": "python"
    }
  },
  "cells": [
    {
      "cell_type": "markdown",
      "metadata": {
        "id": "view-in-github",
        "colab_type": "text"
      },
      "source": [
        "<a href=\"https://colab.research.google.com/github/mateusz-wozny/IMO/blob/main/NN.ipynb\" target=\"_parent\"><img src=\"https://colab.research.google.com/assets/colab-badge.svg\" alt=\"Open In Colab\"/></a>"
      ]
    },
    {
      "cell_type": "code",
      "execution_count": 1,
      "metadata": {
        "id": "6EwjWXKQRwSY"
      },
      "outputs": [],
      "source": [
        "import numpy as np\n",
        "import pandas as pd\n",
        "import matplotlib.pyplot as plt\n",
        "import random"
      ]
    },
    {
      "cell_type": "code",
      "source": [
        "kroa100 = pd.read_csv('kroA100.txt', sep=' ', header=None)\n",
        "\n",
        "matrx = np.array(kroa100.iloc[:, 1])\n",
        "matry = np.array(kroa100.iloc[:, 2])\n",
        "N = matrx.shape[0]\n",
        "a = np.ones((N, 1))\n",
        "kron = np.kron(a, matrx)\n",
        "X = (kron - kron.T) ** 2\n",
        "krony = np.kron(a, matry)\n",
        "Y = (krony - krony.T) ** 2\n",
        "dist_mat = np.uint(np.sqrt(X + Y).round(0))"
      ],
      "metadata": {
        "id": "OEy8uJacSbTY"
      },
      "execution_count": 5,
      "outputs": []
    },
    {
      "cell_type": "code",
      "source": [
        "dist_mat"
      ],
      "metadata": {
        "colab": {
          "base_uri": "https://localhost:8080/"
        },
        "id": "nej57AOVW_pq",
        "outputId": "70e1623a-29c7-4013-c3cd-bab430419e92"
      },
      "execution_count": 6,
      "outputs": [
        {
          "output_type": "execute_result",
          "data": {
            "text/plain": [
              "array([[   0, 1693, 2252, ...,  783, 1468, 2643],\n",
              "       [1693,    0, 1708, ..., 1911, 3156, 1831],\n",
              "       [2252, 1708,    0, ..., 1786, 3315,  454],\n",
              "       ...,\n",
              "       [ 783, 1911, 1786, ...,    0, 1535, 2228],\n",
              "       [1468, 3156, 3315, ..., 1535,    0, 3760],\n",
              "       [2643, 1831,  454, ..., 2228, 3760,    0]], dtype=uint64)"
            ]
          },
          "metadata": {},
          "execution_count": 6
        }
      ]
    },
    {
      "cell_type": "code",
      "source": [
        "def index(dist, lista, nieodw):\n",
        "    df = dist[:, lista][nieodw, :]\n",
        "    ind, minim = np.unravel_index(df.argmin(), df.shape)\n",
        "    return nieodw[ind], lista[minim]\n",
        "def nearest_neighbor(dist_mat, start):\n",
        "    end = np.argmax(dist_mat[start, :].flatten())\n",
        "    nieodw = list(range(dist_mat.shape[0]))\n",
        "    nieodw.remove(start)\n",
        "    nieodw.remove(end)\n",
        "    list1 = [start]\n",
        "    list2 = [end]\n",
        "    while len(nieodw) != 0:\n",
        "        ind, minim = index(dist_mat, list1, nieodw)\n",
        "        list1.insert(list1.index(minim) + 1, ind)\n",
        "        nieodw.remove(ind)\n",
        "        ind, minim = index(dist_mat, list2, nieodw)\n",
        "        list2.insert(list2.index(minim) + 1, ind)\n",
        "        nieodw.remove(ind)\n",
        "    list1.append(start)\n",
        "    list2.append(end)\n",
        "    koszt = sum([dist_mat[list1[i], list1[i+1]] for i in range(len(list1)-1)])+sum(\n",
        "        [dist_mat[list2[i], list2[i+1]] for i in range(len(list2)-1)])\n",
        "\n",
        "    return int(koszt)"
      ],
      "metadata": {
        "id": "Ns0biT3GT7b-"
      },
      "execution_count": null,
      "outputs": []
    },
    {
      "cell_type": "code",
      "source": [
        "calk_koszt = []\n",
        "K = 30\n",
        "\n",
        "for _ in range(K):\n",
        "    start = random.randint(0,N-1)\n",
        "    # print(dist_mat[0:3, :])\n",
        "    koszt = nearest_neighbor(dist_mat, start)\n",
        "    # koszt = random_heuristic(dist_mat)\n",
        "    calk_koszt.append(koszt)\n",
        "print(round(sum(calk_koszt) / K), min(calk_koszt), max(calk_koszt))"
      ],
      "metadata": {
        "colab": {
          "base_uri": "https://localhost:8080/"
        },
        "id": "TPBsgQJIUJNr",
        "outputId": "b45bd2df-0268-4363-9f1c-ea6ba9e5c924"
      },
      "execution_count": null,
      "outputs": [
        {
          "output_type": "stream",
          "name": "stdout",
          "text": [
            "32940 28782 35151\n"
          ]
        }
      ]
    },
    {
      "cell_type": "code",
      "source": [
        "def random_heuristic(dist_mat):\n",
        "    N = dist_mat.shape[0]\n",
        "    a = random.sample(range(N), N)\n",
        "    list1 = a[:N//2]\n",
        "    list1.append(list1[0])\n",
        "    list2 = a[N//2:]\n",
        "    list2.append(list2[0])\n",
        "    koszt = sum([dist_mat[list1[i], list1[i + 1]] for i in range(len(list1) - 1)]) + sum(\n",
        "        [dist_mat[list2[i], list2[i + 1]] for i in range(len(list2) - 1)])\n",
        "    plt.plot(kroa100.loc[list1].iloc[:, 1], kroa100.loc[list1].iloc[:, 2])\n",
        "    plt.plot(kroa100.loc[list2].iloc[:, 1], kroa100.loc[list2].iloc[:, 2])\n",
        "    plt.scatter(kroa100.iloc[:, 1], kroa100.iloc[:, 2])\n",
        "    plt.title(f'Koszt={koszt}')\n",
        "    plt.show()\n",
        "    return int(koszt)"
      ],
      "metadata": {
        "id": "TqWLWgeJsFh1"
      },
      "execution_count": null,
      "outputs": []
    }
  ]
}